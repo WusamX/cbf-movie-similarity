{
 "cells": [
  {
   "cell_type": "markdown",
   "metadata": {},
   "source": [
    "We want to preprocess the data so that the named entities are replaced with label tag pairs."
   ]
  },
  {
   "cell_type": "code",
   "execution_count": 12,
   "metadata": {
    "collapsed": false
   },
   "outputs": [
    {
     "name": "stdout",
     "output_type": "stream",
     "text": [
      "showing info https://raw.githubusercontent.com/nltk/nltk_data/gh-pages/index.xml\n"
     ]
    },
    {
     "data": {
      "text/plain": [
       "True"
      ]
     },
     "execution_count": 12,
     "metadata": {},
     "output_type": "execute_result"
    }
   ],
   "source": [
    "nltk.download()"
   ]
  },
  {
   "cell_type": "code",
   "execution_count": 44,
   "metadata": {
    "collapsed": false,
    "scrolled": true
   },
   "outputs": [
    {
     "name": "stdout",
     "output_type": "stream",
     "text": [
      "(PERSON Sean/NNP Boswell/NNP)\n",
      "PERSON\n",
      "NNP\n",
      "('teenager', 'NN')\n"
     ]
    }
   ],
   "source": [
    "import nltk\n",
    "\n",
    "plot = 'An American teenager named Sean Boswell is a loner in school, however he challenges his rival for an ' + \\\n",
    "'illegal street racing, and he totals his car in the end of the race. To avoid time in prison he is sent to ' + \\\n",
    "'Tokyo to live with his father who is in the military. As soon as he arrives he discovers a new, fun but ' + \\\n",
    "'dangerous way of street racing in the underworld of the streets of Tokyo, Japan. Sean Boswell, an Alabama ' + \\\n",
    "'teenager with a record for street racing, moves to his father\\'s resident city of Tokyo, Japan to avoid a ' + \\\n",
    "'prison sentence in America. Boswell quickly falls in love with the world of drift racing in Tokyo\\'s ' + \\\n",
    "'underground and a Japanese girl named Neela. However, Boswell\\'s presence and growing talent for drifting ' + \\\n",
    "'unsettles the Japanese Mafia, which makes thousands of dollars from the sport. Confrontations arise, and ' + \\\n",
    "'Sean is faced with a simple decision: drift or die. After totaling his car in an illegal street race, ' + \\\n",
    "'Shaun Boswell is sent to live with his father, who is in the military, in Tokyo, Japan, to avoid '+ \\\n",
    "'juvy or even jail. While in school, he befriends Twinkie, a \"military brat.\" Twinkie introduces him to ' + \\\n",
    "'the world of racing in Japan. Though forbidden to drive, he decides to race against D.K., the \"Drift King\", ' + \\\n",
    "'who has ties to the Yakuza, and loses, totaling the car because of his lack of knowledge of drifting, ' + \\\n",
    "'racing that involves dangerous hair pin turns. To repay his debt, he enters the underground world of drift ' + \\\n",
    "'street racing. As he becomes better and better, he must finally prove his worth in that world by once again ' + \\\n",
    "'racing D.K. Sean Boswell, who has always been an outsider. A loner at school, his only connection to the ' + \\\n",
    "'indifferent world around him is through illegal street racing -- which has made him particularly unpopular ' + \\\n",
    "'with the local authorities. To avoid jail time, Sean is sent out of the country to live with his Farther in ' + \\\n",
    "'the military, in a cramped apartment in a low-rent section of Tokyo. In the land that gave birth to the ' + \\\n",
    "'majority of modified racers on the road, the simple street race has been replaced by the ultimate ' + \\\n",
    "'pedal-to-the-metal, gravity-defying automotive challenge ... drift racing, a deadly combination of brutal ' + \\\n",
    "'speed on heart stopping courses of hairpin turns and switchbacks. For his first unsuccessful foray in drift ' + \\\n",
    "'racing, Shean unknowingly takes on D.K., the \"Drift King,\" with ties to the Yakuza, the Japanese ' + \\\n",
    "'crime machine. The only way he can pay off the debt of his loss is to venture into the deadly realm of the ' + \\\n",
    "'Tokyo underworld, where the stakes are life and death. To avoid jail time, street racer Sean Boswell is sent ' + \\\n",
    "'to live with his father in Tokyo. There he discovers drift racing. After losing a race to Yakuza-connected ' + \\\n",
    "'D.K., the Drift King, Sean has to enter the Tokyo underworld to find a way to pay his debt.'\n",
    "tokenized = nltk.word_tokenize(plot)\n",
    "tagged = nltk.pos_tag(tokenized)\n",
    "#print(tagged)\n",
    "\n",
    "namedEnt = nltk.ne_chunk(tagged)\n",
    "\n",
    "sean = namedEnt[4]\n",
    "teenager = namedEnt[2]\n",
    "print(namedEnt[4])\n",
    "print(namedEnt[4].label())\n",
    "print(namedEnt[4][0][1])\n",
    "print(namedEnt[2])"
   ]
  },
  {
   "cell_type": "code",
   "execution_count": 50,
   "metadata": {
    "collapsed": false
   },
   "outputs": [
    {
     "data": {
      "text/plain": [
       "\"An GPE_JJ teenager named PERSON_NNP is a loner in school , however he challenges his rival for an illegal street racing , and he totals his car in the end of the race . To avoid time in prison he is sent to GPE_NNP to live with his father who is in the military . As soon as he arrives he discovers a new , fun but dangerous way of street racing in the underworld of the streets of GPE_NNP , GPE_NNP . PERSON_NNP , an GPE_NNP teenager with a record for street racing , moves to his father 's resident city of GPE_NNP , GPE_NNP to avoid a prison sentence in GPE_NNP . PERSON_NNP quickly falls in love with the world of drift racing in GPE_NNP 's underground and a GPE_JJ girl named PERSON_NNP . However , ORGANIZATION_NNP 's presence and growing talent for drifting unsettles the GPE_JJ Mafia , which makes thousands of dollars from the sport . Confrontations arise , and GPE_NNP is faced with a simple decision : drift or die . After totaling his car in an illegal street race , PERSON_NNP is sent to live with his father , who is in the military , in GPE_NNP , GPE_NNP , to avoid juvy or even jail . While in school , he befriends PERSON_NNP , a `` military brat . '' PERSON_NNP introduces him to the world of racing in GPE_NNP . Though forbidden to drive , he decides to race against D.K. , the `` PERSON_NNP '' , who has ties to the GPE_NNP , and loses , totaling the car because of his lack of knowledge of drifting , racing that involves dangerous hair pin turns . To repay his debt , he enters the underground world of drift street racing . As he becomes better and better , he must finally prove his worth in that world by once again racing D.K . PERSON_NNP , who has always been an outsider . A loner at school , his only connection to the indifferent world around him is through illegal street racing -- which has made him particularly unpopular with the local authorities . To avoid jail time , GPE_NNP is sent out of the country to live with his Farther in the military , in a cramped apartment in a low-rent section of GPE_NNP . In the land that gave birth to the majority of modified racers on the road , the simple street race has been replaced by the ultimate pedal-to-the-metal , gravity-defying automotive challenge ... drift racing , a deadly combination of brutal speed on heart stopping courses of hairpin turns and switchbacks . For his first unsuccessful foray in drift racing , GPE_NNP unknowingly takes on D.K. , the `` PERSON_NNP , '' with ties to the GPE_NNP , the GPE_JJ crime machine . The only way he can pay off the debt of his loss is to venture into the deadly realm of the GPE_NNP underworld , where the stakes are life and death . To avoid jail time , street racer PERSON_NNP is sent to live with his father in GPE_NNP . There he discovers drift racing . After losing a race to Yakuza-connected D.K. , the ORGANIZATION_NNP , GPE_NNP has to enter the GPE_NNP underworld to find a way to pay his debt .\""
      ]
     },
     "execution_count": 50,
     "metadata": {},
     "output_type": "execute_result"
    }
   ],
   "source": [
    "def ne(doc):\n",
    "    tokenized = nltk.word_tokenize(doc)\n",
    "    tagged = nltk.pos_tag(tokenized)\n",
    "    namedEnt = nltk.ne_chunk(tagged)\n",
    "    return ' '.join([(e.label()+'_'+e[0][1]) if isinstance(e,nltk.tree.Tree) else e[0] for e in namedEnt])\n",
    "ne(plot)"
   ]
  },
  {
   "cell_type": "code",
   "execution_count": 55,
   "metadata": {
    "collapsed": true
   },
   "outputs": [],
   "source": [
    "import io, json\n",
    "from collections import OrderedDict\n",
    "\n",
    "def load_movies(path):\n",
    "    \"\"\" Loads the data into memory. \"\"\"\n",
    "    with io.open(path, 'r', encoding = 'latin-1') as f:\n",
    "        movies = json.load(f)\n",
    "        od = OrderedDict({(movie['title'],movie['year']):{'plot':movie['plot'],'cast':set(movie['cast']), \\\n",
    "            'genres':set(movie['genres'])} \\\n",
    "            for movie in movies}.items())\n",
    "        return od\n",
    "    \n",
    "def write_movies(movies, path):\n",
    "    with io.open(path, 'w', encoding='latin-1') as f:\n",
    "        data = [{'title':title,'year':year,'plot':val['plot'], 'cast':list(val['cast']), \\\n",
    "                 'genres':list(val['genres'])} for (title,year),val in movies.items()]\n",
    "        f.write(json.dumps(data, ensure_ascii=False))"
   ]
  },
  {
   "cell_type": "code",
   "execution_count": 57,
   "metadata": {
    "collapsed": false
   },
   "outputs": [],
   "source": [
    "movies = load_movies('data.json')\n",
    "for movie, val in movies.items():\n",
    "    plot = val['plot']\n",
    "    val['plot'] = ne(plot)\n",
    "write_movies(movies, 'ne_data.json')"
   ]
  }
 ],
 "metadata": {
  "kernelspec": {
   "display_name": "Python 3",
   "language": "python",
   "name": "python3"
  },
  "language_info": {
   "codemirror_mode": {
    "name": "ipython",
    "version": 3
   },
   "file_extension": ".py",
   "mimetype": "text/x-python",
   "name": "python",
   "nbconvert_exporter": "python",
   "pygments_lexer": "ipython3",
   "version": "3.5.1"
  }
 },
 "nbformat": 4,
 "nbformat_minor": 0
}
