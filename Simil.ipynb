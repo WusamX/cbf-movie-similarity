{
 "cells": [
  {
   "cell_type": "code",
   "execution_count": 1,
   "metadata": {
    "collapsed": false
   },
   "outputs": [
    {
     "data": {
      "text/plain": [
       "array([[-0.42772402]])"
      ]
     },
     "execution_count": 1,
     "metadata": {},
     "output_type": "execute_result"
    }
   ],
   "source": [
    "import sklearn.metrics.pairwise as pw\n",
    "import numpy as np\n",
    "\n",
    "X = np.matrix([1,-13])\n",
    "Y = np.matrix([-34,13])\n",
    "pw.cosine_similarity(X, Y)"
   ]
  },
  {
   "cell_type": "code",
   "execution_count": 2,
   "metadata": {
    "collapsed": false,
    "scrolled": false
   },
   "outputs": [
    {
     "name": "stdout",
     "output_type": "stream",
     "text": [
      "147238\n"
     ]
    }
   ],
   "source": [
    "import io, json\n",
    "from collections import OrderedDict\n",
    "\n",
    "def read_data(path):\n",
    "    with io.open(path, 'r', encoding = 'latin-1') as f:\n",
    "        movies = json.load(f)\n",
    "        return OrderedDict({(movie['title'],int(movie['year'])):movie['plot'] for movie in movies}.items())\n",
    "    \n",
    "movies = read_data('data.json')\n",
    "print(len(movies))"
   ]
  },
  {
   "cell_type": "code",
   "execution_count": 3,
   "metadata": {
    "collapsed": false,
    "scrolled": true
   },
   "outputs": [
    {
     "name": "stdout",
     "output_type": "stream",
     "text": [
      "Number of words in vocabulary: 208140\n"
     ]
    }
   ],
   "source": [
    "from sklearn.feature_extraction.text import CountVectorizer\n",
    "from nltk import word_tokenize          \n",
    "from nltk.stem import WordNetLemmatizer \n",
    "class LemmaTokenizer(object):\n",
    "    def __init__(self):\n",
    "        self.wnl = WordNetLemmatizer()\n",
    "    def __call__(self, doc):\n",
    "        return [self.wnl.lemmatize(t) for t in word_tokenize(doc)]\n",
    "vectorizer = CountVectorizer(analyzer = \"word\",   \\\n",
    "                             tokenizer = None,    \\\n",
    "                             preprocessor = None, \\\n",
    "                             stop_words = 'english') \n",
    "feat_vec = vectorizer.fit_transform(movies.values())\n",
    "vocab = vectorizer.get_feature_names()\n",
    "print('Number of words in vocabulary:', len(vocab))"
   ]
  },
  {
   "cell_type": "code",
   "execution_count": 4,
   "metadata": {
    "collapsed": false,
    "scrolled": true
   },
   "outputs": [
    {
     "name": "stdout",
     "output_type": "stream",
     "text": [
      "('Easy A', 2010)\n",
      "-2.22044604925e-16\n",
      "After a little white lie about losing her virginity gets out, a clean cut high school girl sees her life paralleling Hester Prynne's in \"The Scarlet Letter,\" which she is currently studying in school - until she decides to use the rumor mill to advance her social and financial standing. High school student Olive Penderghast (Emma Stone) finds herself the victim of her school's \"rumor mill\" when she lies to her best friend Rhiannon (Alyson Michalka) about a weekend tryst with a fictional college freshman. Word quickly spreads of Olive's promiscuity and, much to her surprise, she welcomes the attention. When she agrees to help out a bullied friend by pretending to sleep with him, her image rapidly degrades to a more lascivious state and her world begins to spin out of control. As she helps more and more of her classmates and her lies continue to escalate, Olive must find a way to save face before the school's religious fanatic Marianne (Amanda Bynes) gets her expelled and she loses a shot at attaining her own happiness. In California, the virgin student Olive Penderghast feels anonymous in the high school where she studies. When her best friend Rhiannon invites her to spend the weekend with her family, Olive lies and tells that she will have a date with a nonexistent community college student. On the next Monday, Rhiannon goes to the bathroom with Olive and asks how her encounter was and Olive lies, telling that she lost her virginity in the weekend with her fictitious boyfriend. However, one school mate overhears their conversation and spreads the rumor about Olive's promiscuity. The religious fanatic Marianne blames her and out of the blue. Olive becomes a notorious student. Meanwhile, Olive is studying \"The Scarlet Letter\" in the English class and she identifies herself like Hester Prynne, the woman condemned by her Puritan neighbors in Nathaniel Hawthorne's novel. Olive discloses the truth to her bullied gay friend Brandon and suggests him to also lie that he had slept with a girl. Brandon asks Olive to help him and she pretends to have sex with him in a party. Then other outcast boys offer to pay Olive to improve their images while Olive's reputation degrades. When Olive loses control of the situation, she needs to take an attitude to revert it.\n",
      "('Olive Unleashed', 2014)\n",
      "0.64520522185\n",
      "Olive Unleashed follows the story of America's New 'It Girl', a rescue Chihuahua named Olive. Controversial, sought after and elusive Olive has been crowned the newest member of Hollywood elite - breaking box office records she is in demand and at times...in trouble. Reporter Lupita Garcia Rosenberg looks to uncover who the real Olive is in this provocative short film. Her cadre of handlers are interviewed shedding light on the elusive star. The film culminates with an exclusive interview with Olive and a personal statement that sheds light on what motivates the star that has the world captivated.\n",
      "('In the Spotlight', 2007)\n",
      "0.649260152486\n",
      "Olive Clutch, an aspiring writer confronts rejection with her own work. At an open mic, she meets femme fatale Kate Lady Luck and author Bell Wartock. The pair solicits Olive to be the slightly disguised public persona for Bell's writing. Five years and three successful novels later, Olive's disguise wears thin on several of Wartock's book jackets. Olive wants to quit pretending that she is the author, but there is only one way to end the grift. Bell takes over Olive's life and death in this sordid film noir fairy tale inspired by real events.\n",
      "('Teenagers', 2014)\n",
      "0.600368194921\n",
      "T and his friend ponder racism in modern society. Later, T's older brother, Ricky, forces T to hold onto a pound of weed for him. Ash goes to a sex clinic and meets the eccentric Doctor Chang, and it isn't long before the Chlamydia rumours start spreading around the school. Jeremy and his gang beat up T in the back parking lot of the school, threatening to kill him if he touches Olive again. T, battered and bruised, goes home to his Mother, who reveals that he has received a scholarship for University. Bree and Ash go to see Doctor Chang, where it is confirmed that Bree also has Chlamydia. Bree takes the news badly. Jeremy then confronts Olive, slapping her, and leaving her on the side of the road. After T ignores her call, Olive finds solace in Sara's arms. Bree's secrets pile up as she finds out that she has been cured of her Chlamydia, leading her to question her feelings for Ash, who finds out there are 'complications' with his infection. Jeremy seeks out revenge against T, while Sara tries to tell Olive how she really feels. Ricky's drug dealers lend T a visit, looking for the weed Ricky stole, ultimately leading to a violent, emotional confrontation that changes all of their lives forever. When confronted with the chance to get back at Jeremy, T decides to take the high road. Bree finally tells Olive and Sara that she had sex, and also reveals to them that she has Chlamydia. The three girls bond over mutual honesty. Ash convinces Bree to keep their relationship hidden; however, after he ignores her at school, she agrees to be his ex-friend Gabriel's partner for a class project. Ash takes Bree's virginity and she becomes awakened to her burgeoning sexuality, while Ash feels something he's never felt before. T discovers that his crush, Olive, is in a relationship with the racist school bully, Jeremy, while Sara is revealed to have secret feelings for Olive as well. In the final scene, Ash goes to visit Mellisa where she turns his life upside down. Bree struggles with peer pressure as her friends Olive and Sara lead her into trouble. Ash, the school heartthrob, receives a mysterious phone call from his old fling Mellisa. T, a quiet pizza boy, becomes smitten when he delivers a pizza to a half-naked Olive. Ash's friend, Gabriel, shuns him after he finds out about the STI rumours. T finds Olive crying in the stairwell at school and offers her a shoulder to cry on. Ash apologizes to Bree for potentially infecting her, and she reluctantly agrees to let him go to the sex clinic with her. Later, T smokes weed for the first time with Olive, and they make love in her garage. Gabriel makes a move on Bree during their study session. T and Olive get back together, and Jeremy sees them kissing in the hallway. He then confronts Olive, who rejects him. Bree warns Jeremy about touching Olive again, sending Jeremy into a violent, nostalgic rampage. Later, T comes home to find his Mother crying, and she reveals that Ricky was attacked and is now in the hospital. Bree debates telling Ash about her and Gabriel's study session.\n",
      "('Olive Kitteridge', 2014)\n",
      "0.623262164306\n",
      "A look at a seemingly placid New England town that is actually wrought with illicit affairs, crime and tragedy, all told through the lens of Olive, whose wicked wit and harsh demeanor mask a warm but troubled heart and staunch moral center. The story spans 25 years and focuses on Olive's relationships with her husband, Henry, the good-hearted and kindly town pharmacist; their son, Christopher, who resents his mother's approach to parenting; and other members of their community. Outspoken middle school teacher Olive has a complex relationship with husband Henry, a good-hearted, selfless pharmacist. She is very critical, and he finds her harsh and hurtful, yet each has traits the other adores, but their son, Christopher, resents her behavior and hates his dad being a victim. The program depicts life in a coastal town and the affects of mental illness. Olive Kitteridge is a misanthropic and strict, but well-meaning, retired schoolteacher who lives in the fictional seaside town of Crosby, Maine. She is married to Henry Kitteridge, a kind, considerate man who runs a pharmacy downtown, and has a troubled son named Christopher, who grows up to be a podiatrist. For 25 years, Olive has experienced problems of depression, bereavement, jealousy, and friction with family members and friends. Both Olive and Frank are saddened when they receive a call from Christopher, now living in California, to say that he and Suzanne are getting a divorce. He also makes it clear that he won't be coming home anytime soon. The need for an urgent trip to bathroom find Olive stopping in at the local hospital to use their facilities but leads to something far more serious when two gun-toting addicts arrive looking for drugs. It leads to Olive and Henry having a major argument, blaming each other for Christopher having left home. She also reveals that she was once going to leave him. Christopher suggests they have counseling after their ordeal but Olive won't hear of it. After Henry suffers a stroke some months later, he is in home care. Christopher tells his mother just what he thinks of his childhood. The years have passed and Kevin Coulson, now studying to be a psychiatrist, returns to town. He still has issues over his mother Rachel's suicide and has his own mental health issues to deal with. Olive's son Christopher is about to marry and she invites Kevin to attend the rehearsal dinner they're having that night. Not surprisingly, Olive dislikes her future daughter-in-law, Suzanne, as well as her prospective in-laws. She invites Kevin to stay with them and invite him to the wedding the next day which has a few problems of its own. Olive Kitteridge is a no-nonsense high school math teacher who doesn't stand fools gladly and never hesitates to express an opinion, no matter how much hurt she might cause. She treats her husband Henry with indifference and is downright nasty to her son Christopher who can never please her. Henry is the local pharmacist and after his long-time assistant dies from a stroke he hires a quiet young woman, Denise Thibodeau, whose husband is also called Henry. The two Henrys go hunting with a third man but tragedy strikes. The only person Olive can seemingly be nice to is Kevin Coulson, whose mother Rachel suffers from bipolar disorder. Olive visits Christopher and his new wife Ann in New York City but relations continue to be strained. She likes Ann more than she liked Christopher's first wife but is still at her judgmental worse when it comes to Ann's two children from previous relationships or her housekeeping skills. When she decides to leave and he doesn't try to stop her she accuses him of forcing her out. It leads to another bout of accusations all around with Olive refusing to understand just how horrible a mother she was. She returns home to bad news. Some 6 months later the widowed Olive meets Jack Kennison, a widower, and they find a way to go forward together.\n",
      "('Olive, the Other Reindeer', 1999)\n",
      "0.655255705435\n",
      "After mis-hearing a radio broadcast about Santa canceling his Christmas trip due to an injured reindeer, Olive the dog decides to travel to the North Pole and volunteer to be a replacement. Unfortunately, Olive must deal with an evil postman who's tired of handling all the extra Christmas mail. Will Martini the penguin be able to help Olive realize her dream? Later Olive and Martini the penguin get on a bus to get to the North Pole. Olive is stopped by the postman and Martini has to save her. Olive gets on the bus with Martini and meets the bus driver Richard Stands. Later the bus stops at aortic junction where the postman meets up with them. The postman (disguised as a waitress) tricks Olive and captures her. Later, locked up in the back of the postman's truck, Olive finds a package to her from Deus ex Machine (which describes an artificial or improbable character, device, or event introduced suddenly in a work of fiction or drama to resolve a situation or untangle a plot). She uses the metal file inside to escape. When she gets back to aortic junction, she finds out she and Martini have missed the bus to the North Pole. They hitch a ride from a man in a bar named Round John Virgin. When they arrive at the pole, the guard at the gate won't let them in. Martini leaves the guard a watch that says it is from Santa Claus. Martini pretends he is a watch repair man, and tricks the guard into turning off the alarms on the fence so Olive can get inside. Olive meets Santa Claus and Santa gives her the job. When they get to the first house, they discover that the postman had taken the toys and replaced them with junk mail. Olive leads Santa to the postman to get back the presents and finds out that the postman took Martini too. The postman gets defeated and Olive saves Christmas. This is the story of a kind-hearted female dog named Olive who doesn't act at all like a dog. When she returns home from some errands, she finds her owner, Tim, putting away Christmas decorations and announcing morosely that there \"won't be any Christmas\". She then meets Martini, a smooth-talking con artist penguin. After buying from him a \"Rolexxx,\" And they set out on an adventure to save Christmas when she hears that Blitzen is injured and Santa can't find a replacement! As Olive heads for the North Pole to join the flying reindeer team - but along the way, they must defeat an evil mailman named Postman who wants to end Christmas so he can carry less mail!\n"
     ]
    }
   ],
   "source": [
    "import math\n",
    "\n",
    "def similar_vectors(X, v, n = 6, batch_size = 10000):\n",
    "    num_vecs = X.shape[0]\n",
    "    num_batches = math.ceil(num_vecs/batch_size)\n",
    "    min_indices = np.zeros(num_batches*n, dtype=np.int)\n",
    "    min_dists = np.ones(num_batches*n, dtype=np.float)\n",
    "    for batch in range(num_batches):\n",
    "        dists = pw.pairwise_distances(X[batch*batch_size:min((batch+1)*batch_size,num_vecs)], \\\n",
    "                                      v, metric='cosine')\n",
    "        ind_min = np.argpartition(dists[:,0], n)[:n]\n",
    "        min_indices[batch*n:(batch+1)*n] = ind_min + batch*batch_size\n",
    "        min_dists[batch*n:(batch+1)*n] = dists[ind_min][:,0]\n",
    "    ind_min = np.argpartition(min_dists, n)[:n]   \n",
    "    best_ind = min_indices[ind_min]\n",
    "    best_dist = min_dists[ind_min]\n",
    "    return best_ind, best_dist\n",
    "    \n",
    "def similar_movies(title, feat_vec, vectorizer, n = 6):\n",
    "    v = vectorizer.transform([movies[title]])\n",
    "    best_ind, best_dist = similar_vectors(feat_vec, v, n)\n",
    "    key_list = list(movies.keys())\n",
    "    for i in range(n):\n",
    "        sim_title = key_list[best_ind[i]]\n",
    "        print(sim_title)\n",
    "        print(best_dist[i])\n",
    "        print(movies[sim_title])\n",
    "    \n",
    "similar_movies(('Easy A',2010),feat_vec,vectorizer)"
   ]
  },
  {
   "cell_type": "code",
   "execution_count": 14,
   "metadata": {
    "collapsed": false,
    "scrolled": false
   },
   "outputs": [
    {
     "name": "stdout",
     "output_type": "stream",
     "text": [
      "('Olive Prepares', 2008)\n",
      "0.5319884352\n",
      "Olive Prepares was inspired by, and is based on, time I spent working at home as an artist, living with fellow animator and filmmaker Helen Hill. Olive has spent too long cooped up by herself trying to make art. She starts to see things as drawn animation. Then, a new tenant catches Olive in an intriguing position, is curious and invites her to tea. The invitation adds panic to Olive's already crazy self, but after awhile there's nothing for her to do but embrace her surreal world, take a breath and go upstairs.\n",
      "('Olive Kitteridge', 2014)\n",
      "0.519125160644\n",
      "A look at a seemingly placid New England town that is actually wrought with illicit affairs, crime and tragedy, all told through the lens of Olive, whose wicked wit and harsh demeanor mask a warm but troubled heart and staunch moral center. The story spans 25 years and focuses on Olive's relationships with her husband, Henry, the good-hearted and kindly town pharmacist; their son, Christopher, who resents his mother's approach to parenting; and other members of their community. Outspoken middle school teacher Olive has a complex relationship with husband Henry, a good-hearted, selfless pharmacist. She is very critical, and he finds her harsh and hurtful, yet each has traits the other adores, but their son, Christopher, resents her behavior and hates his dad being a victim. The program depicts life in a coastal town and the affects of mental illness. Olive Kitteridge is a misanthropic and strict, but well-meaning, retired schoolteacher who lives in the fictional seaside town of Crosby, Maine. She is married to Henry Kitteridge, a kind, considerate man who runs a pharmacy downtown, and has a troubled son named Christopher, who grows up to be a podiatrist. For 25 years, Olive has experienced problems of depression, bereavement, jealousy, and friction with family members and friends. Both Olive and Frank are saddened when they receive a call from Christopher, now living in California, to say that he and Suzanne are getting a divorce. He also makes it clear that he won't be coming home anytime soon. The need for an urgent trip to bathroom find Olive stopping in at the local hospital to use their facilities but leads to something far more serious when two gun-toting addicts arrive looking for drugs. It leads to Olive and Henry having a major argument, blaming each other for Christopher having left home. She also reveals that she was once going to leave him. Christopher suggests they have counseling after their ordeal but Olive won't hear of it. After Henry suffers a stroke some months later, he is in home care. Christopher tells his mother just what he thinks of his childhood. The years have passed and Kevin Coulson, now studying to be a psychiatrist, returns to town. He still has issues over his mother Rachel's suicide and has his own mental health issues to deal with. Olive's son Christopher is about to marry and she invites Kevin to attend the rehearsal dinner they're having that night. Not surprisingly, Olive dislikes her future daughter-in-law, Suzanne, as well as her prospective in-laws. She invites Kevin to stay with them and invite him to the wedding the next day which has a few problems of its own. Olive Kitteridge is a no-nonsense high school math teacher who doesn't stand fools gladly and never hesitates to express an opinion, no matter how much hurt she might cause. She treats her husband Henry with indifference and is downright nasty to her son Christopher who can never please her. Henry is the local pharmacist and after his long-time assistant dies from a stroke he hires a quiet young woman, Denise Thibodeau, whose husband is also called Henry. The two Henrys go hunting with a third man but tragedy strikes. The only person Olive can seemingly be nice to is Kevin Coulson, whose mother Rachel suffers from bipolar disorder. Olive visits Christopher and his new wife Ann in New York City but relations continue to be strained. She likes Ann more than she liked Christopher's first wife but is still at her judgmental worse when it comes to Ann's two children from previous relationships or her housekeeping skills. When she decides to leave and he doesn't try to stop her she accuses him of forcing her out. It leads to another bout of accusations all around with Olive refusing to understand just how horrible a mother she was. She returns home to bad news. Some 6 months later the widowed Olive meets Jack Kennison, a widower, and they find a way to go forward together.\n",
      "('In the Spotlight', 2007)\n",
      "0.561073079678\n",
      "Olive Clutch, an aspiring writer confronts rejection with her own work. At an open mic, she meets femme fatale Kate Lady Luck and author Bell Wartock. The pair solicits Olive to be the slightly disguised public persona for Bell's writing. Five years and three successful novels later, Olive's disguise wears thin on several of Wartock's book jackets. Olive wants to quit pretending that she is the author, but there is only one way to end the grift. Bell takes over Olive's life and death in this sordid film noir fairy tale inspired by real events.\n",
      "('Easy A', 2010)\n",
      "-2.22044604925e-16\n",
      "After a little white lie about losing her virginity gets out, a clean cut high school girl sees her life paralleling Hester Prynne's in \"The Scarlet Letter,\" which she is currently studying in school - until she decides to use the rumor mill to advance her social and financial standing. High school student Olive Penderghast (Emma Stone) finds herself the victim of her school's \"rumor mill\" when she lies to her best friend Rhiannon (Alyson Michalka) about a weekend tryst with a fictional college freshman. Word quickly spreads of Olive's promiscuity and, much to her surprise, she welcomes the attention. When she agrees to help out a bullied friend by pretending to sleep with him, her image rapidly degrades to a more lascivious state and her world begins to spin out of control. As she helps more and more of her classmates and her lies continue to escalate, Olive must find a way to save face before the school's religious fanatic Marianne (Amanda Bynes) gets her expelled and she loses a shot at attaining her own happiness. In California, the virgin student Olive Penderghast feels anonymous in the high school where she studies. When her best friend Rhiannon invites her to spend the weekend with her family, Olive lies and tells that she will have a date with a nonexistent community college student. On the next Monday, Rhiannon goes to the bathroom with Olive and asks how her encounter was and Olive lies, telling that she lost her virginity in the weekend with her fictitious boyfriend. However, one school mate overhears their conversation and spreads the rumor about Olive's promiscuity. The religious fanatic Marianne blames her and out of the blue. Olive becomes a notorious student. Meanwhile, Olive is studying \"The Scarlet Letter\" in the English class and she identifies herself like Hester Prynne, the woman condemned by her Puritan neighbors in Nathaniel Hawthorne's novel. Olive discloses the truth to her bullied gay friend Brandon and suggests him to also lie that he had slept with a girl. Brandon asks Olive to help him and she pretends to have sex with him in a party. Then other outcast boys offer to pay Olive to improve their images while Olive's reputation degrades. When Olive loses control of the situation, she needs to take an attitude to revert it.\n",
      "('Olive Unleashed', 2014)\n",
      "0.526236506362\n",
      "Olive Unleashed follows the story of America's New 'It Girl', a rescue Chihuahua named Olive. Controversial, sought after and elusive Olive has been crowned the newest member of Hollywood elite - breaking box office records she is in demand and at times...in trouble. Reporter Lupita Garcia Rosenberg looks to uncover who the real Olive is in this provocative short film. Her cadre of handlers are interviewed shedding light on the elusive star. The film culminates with an exclusive interview with Olive and a personal statement that sheds light on what motivates the star that has the world captivated.\n",
      "('Olive, the Other Reindeer', 1999)\n",
      "0.589275121746\n",
      "After mis-hearing a radio broadcast about Santa canceling his Christmas trip due to an injured reindeer, Olive the dog decides to travel to the North Pole and volunteer to be a replacement. Unfortunately, Olive must deal with an evil postman who's tired of handling all the extra Christmas mail. Will Martini the penguin be able to help Olive realize her dream? Later Olive and Martini the penguin get on a bus to get to the North Pole. Olive is stopped by the postman and Martini has to save her. Olive gets on the bus with Martini and meets the bus driver Richard Stands. Later the bus stops at aortic junction where the postman meets up with them. The postman (disguised as a waitress) tricks Olive and captures her. Later, locked up in the back of the postman's truck, Olive finds a package to her from Deus ex Machine (which describes an artificial or improbable character, device, or event introduced suddenly in a work of fiction or drama to resolve a situation or untangle a plot). She uses the metal file inside to escape. When she gets back to aortic junction, she finds out she and Martini have missed the bus to the North Pole. They hitch a ride from a man in a bar named Round John Virgin. When they arrive at the pole, the guard at the gate won't let them in. Martini leaves the guard a watch that says it is from Santa Claus. Martini pretends he is a watch repair man, and tricks the guard into turning off the alarms on the fence so Olive can get inside. Olive meets Santa Claus and Santa gives her the job. When they get to the first house, they discover that the postman had taken the toys and replaced them with junk mail. Olive leads Santa to the postman to get back the presents and finds out that the postman took Martini too. The postman gets defeated and Olive saves Christmas. This is the story of a kind-hearted female dog named Olive who doesn't act at all like a dog. When she returns home from some errands, she finds her owner, Tim, putting away Christmas decorations and announcing morosely that there \"won't be any Christmas\". She then meets Martini, a smooth-talking con artist penguin. After buying from him a \"Rolexxx,\" And they set out on an adventure to save Christmas when she hears that Blitzen is injured and Santa can't find a replacement! As Olive heads for the North Pole to join the flying reindeer team - but along the way, they must defeat an evil mailman named Postman who wants to end Christmas so he can carry less mail!\n"
     ]
    }
   ],
   "source": [
    "from sklearn.feature_extraction.text import TfidfVectorizer\n",
    "tfidf_vectorizer = TfidfVectorizer(analyzer = \"word\",   \\\n",
    "                             tokenizer = None,    \\\n",
    "                             preprocessor = None, \\\n",
    "                             stop_words = 'english') \n",
    "tfidf_vec = tfidf_vectorizer.fit_transform(movies.values())\n",
    "\n",
    "similar_movies(('Easy A',2010),tfidf_vec,tfidf_vectorizer)"
   ]
  },
  {
   "cell_type": "code",
   "execution_count": 14,
   "metadata": {
    "collapsed": false,
    "scrolled": true
   },
   "outputs": [
    {
     "name": "stdout",
     "output_type": "stream",
     "text": [
      "('Easy A', 2010)\n",
      "2.22044604925e-16\n",
      "After a little white lie about losing her virginity gets out, a clean cut high school girl sees her life paralleling Hester Prynne's in \"The Scarlet Letter,\" which she is currently studying in school - until she decides to use the rumor mill to advance her social and financial standing. High school student Olive Penderghast (Emma Stone) finds herself the victim of her school's \"rumor mill\" when she lies to her best friend Rhiannon (Alyson Michalka) about a weekend tryst with a fictional college freshman. Word quickly spreads of Olive's promiscuity and, much to her surprise, she welcomes the attention. When she agrees to help out a bullied friend by pretending to sleep with him, her image rapidly degrades to a more lascivious state and her world begins to spin out of control. As she helps more and more of her classmates and her lies continue to escalate, Olive must find a way to save face before the school's religious fanatic Marianne (Amanda Bynes) gets her expelled and she loses a shot at attaining her own happiness. In California, the virgin student Olive Penderghast feels anonymous in the high school where she studies. When her best friend Rhiannon invites her to spend the weekend with her family, Olive lies and tells that she will have a date with a nonexistent community college student. On the next Monday, Rhiannon goes to the bathroom with Olive and asks how her encounter was and Olive lies, telling that she lost her virginity in the weekend with her fictitious boyfriend. However, one school mate overhears their conversation and spreads the rumor about Olive's promiscuity. The religious fanatic Marianne blames her and out of the blue. Olive becomes a notorious student. Meanwhile, Olive is studying \"The Scarlet Letter\" in the English class and she identifies herself like Hester Prynne, the woman condemned by her Puritan neighbors in Nathaniel Hawthorne's novel. Olive discloses the truth to her bullied gay friend Brandon and suggests him to also lie that he had slept with a girl. Brandon asks Olive to help him and she pretends to have sex with him in a party. Then other outcast boys offer to pay Olive to improve their images while Olive's reputation degrades. When Olive loses control of the situation, she needs to take an attitude to revert it.\n",
      "('Sex & the Single Mom', 2003)\n",
      "0.00367696028568\n",
      "Jess is a single mother who has always been close to her 15-year-old daughter Sara. When Sara thinks about having sex with her new boyfriend, Jess gets overprotective. But then, Jess meets a newly single doctor and has an affair, while forgetting what she has tried to teach her daughter. The consequences are heavy and starts to tear her and her daughter apart.\n",
      "('A Guy Thing', 2003)\n",
      "0.00395083230192\n",
      "When he wakes up the morning after his bachelor party in bed with a strange woman, a man presumes he must have cheated on his fiancée. Guilt leads him to try to cover it up in the week before the wedding, high jinks ensue.\n",
      "('Leave It to Niecy', 2012)\n",
      "0.00401256568234\n",
      "Niecy tries to force her kids to bond with her new husband, but the kids are sick of their mother forcing them into awkward situations. Meanwhile Niecy's mother wants to start dating again and Niecy must decide if she is willing to help find her a man.\n",
      "('Too Young to Marry', 2007)\n",
      "0.00547618743191\n",
      "Connecticut high school students Max Doyle and Jessica Carpenter fall in love and feel making love isn't enough, so they brave everyone's objections and get married. Jess gets accepted at Harvard, to pursue her lifelong ambition to become an orthopedic surgeon; Max decides against accepting any other college and waits for another chance to get in, meanwhile taking a job in construction so he can still be together. Still they really spend most time apart, she even sort of falls for fellow student Carter, who is also a gifted guitarist-singer. When Max announces college is no longer his firm resolve, she blames him for changing their plans, too much ingratitude even for his love to swallow... Max Doyle and Jessica Carpenter, in love with each other, are high school seniors in a small Connecticut town. They have their immediate future all planned: they will both attend Harvard after they graduate so that they can be together. Their plan hits a snag when overachieving Jess is accepted into Harvard, but Max's application is deferred, although he is accepted into five other post-secondary institutions, the closest to Harvard being three hundred miles away. This snag leads to an impromptu engagement between the two. They want to emulate Max's parents marriage, they who also married young and are seemingly happy. They also want to show that being older does not guarantee marriage happiness, as Jess' parents are going through a nasty divorce. Their converse argument is that being young and in love will lead to a better marriage than Jess' parents. Despite each set of parents truly liking their potential daughter-in-law or son-in-law, the parents are split on whether to give their blessing to this marriage. It doesn't matter for eighteen year old of-age Max, but underage seventeen year old Jess needs at least one parent to provide consent. If they are able to go through with the marriage, Max and Jess need to decide what to do, their options being to have a long distance relationship, for Jess to forgo Harvard to attend one of Max's schools, or for Max to move to Boston and work in the meantime. Their plan still is for Max to work his way into ultimately getting accepted into Harvard regardless. Will Max and Jess' relationship be able to withstand these pressures, will they be able to prove their naysayers wrong, or are they indeed too young and irresponsible to deal with the more adult issues that go along with marriage?\n",
      "('American Vampire', 2009)\n",
      "0.00538683204091\n",
      "Amber a young up & coming model gets her first paying gig where she befriends two models Eliza & Beth & their agent Elizabeth. The three young models have great chemistry leading Elizabeth to invite Amber to a party at there home. Amber later discovers that her new found friends have a secret. Will she join them?\n"
     ]
    }
   ],
   "source": [
    "from sklearn.decomposition import LatentDirichletAllocation\n",
    "\n",
    "def similar_movies2(title, feat_vec, vectorizer, vectorizer2, n = 6):\n",
    "    v = vectorizer2.transform(vectorizer.transform([movies[title]]))\n",
    "    best_ind, best_dist = similar_vectors(feat_vec, v, n)\n",
    "    key_list = list(movies.keys())\n",
    "    for i in range(n):\n",
    "        sim_title = key_list[best_ind[i]]\n",
    "        print(sim_title)\n",
    "        print(best_dist[i])\n",
    "        print(movies[sim_title])\n",
    "\n",
    "n_topics = 20\n",
    "lda = LatentDirichletAllocation(n_topics=n_topics, max_iter=4,\n",
    "                                learning_method='online', learning_offset=50.,\n",
    "                                random_state=0)\n",
    "lda_vec = lda.fit_transform(feat_vec)\n",
    "similar_movies2(('Easy A',2010),lda_vec,vectorizer,lda)"
   ]
  },
  {
   "cell_type": "code",
   "execution_count": 51,
   "metadata": {
    "collapsed": false,
    "scrolled": false
   },
   "outputs": [
    {
     "name": "stdout",
     "output_type": "stream",
     "text": [
      "Topic  1: ['way', 'house', 'like', 'make', 'home', 'big', 'day', 'time', 'just', 'new']\n",
      "Topic  2: ['demon', 'zombie', 'world', 'joey', 'evil', 'hunter', 'fight', 'nick', 'battle', 'vs']\n",
      "Topic  3: ['cooking', 'chicken', 'bruce', 'cook', 'al', 'food', 'jeff', 'restaurant', 'qv', 'host']\n",
      "Topic  4: ['audrey', 'virtual', 'damon', 'uld', 'thriller', 'logan', 'robot', 'japan', 'japanese', 'computer']\n",
      "Topic  5: ['tyler', 'powers', 'angel', 'jesse', 'jack', 'tony', 'tom', 'jonathan', 'luke', 'evil']\n",
      "Topic  6: ['years', 'lives', 'world', 'man', 'love', 'story', 'old', 'family', 'life', 'young']\n",
      "Topic  7: ['lana', 'arthur', 'queen', 'gold', 'el', 'boxing', 'royal', 'prince', 'castle', 'king']\n",
      "Topic  8: ['alex', 'wedding', 'high', 'sex', 'relationship', 'new', 'love', 'school', 'marriage', 'party']\n",
      "Topic  9: ['isis', 'vampires', 'beast', 'calvin', 'count', 'spongebob', 'goa', 'vampire', 'blood', 'moon']\n",
      "Topic  10: ['contestants', 'teams', 'win', 'game', 'competition', 'season', 'chris', 'team', 'week', 'challenge']\n",
      "Topic  11: ['british', 'indian', 'church', 'native', 'city', 'london', 'american', 'south', 'community', 'india']\n",
      "Topic  12: ['poem', 'jen', 'olivia', 'professor', 'kai', 'erik', 'malcolm', 'ron', 'jake', 'jacob']\n",
      "Topic  13: ['industrial', 'brown', 'neil', 'lifestyles', 'sir', 'fran', 'richard', 'filmmakers', 'drew', 'backdrop']\n",
      "Topic  14: ['darcy', 'pizza', 'nene', 'zoey', 'annelotte', 'luna', 'deb', 'jessie', 'ash', 'rusty']\n",
      "Topic  15: ['help', 'monster', 'carter', 'animal', 'animals', 'ghost', 'dog', 'kids', 'discover', 'cat']\n",
      "Topic  16: ['tells', 'goes', 'job', 'finds', 'wants', 'help', 'tries', 'gets', 'time', 'decides']\n",
      "Topic  17: ['nicole', 'crew', 'coast', 'island', 'sea', 'australian', 'henry', 'australia', 'sydney', 'ship']\n",
      "Topic  18: ['crime', 'team', 'dead', 'killed', 'killer', 'murder', 'police', 'case', 'death', 'man']\n",
      "Topic  19: ['life', 'series', 'interviews', 'art', 'story', 'world', 'new', 'music', 'film', 'documentary']\n",
      "Topic  20: ['mission', 'years', 'government', 'human', 'planet', 'world', 'people', 'new', 'war', 'earth']\n"
     ]
    }
   ],
   "source": [
    "n_topics = 20\n",
    "def list_topics(lda, vocab, n_topics, n_words = 10):\n",
    "    for n in range(n_topics):\n",
    "        top_inds = np.argpartition(lda.components_[n], -n_words)[-n_words:]\n",
    "        topics = [vocab[i] for i in top_inds]\n",
    "        print('Topic ',str(n+1)+':',topics)\n",
    "        \n",
    "list_topics(lda, vocab, n_topics)"
   ]
  }
 ],
 "metadata": {
  "kernelspec": {
   "display_name": "Python 3",
   "language": "python",
   "name": "python3"
  },
  "language_info": {
   "codemirror_mode": {
    "name": "ipython",
    "version": 3
   },
   "file_extension": ".py",
   "mimetype": "text/x-python",
   "name": "python",
   "nbconvert_exporter": "python",
   "pygments_lexer": "ipython3",
   "version": "3.5.1"
  }
 },
 "nbformat": 4,
 "nbformat_minor": 0
}
