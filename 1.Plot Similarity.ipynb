{
 "cells": [
  {
   "cell_type": "markdown",
   "metadata": {},
   "source": [
    "We will look at how plot similarity works using cosine similarities."
   ]
  },
  {
   "cell_type": "code",
   "execution_count": 1,
   "metadata": {
    "collapsed": false
   },
   "outputs": [
    {
     "data": {
      "text/plain": [
       "array([[-0.42772402]])"
      ]
     },
     "execution_count": 1,
     "metadata": {},
     "output_type": "execute_result"
    }
   ],
   "source": [
    "import sklearn.metrics.pairwise as pw\n",
    "import numpy as np\n",
    "\n",
    "X = np.matrix([1,-13])\n",
    "Y = np.matrix([-34,13])\n",
    "pw.cosine_similarity(X, Y)"
   ]
  },
  {
   "cell_type": "markdown",
   "metadata": {},
   "source": [
    "Read the data that was previously created using Data Prepare notebook."
   ]
  },
  {
   "cell_type": "code",
   "execution_count": 2,
   "metadata": {
    "collapsed": false,
    "scrolled": false
   },
   "outputs": [
    {
     "name": "stdout",
     "output_type": "stream",
     "text": [
      "96585\n"
     ]
    }
   ],
   "source": [
    "import io, json\n",
    "from collections import OrderedDict\n",
    "\n",
    "def read_data(path):\n",
    "    with io.open(path, 'r', encoding = 'latin-1') as f:\n",
    "        movies = json.load(f)\n",
    "        return OrderedDict({(movie['title'],int(movie['year'])):{'plot':movie['plot'],'cast':set(movie['cast']), \\\n",
    "                                                                 'genres':set(movie['genres'])} \\\n",
    "                            for movie in movies}.items())\n",
    "    \n",
    "movies = read_data('data.json')\n",
    "print(len(movies))"
   ]
  },
  {
   "cell_type": "markdown",
   "metadata": {},
   "source": [
    "We use a convenience method to find all Fast and Furious movies. In our examples, we will look at similar movies to Tokyo Drift."
   ]
  },
  {
   "cell_type": "code",
   "execution_count": 3,
   "metadata": {
    "collapsed": false
   },
   "outputs": [
    {
     "name": "stdout",
     "output_type": "stream",
     "text": [
      "[(\"The Making of 'The Fast and the Furious'\", 2002), ('High, Fast and Wonderful', 2003), ('The Fast and the Furious: Tokyo Drift', 2006), ('The Fast and the Furious', 2001), ('Tasmanian Devil: The Fast and Furious Life of Errol Flynn', 2007)]\n"
     ]
    }
   ],
   "source": [
    "def find_movie(title):\n",
    "    return [movie for movie in movies.keys() if title in movie[0]]\n",
    "\n",
    "q = find_movie('Fast and')\n",
    "print(q)"
   ]
  },
  {
   "cell_type": "markdown",
   "metadata": {},
   "source": [
    "Initially, we take a Bag of Words approach without any lemmatization, the way it was used in the paper."
   ]
  },
  {
   "cell_type": "code",
   "execution_count": 4,
   "metadata": {
    "collapsed": false,
    "scrolled": true
   },
   "outputs": [
    {
     "name": "stdout",
     "output_type": "stream",
     "text": [
      "Number of words in vocabulary: 175129\n"
     ]
    }
   ],
   "source": [
    "from sklearn.feature_extraction.text import CountVectorizer\n",
    "from nltk import word_tokenize          \n",
    "from nltk.stem import WordNetLemmatizer \n",
    "class LemmaTokenizer(object):\n",
    "    def __init__(self):\n",
    "        self.wnl = WordNetLemmatizer()\n",
    "    def __call__(self, doc):\n",
    "        return [self.wnl.lemmatize(t) for t in word_tokenize(doc)]\n",
    "vectorizer = CountVectorizer(analyzer = \"word\",   \\\n",
    "                             tokenizer = None, #LemmaTokenizer(),    \\\n",
    "                             preprocessor = None, \\\n",
    "                             stop_words = 'english')\n",
    "plots = [movie['plot'] for movie in movies.values()]\n",
    "feat_vec = vectorizer.fit_transform(plots)\n",
    "vocab = vectorizer.get_feature_names()\n",
    "print('Number of words in vocabulary:', len(vocab))"
   ]
  },
  {
   "cell_type": "markdown",
   "metadata": {},
   "source": [
    "We calculate cosine similarities between each plot vector in our movies, and Tokyo Drift's plot vector."
   ]
  },
  {
   "cell_type": "code",
   "execution_count": 6,
   "metadata": {
    "collapsed": false,
    "scrolled": false
   },
   "outputs": [
    {
     "name": "stdout",
     "output_type": "stream",
     "text": [
      "('The Fast and the Furious: Tokyo Drift', 2006)\n",
      "-2.22044604925e-15\n",
      "{'plot': 'An American teenager named Sean Boswell is a loner in school, however he challenges his rival for an illegal street racing, and he totals his car in the end of the race. To avoid time in prison he is sent to Tokyo to live with his father who is in the military. As soon as he arrives he discovers a new, fun but dangerous way of street racing in the underworld of the streets of Tokyo, Japan. Sean Boswell, an Alabama teenager with a record for street racing, moves to his father\\'s resident city of Tokyo, Japan to avoid a prison sentence in America. Boswell quickly falls in love with the world of drift racing in Tokyo\\'s underground and a Japanese girl named Neela. However, Boswell\\'s presence and growing talent for drifting unsettles the Japanese Mafia, which makes thousands of dollars from the sport. Confrontations arise, and Sean is faced with a simple decision: drift or die. After totaling his car in an illegal street race, Shaun Boswell is sent to live with his father, who is in the military, in Tokyo, Japan, to avoid juvy or even jail. While in school, he befriends Twinkie, a \"military brat.\" Twinkie introduces him to the world of racing in Japan. Though forbidden to drive, he decides to race against D.K., the \"Drift King\", who has ties to the Yakuza, and loses, totaling the car because of his lack of knowledge of drifting, racing that involves dangerous hair pin turns. To repay his debt, he enters the underground world of drift street racing. As he becomes better and better, he must finally prove his worth in that world by once again racing D.K. Sean Boswell, who has always been an outsider. A loner at school, his only connection to the indifferent world around him is through illegal street racing -- which has made him particularly unpopular with the local authorities. To avoid jail time, Sean is sent out of the country to live with his Farther in the military, in a cramped apartment in a low-rent section of Tokyo. In the land that gave birth to the majority of modified racers on the road, the simple street race has been replaced by the ultimate pedal-to-the-metal, gravity-defying automotive challenge ... drift racing, a deadly combination of brutal speed on heart stopping courses of hairpin turns and switchbacks. For his first unsuccessful foray in drift racing, Shean unknowingly takes on D.K., the \"Drift King,\" with ties to the Yakuza, the Japanese crime machine. The only way he can pay off the debt of his loss is to venture into the deadly realm of the Tokyo underworld, where the stakes are life and death. To avoid jail time, street racer Sean Boswell is sent to live with his father in Tokyo. There he discovers drift racing. After losing a race to Yakuza-connected D.K., the Drift King, Sean has to enter the Tokyo underworld to find a way to pay his debt.', 'cast': {'Morrison, Rachel (XIV)', 'Maki, Yôko (I)', 'Griffin, Nikki', 'Pangan, Jay', 'Yu, Sandy', 'Watanabe, Wendy', 'Hsu, Jimmy (I)', 'Ôno, Mitsuru', 'Nakagawa, Shôko', 'Cherie, Ai', 'Namioka, Kazuki', 'Moss, Shad', 'Ariki, Toshio', 'Hernandez, Alexis (I)', 'McDonald II, Danny Ray', 'Nam, Leonardo', 'Kelley, Britten', 'Marzette, Damien', 'Siauw, Atley', 'Motoki, Hidesuke', 'Sanford, Trey', 'Yu, Kaila', 'Suvadová, Silvia', 'Kitagawa, Keiko', 'Jay, Harley', 'Hatayama, Hiroshi', 'Gracie, Victoria', 'Bennett, Michael (VIII)', 'Tsuchiya, Keiichi', 'Yano, Mikiko', 'Lin, Jimmy (II)', 'Konishi, Yûnosuke', 'McCurdy, Sandra', 'Tee, Brian', 'Bryan, Zachery Ty', 'Ray, Alden', \"Chiba, Shin'ichi\", 'Tsunoda, Tina', 'Brendel, Brandon', 'Vo, Minn', 'Yee, Stuart W.', 'Black, Lucas (II)', 'Gogna, Ashika', 'Collins, Joshua (I)', 'Boyd, Lynda', 'Crumpton, Joey', 'Wadakura, Kazutoshi', 'Shibata, Rie (I)', 'Hayama, Toshi', 'Mei, Valeria', 'Tsumabuki, Satoshi', 'Caira, Kevin', 'Kataoka, Koji (I)', 'Leach, Paul (III)', 'Diesel, Vin', 'Jiemjitpolchai, Anant A.J.', 'Sugawara, Yuki (I)', 'Nakagawa, Emmi', 'Russell, Erica (II)', 'Thomas, David V.', 'Booko, Daniel', 'Marcus, Trula M.', 'Astoyan, Chris', 'Laresca, Vincent', 'Nelson, Tyler (I)', 'Okada, Masami (I)', 'Gzi, Jade', 'Tanaka, Aiko (I)', 'Salazar, Christian (I)', 'Kubota, Tak', 'Tobin, Jason (I)', 'Goodman, Brian (I)', 'Jaramillo, Mari', 'Chung, Willis', 'Kang, Sung', 'West, Amber Stevens', 'Ryan, Kevin (XXVII)', 'de Souza Correa, Caroline', 'Koga, Mitsuki', 'Betts, April', 'Kelley, Nancy (I)'}, 'genres': {'Thriller', 'Crime', 'Drama', 'Action'}}\n",
      "('The Last Race', 2002)\n",
      "0.652401806752\n",
      "{'plot': \"After being arrested, a young street-racing addict attempts to avoid the pitfalls of his illegal pastime. But when his reputation is challenged by an aggressive racer with a fast ride, he can't back down. A fast-paced look into the world of underground street-racing.\", 'cast': {'Riverton, Mia', 'Bossley, Marc', 'Chee, Cho Kwai', 'Sullivan, Stephen (I)', 'Escamilla, Mike', 'Wade, Travers', 'Villalta, Luis'}, 'genres': {'Short', 'Action'}}\n",
      "('Hot Wheels Highway 35 World Race', 2003)\n",
      "0.745474060497\n",
      "{'plot': 'The drivers enter the Neon Pipeline Realm where they have to master not only drafting, but also driving on the inside and outside of an elaborate network of pipes. The drivers discover the presence of the mysterious Silencerz team. In the Junk Realm, Kurt\\'s brother, Wylde, gets captured by Gelorum and the evil Racing Drones. Dr. Peter Tezla uncovers the mysterious technology of the ancient ACCELERONS. He discovers that the Wheel of Power is the gateway to amazing new racing environments: the RACING REALMS, over a hundred different tracks, each more breathtaking than the original world of Highway 35. But the Racing Realms become a high-speed battleground as two teams of human racers compete with deadly robotic racers and secret undercover drivers to see if they have the skill and courage to win the ultimate race -- and the ultimate power that goes with it. DRIVE TO SURVIVE! The drivers enter the Water Realm where former surfer Vert, racing in his own element, is determined to prove that he\\'s still a champion. But after a devastating attack by the Racing Drones, he ends up being the first driver to fail. In the Metro Realm, the drivers have to find their way through an eerie deserted city choked with traffic. The racers are also introduced to a new weapon developed by the Racing Drones: a huge car-eating \"Sweeper.\" We also get a glimpse of the mysterious fourth team, the Silencerz. In a bid to rescue fellow racer Markie Wylde from the evil Racing Drones, the AcceleRacers enter a portal that leads right into Drones headquarters. However, the Drones are using the very same portal to infiltrate the Acceledrome! During the ensuing battle, Dr. Peter Tezla and all the coveted AcceleChargers are captured by the Silencerz.', 'cast': {'McNeil, Scott (I)', 'Payne, John (II)', 'Eriksen, Kaj-Erik', 'Ohtsji, Kevan', 'Benyaer, Michael', 'Bell, Dexter', 'Barr, Kathleen (I)', 'Drummond, Brian (I)', 'Sanderson, Will', 'Kaye, David (I)', 'Michaels, Kasper', 'Duncan, Andrew (VI)', 'Terzo, Venus', 'Payne, John (XXIII)', 'Donovan, Michael (III)', 'Francis, Andrew (I)', 'Morrow, Kirby', 'Beley, Lisa Ann', 'Oliver, Mark (I)', 'Mankuma, Cusse', 'Holmes, Adrian (I)', 'Bell, Donzell'}, 'genres': {'Action', 'Sci-Fi', 'Sport', 'Animation'}}\n",
      "('Born to Race', 2011)\n",
      "0.749458686599\n",
      "{'plot': \"Born To Race is the story of Danny Krueger, a rebellious young street racer on a collision course with trouble. After an accident at an illegal street race, he is sent to a small town to live with his estranged father, a washed up NASCAR racer. When Danny decides to enter the NHRA High School Drags, he's forced to seek his father's help in taking down the local hot shot.\", 'cast': {'Cross, Joseph (I)', 'King, Erik (I)', 'Solis, Maura', 'Kelly, Brock', 'Frank, Tom (I)', 'Alessi, Paul J.', 'Haley, Donald', 'Jones, Brandon W.', 'Moore, Christina (II)', 'Swain, Sara', 'Timmins, Jeremy', 'Lee, Waymond', 'Perez, Walter (I)', 'Panterra, Lexy', 'Eaton, Brando', 'Ray, Alden', 'Braddy, Johanna', 'Breslin, Spencer', 'Coltan, Seth', 'Esparza, Michael (I)', 'Chu, Jeremy (I)', 'Afshar, Ali', 'Thomas, Whitmer', 'McCoy, Matt (I)', 'Zagaris, Ari', 'Stringfield, Sherry', 'Bada, Kimberly', 'McCoy, Ron (I)', 'Sords, Erik', 'Olive, Brandon Ray', 'Taylor II, Richard', 'Pyper-Ferguson, John', 'Shultz, Shawn (I)', 'Show, Grant', 'Sullivan, Stephen (I)', 'Banham, Camille', 'Kiesche, Tom', 'Phelps, Robin'}, 'genres': {'Sport', 'Action'}}\n",
      "('Racing Naykid', 2007)\n",
      "0.771024111366\n",
      "{'plot': 'Cindi and Scotty had set the standard in SCCA Touring One racing. Both had impressive resumes. Cindi won 11 road racing championships and was SCCA National Driver of The Year. Scotty racked up more than 80 victories and was a 6 time T1 Division Champion. At the end of the 2006 season Cindi, Scotty along with their principal sponsor decided it was time to make the jump to the pros and compete in the 2007 SPEED World Challenge! They had everything lined up. Two new race cars were ordered and no expense was spared transforming NayKid Racing into a world class professional team. Then they got a\"the\"call. Their principal sponsor, citing financial woes, was pulling the plug. Most people would cut their losses and call the whole thing off. Not these two! They took out second mortgages on their homes and they\\'re going racing! Their butts are on the line and we\\'re tagging along for the ride no matter how bumpy it gets! The Long Beach Grand Prix and The Grand Prix of Utah are in the can. Next race Mosport, Canada.', 'cast': {'DeCarlo, Mark', 'Sweeney, Jen', 'White, Scotty (I)', 'Lux, Fred', 'Lux, Cindi'}, 'genres': {'Reality-TV'}}\n",
      "('Learning Curve', 1990)\n",
      "0.773089263285\n",
      "{'plot': \"Young Don Castro is having difficulty in school, has a strained relationship with his father, and can't understand why the girl next door only wants a serious relationship. The one place everything comes together for him is on the seat of a fast motorcycle. Unfortunately, that means borrowing other people's motorcycles for illegal street racing. Don's father gives him a motorcycle of his own to encourage him to excel academically, stop street racing, and challenge him to become a professional motorcycle racer. With that gift Don finally has the chance he needed, and the journey to fulfill his destiny begins. Based on a true story.\", 'cast': {'Dias, Mark', 'Guido, Jim (II)', 'Omlin, Kenny (II)', 'Morales, Sal', 'Cantrell, Jim (IV)', 'Craig, James (XI)', 'Anglin, Michael (III)', 'Salazar, Juanita (III)', 'McCandless, C. Marsh (II)', 'Vallé, Adrianne (II)', 'Esparza, Enrique (II)', 'Masamune, Tohoru', 'Jimenez, John (VI)', 'Gutierrez, Roger (I)', 'Schnell, Mike (II)', 'Treharne, Daniel', 'Sandoval, Ivan', 'Asahina, Carl (II)', 'Nunziato, Elisabeth', 'Rodriques, Reies (II)'}, 'genres': {'Drama'}}\n"
     ]
    }
   ],
   "source": [
    "import math\n",
    "\n",
    "def similar_vectors(X, v, n = 6, batch_size = 10000):\n",
    "    num_vecs = X.shape[0]\n",
    "    num_batches = math.ceil(num_vecs/batch_size)\n",
    "    min_indices = np.zeros(num_batches*n, dtype=np.int)\n",
    "    min_dists = np.ones(num_batches*n, dtype=np.float)\n",
    "    for batch in range(num_batches):\n",
    "        dists = pw.pairwise_distances(X[batch*batch_size:min((batch+1)*batch_size,num_vecs)], \\\n",
    "                                      v, metric='cosine')\n",
    "        ind_min = np.argpartition(dists[:,0], n)[:n]\n",
    "        min_indices[batch*n:(batch+1)*n] = ind_min + batch*batch_size\n",
    "        min_dists[batch*n:(batch+1)*n] = dists[ind_min][:,0]\n",
    "    ind_min = np.argpartition(min_dists, n)[:n]   \n",
    "    best_ind = min_indices[ind_min]\n",
    "    best_dist = min_dists[ind_min]\n",
    "    return best_ind, best_dist\n",
    "    \n",
    "def similar_movies(title, feat_vec, vectorizer, n = 6, vtype = 'plot'):\n",
    "    v = vectorizer.transform([movies[title][vtype]])\n",
    "    best_ind, best_dist = similar_vectors(feat_vec, v, n)\n",
    "    key_list = list(movies.keys())\n",
    "    for i in range(n):\n",
    "        sim_title = key_list[best_ind[i]]\n",
    "        print(sim_title)\n",
    "        print(best_dist[i])\n",
    "        print(movies[sim_title])\n",
    "    \n",
    "similar_movies(q[2],feat_vec,vectorizer)"
   ]
  },
  {
   "cell_type": "markdown",
   "metadata": {},
   "source": [
    "We can see that we have a lot of racing related movies.\n",
    "\n",
    "Lets try using tf-idf weights instead of simple counts."
   ]
  },
  {
   "cell_type": "code",
   "execution_count": 7,
   "metadata": {
    "collapsed": false,
    "scrolled": false
   },
   "outputs": [
    {
     "name": "stdout",
     "output_type": "stream",
     "text": [
      "('Hot Wheels Highway 35 World Race', 2003)\n",
      "0.79182873117\n",
      "{'plot': 'The drivers enter the Neon Pipeline Realm where they have to master not only drafting, but also driving on the inside and outside of an elaborate network of pipes. The drivers discover the presence of the mysterious Silencerz team. In the Junk Realm, Kurt\\'s brother, Wylde, gets captured by Gelorum and the evil Racing Drones. Dr. Peter Tezla uncovers the mysterious technology of the ancient ACCELERONS. He discovers that the Wheel of Power is the gateway to amazing new racing environments: the RACING REALMS, over a hundred different tracks, each more breathtaking than the original world of Highway 35. But the Racing Realms become a high-speed battleground as two teams of human racers compete with deadly robotic racers and secret undercover drivers to see if they have the skill and courage to win the ultimate race -- and the ultimate power that goes with it. DRIVE TO SURVIVE! The drivers enter the Water Realm where former surfer Vert, racing in his own element, is determined to prove that he\\'s still a champion. But after a devastating attack by the Racing Drones, he ends up being the first driver to fail. In the Metro Realm, the drivers have to find their way through an eerie deserted city choked with traffic. The racers are also introduced to a new weapon developed by the Racing Drones: a huge car-eating \"Sweeper.\" We also get a glimpse of the mysterious fourth team, the Silencerz. In a bid to rescue fellow racer Markie Wylde from the evil Racing Drones, the AcceleRacers enter a portal that leads right into Drones headquarters. However, the Drones are using the very same portal to infiltrate the Acceledrome! During the ensuing battle, Dr. Peter Tezla and all the coveted AcceleChargers are captured by the Silencerz.', 'cast': {'McNeil, Scott (I)', 'Payne, John (II)', 'Eriksen, Kaj-Erik', 'Ohtsji, Kevan', 'Benyaer, Michael', 'Bell, Dexter', 'Barr, Kathleen (I)', 'Drummond, Brian (I)', 'Sanderson, Will', 'Kaye, David (I)', 'Michaels, Kasper', 'Duncan, Andrew (VI)', 'Terzo, Venus', 'Payne, John (XXIII)', 'Donovan, Michael (III)', 'Francis, Andrew (I)', 'Morrow, Kirby', 'Beley, Lisa Ann', 'Oliver, Mark (I)', 'Mankuma, Cusse', 'Holmes, Adrian (I)', 'Bell, Donzell'}, 'genres': {'Action', 'Sci-Fi', 'Sport', 'Animation'}}\n",
      "('The Fast and the Furious: Tokyo Drift', 2006)\n",
      "-2.22044604925e-16\n",
      "{'plot': 'An American teenager named Sean Boswell is a loner in school, however he challenges his rival for an illegal street racing, and he totals his car in the end of the race. To avoid time in prison he is sent to Tokyo to live with his father who is in the military. As soon as he arrives he discovers a new, fun but dangerous way of street racing in the underworld of the streets of Tokyo, Japan. Sean Boswell, an Alabama teenager with a record for street racing, moves to his father\\'s resident city of Tokyo, Japan to avoid a prison sentence in America. Boswell quickly falls in love with the world of drift racing in Tokyo\\'s underground and a Japanese girl named Neela. However, Boswell\\'s presence and growing talent for drifting unsettles the Japanese Mafia, which makes thousands of dollars from the sport. Confrontations arise, and Sean is faced with a simple decision: drift or die. After totaling his car in an illegal street race, Shaun Boswell is sent to live with his father, who is in the military, in Tokyo, Japan, to avoid juvy or even jail. While in school, he befriends Twinkie, a \"military brat.\" Twinkie introduces him to the world of racing in Japan. Though forbidden to drive, he decides to race against D.K., the \"Drift King\", who has ties to the Yakuza, and loses, totaling the car because of his lack of knowledge of drifting, racing that involves dangerous hair pin turns. To repay his debt, he enters the underground world of drift street racing. As he becomes better and better, he must finally prove his worth in that world by once again racing D.K. Sean Boswell, who has always been an outsider. A loner at school, his only connection to the indifferent world around him is through illegal street racing -- which has made him particularly unpopular with the local authorities. To avoid jail time, Sean is sent out of the country to live with his Farther in the military, in a cramped apartment in a low-rent section of Tokyo. In the land that gave birth to the majority of modified racers on the road, the simple street race has been replaced by the ultimate pedal-to-the-metal, gravity-defying automotive challenge ... drift racing, a deadly combination of brutal speed on heart stopping courses of hairpin turns and switchbacks. For his first unsuccessful foray in drift racing, Shean unknowingly takes on D.K., the \"Drift King,\" with ties to the Yakuza, the Japanese crime machine. The only way he can pay off the debt of his loss is to venture into the deadly realm of the Tokyo underworld, where the stakes are life and death. To avoid jail time, street racer Sean Boswell is sent to live with his father in Tokyo. There he discovers drift racing. After losing a race to Yakuza-connected D.K., the Drift King, Sean has to enter the Tokyo underworld to find a way to pay his debt.', 'cast': {'Morrison, Rachel (XIV)', 'Maki, Yôko (I)', 'Griffin, Nikki', 'Pangan, Jay', 'Yu, Sandy', 'Watanabe, Wendy', 'Hsu, Jimmy (I)', 'Ôno, Mitsuru', 'Nakagawa, Shôko', 'Cherie, Ai', 'Namioka, Kazuki', 'Moss, Shad', 'Ariki, Toshio', 'Hernandez, Alexis (I)', 'McDonald II, Danny Ray', 'Nam, Leonardo', 'Kelley, Britten', 'Marzette, Damien', 'Siauw, Atley', 'Motoki, Hidesuke', 'Sanford, Trey', 'Yu, Kaila', 'Suvadová, Silvia', 'Kitagawa, Keiko', 'Jay, Harley', 'Hatayama, Hiroshi', 'Gracie, Victoria', 'Bennett, Michael (VIII)', 'Tsuchiya, Keiichi', 'Yano, Mikiko', 'Lin, Jimmy (II)', 'Konishi, Yûnosuke', 'McCurdy, Sandra', 'Tee, Brian', 'Bryan, Zachery Ty', 'Ray, Alden', \"Chiba, Shin'ichi\", 'Tsunoda, Tina', 'Brendel, Brandon', 'Vo, Minn', 'Yee, Stuart W.', 'Black, Lucas (II)', 'Gogna, Ashika', 'Collins, Joshua (I)', 'Boyd, Lynda', 'Crumpton, Joey', 'Wadakura, Kazutoshi', 'Shibata, Rie (I)', 'Hayama, Toshi', 'Mei, Valeria', 'Tsumabuki, Satoshi', 'Caira, Kevin', 'Kataoka, Koji (I)', 'Leach, Paul (III)', 'Diesel, Vin', 'Jiemjitpolchai, Anant A.J.', 'Sugawara, Yuki (I)', 'Nakagawa, Emmi', 'Russell, Erica (II)', 'Thomas, David V.', 'Booko, Daniel', 'Marcus, Trula M.', 'Astoyan, Chris', 'Laresca, Vincent', 'Nelson, Tyler (I)', 'Okada, Masami (I)', 'Gzi, Jade', 'Tanaka, Aiko (I)', 'Salazar, Christian (I)', 'Kubota, Tak', 'Tobin, Jason (I)', 'Goodman, Brian (I)', 'Jaramillo, Mari', 'Chung, Willis', 'Kang, Sung', 'West, Amber Stevens', 'Ryan, Kevin (XXVII)', 'de Souza Correa, Caroline', 'Koga, Mitsuki', 'Betts, April', 'Kelley, Nancy (I)'}, 'genres': {'Thriller', 'Crime', 'Drama', 'Action'}}\n",
      "('The Last Race', 2002)\n",
      "0.704537615938\n",
      "{'plot': \"After being arrested, a young street-racing addict attempts to avoid the pitfalls of his illegal pastime. But when his reputation is challenged by an aggressive racer with a fast ride, he can't back down. A fast-paced look into the world of underground street-racing.\", 'cast': {'Riverton, Mia', 'Bossley, Marc', 'Chee, Cho Kwai', 'Sullivan, Stephen (I)', 'Escamilla, Mike', 'Wade, Travers', 'Villalta, Luis'}, 'genres': {'Short', 'Action'}}\n",
      "('Treasure Raiders', 2007)\n",
      "0.802398254469\n",
      "{'plot': 'Michael, an American professor teaching history at Moscow University, finances his passion for treasure hunting with competitive street racing. His racing nemesis Wolf becomes his ally as they both embark on a quest to search for a famous ancient Russian treasure.', 'cast': {'Radov, Roman', 'Izotov, Alexander', 'Finogeev, Vyacheslav', 'Carlin, Francesca', 'Madrid, Robert (I)', 'Kudryashov, Maxim', 'Efremov, Viktor (II)', 'Zimenkova, Viktoriya', 'Konovalov, Maksim', 'Terciev, Pavel', 'Vohmyanina, Elena', 'Kopchenov, Sergey', 'Shnurkov, Petr', 'Brand, Steven (I)', 'Pokrovskiy, Maksim', 'Carradine, David', 'Verzunov, Artur', 'Lepeshkin, Nikolay', 'Pazenko, Egor', 'Manilov, Artem', 'Yasulovich, Igor', 'Romanov, Boris (I)', 'Chvirev, Alexander', 'Dantsiger, Grigoriy', 'Filozov, Albert', 'Meshcherin, Igor', 'Kapelushnikov, Rostislav', 'Bogdasarov, Mikhail', 'Kabikov, Daniil', 'Divoff, Andrew', 'Danilov, Denis (I)', 'Ryndenkova, Ekaterina', 'Polyakova, Elena (I)', 'Popov, Yuriy (I)', 'Yashin, Pavel', 'Samotin, Pavel', 'Cheremushkina, Anastasya', 'Ribachuk, Ekaterina', 'Malutin, Vadim', 'Bajenov, Iliya', 'Kucher, Stanislav', 'Bushin, Vitaly', 'Anderson, Marina', 'Alpatiev, Alexander', 'Kuyanov, Alexei', 'Rodionova, Olga', 'Poyarkov, Sergey (I)', 'Fenn, Sherilyn', 'Romanov, Eldar', 'Nevsky, Alexander (I)', 'Shockley, William (I)'}, 'genres': {'Drama', 'Adventure', 'Action'}}\n",
      "('Learning Curve', 1990)\n",
      "0.809011693128\n",
      "{'plot': \"Young Don Castro is having difficulty in school, has a strained relationship with his father, and can't understand why the girl next door only wants a serious relationship. The one place everything comes together for him is on the seat of a fast motorcycle. Unfortunately, that means borrowing other people's motorcycles for illegal street racing. Don's father gives him a motorcycle of his own to encourage him to excel academically, stop street racing, and challenge him to become a professional motorcycle racer. With that gift Don finally has the chance he needed, and the journey to fulfill his destiny begins. Based on a true story.\", 'cast': {'Dias, Mark', 'Guido, Jim (II)', 'Omlin, Kenny (II)', 'Morales, Sal', 'Cantrell, Jim (IV)', 'Craig, James (XI)', 'Anglin, Michael (III)', 'Salazar, Juanita (III)', 'McCandless, C. Marsh (II)', 'Vallé, Adrianne (II)', 'Esparza, Enrique (II)', 'Masamune, Tohoru', 'Jimenez, John (VI)', 'Gutierrez, Roger (I)', 'Schnell, Mike (II)', 'Treharne, Daniel', 'Sandoval, Ivan', 'Asahina, Carl (II)', 'Nunziato, Elisabeth', 'Rodriques, Reies (II)'}, 'genres': {'Drama'}}\n",
      "('Jane St.', 2014)\n",
      "0.810279611479\n",
      "{'plot': 'Just one night, one street, two girls connected by an intense relationship, but about to drift apart because of their troubled lives full of drugs and because of the manipulative mind of one of them. Will they find their way even apart from each other?', 'cast': {'Herlog, Sandra', 'Dane, Amanda (II)', 'Matton, Jake', 'Day, William (I)', 'Larsdotter, Linnea', 'Toth, Christina (I)'}, 'genres': {'Short', 'Drama'}}\n"
     ]
    }
   ],
   "source": [
    "from sklearn.feature_extraction.text import TfidfVectorizer\n",
    "tfidf_vectorizer = TfidfVectorizer(analyzer = \"word\",   \\\n",
    "                             tokenizer = None,    \\\n",
    "                             preprocessor = None, \\\n",
    "                             stop_words = 'english') \n",
    "tfidf_vec = tfidf_vectorizer.fit_transform(plots)\n",
    "\n",
    "similar_movies(q[2],tfidf_vec,tfidf_vectorizer)"
   ]
  },
  {
   "cell_type": "markdown",
   "metadata": {},
   "source": [
    "Again we see the racing movies.\n",
    "\n",
    "We now look at how LDA acts when given our plot data."
   ]
  },
  {
   "cell_type": "code",
   "execution_count": 8,
   "metadata": {
    "collapsed": true
   },
   "outputs": [],
   "source": [
    "from sklearn.decomposition import LatentDirichletAllocation\n",
    "\n",
    "def similar_movies2(title, feat_vec, vectorizer, vectorizer2, n = 6, vtype = 'plot'):\n",
    "    v = vectorizer2.transform(vectorizer.transform([movies[title][vtype]]))\n",
    "    best_ind, best_dist = similar_vectors(feat_vec, v, n)\n",
    "    key_list = list(movies.keys())\n",
    "    for i in range(n):\n",
    "        sim_title = key_list[best_ind[i]]\n",
    "        print(sim_title)\n",
    "        print(best_dist[i])\n",
    "        print(movies[sim_title])"
   ]
  },
  {
   "cell_type": "code",
   "execution_count": 9,
   "metadata": {
    "collapsed": false,
    "scrolled": false
   },
   "outputs": [
    {
     "name": "stdout",
     "output_type": "stream",
     "text": [
      "('The Fast and the Furious: Tokyo Drift', 2006)\n",
      "1.11022302463e-16\n",
      "{'plot': 'An American teenager named Sean Boswell is a loner in school, however he challenges his rival for an illegal street racing, and he totals his car in the end of the race. To avoid time in prison he is sent to Tokyo to live with his father who is in the military. As soon as he arrives he discovers a new, fun but dangerous way of street racing in the underworld of the streets of Tokyo, Japan. Sean Boswell, an Alabama teenager with a record for street racing, moves to his father\\'s resident city of Tokyo, Japan to avoid a prison sentence in America. Boswell quickly falls in love with the world of drift racing in Tokyo\\'s underground and a Japanese girl named Neela. However, Boswell\\'s presence and growing talent for drifting unsettles the Japanese Mafia, which makes thousands of dollars from the sport. Confrontations arise, and Sean is faced with a simple decision: drift or die. After totaling his car in an illegal street race, Shaun Boswell is sent to live with his father, who is in the military, in Tokyo, Japan, to avoid juvy or even jail. While in school, he befriends Twinkie, a \"military brat.\" Twinkie introduces him to the world of racing in Japan. Though forbidden to drive, he decides to race against D.K., the \"Drift King\", who has ties to the Yakuza, and loses, totaling the car because of his lack of knowledge of drifting, racing that involves dangerous hair pin turns. To repay his debt, he enters the underground world of drift street racing. As he becomes better and better, he must finally prove his worth in that world by once again racing D.K. Sean Boswell, who has always been an outsider. A loner at school, his only connection to the indifferent world around him is through illegal street racing -- which has made him particularly unpopular with the local authorities. To avoid jail time, Sean is sent out of the country to live with his Farther in the military, in a cramped apartment in a low-rent section of Tokyo. In the land that gave birth to the majority of modified racers on the road, the simple street race has been replaced by the ultimate pedal-to-the-metal, gravity-defying automotive challenge ... drift racing, a deadly combination of brutal speed on heart stopping courses of hairpin turns and switchbacks. For his first unsuccessful foray in drift racing, Shean unknowingly takes on D.K., the \"Drift King,\" with ties to the Yakuza, the Japanese crime machine. The only way he can pay off the debt of his loss is to venture into the deadly realm of the Tokyo underworld, where the stakes are life and death. To avoid jail time, street racer Sean Boswell is sent to live with his father in Tokyo. There he discovers drift racing. After losing a race to Yakuza-connected D.K., the Drift King, Sean has to enter the Tokyo underworld to find a way to pay his debt.', 'cast': {'Morrison, Rachel (XIV)', 'Maki, Yôko (I)', 'Griffin, Nikki', 'Pangan, Jay', 'Yu, Sandy', 'Watanabe, Wendy', 'Hsu, Jimmy (I)', 'Ôno, Mitsuru', 'Nakagawa, Shôko', 'Cherie, Ai', 'Namioka, Kazuki', 'Moss, Shad', 'Ariki, Toshio', 'Hernandez, Alexis (I)', 'McDonald II, Danny Ray', 'Nam, Leonardo', 'Kelley, Britten', 'Marzette, Damien', 'Siauw, Atley', 'Motoki, Hidesuke', 'Sanford, Trey', 'Yu, Kaila', 'Suvadová, Silvia', 'Kitagawa, Keiko', 'Jay, Harley', 'Hatayama, Hiroshi', 'Gracie, Victoria', 'Bennett, Michael (VIII)', 'Tsuchiya, Keiichi', 'Yano, Mikiko', 'Lin, Jimmy (II)', 'Konishi, Yûnosuke', 'McCurdy, Sandra', 'Tee, Brian', 'Bryan, Zachery Ty', 'Ray, Alden', \"Chiba, Shin'ichi\", 'Tsunoda, Tina', 'Brendel, Brandon', 'Vo, Minn', 'Yee, Stuart W.', 'Black, Lucas (II)', 'Gogna, Ashika', 'Collins, Joshua (I)', 'Boyd, Lynda', 'Crumpton, Joey', 'Wadakura, Kazutoshi', 'Shibata, Rie (I)', 'Hayama, Toshi', 'Mei, Valeria', 'Tsumabuki, Satoshi', 'Caira, Kevin', 'Kataoka, Koji (I)', 'Leach, Paul (III)', 'Diesel, Vin', 'Jiemjitpolchai, Anant A.J.', 'Sugawara, Yuki (I)', 'Nakagawa, Emmi', 'Russell, Erica (II)', 'Thomas, David V.', 'Booko, Daniel', 'Marcus, Trula M.', 'Astoyan, Chris', 'Laresca, Vincent', 'Nelson, Tyler (I)', 'Okada, Masami (I)', 'Gzi, Jade', 'Tanaka, Aiko (I)', 'Salazar, Christian (I)', 'Kubota, Tak', 'Tobin, Jason (I)', 'Goodman, Brian (I)', 'Jaramillo, Mari', 'Chung, Willis', 'Kang, Sung', 'West, Amber Stevens', 'Ryan, Kevin (XXVII)', 'de Souza Correa, Caroline', 'Koga, Mitsuki', 'Betts, April', 'Kelley, Nancy (I)'}, 'genres': {'Thriller', 'Crime', 'Drama', 'Action'}}\n",
      "('8.5 Hours', 2008)\n",
      "0.0314597295105\n",
      "{'plot': 'Ireland, 2007. As the economy teeters on the brink of a dramatic downturn, the lives of four workers at a software company are about to reach drastic turning points. Though the day begins like a usual Monday at work - another 8.5 hours on the clock - there are troubles brewing just below the surface.', 'cast': {'Van Der Bly, Martha', 'Lally, Rachel', 'Byrne, Jonathan (I)', 'Carroll, Erica', 'Plunkett, Geraldine', 'Ledoux, Fred', \"O'Sullivan, Tom (II)\", 'Wiseman, Deborah', 'McCormack, Brendan', \"O'Shea, Neil\", 'Egan, Gary (I)', 'Reid, Clodagh', 'Callaghan, Lynette', 'Kearns, Art', \"O'Dwyer, Fiona\", 'McGowan, Maeve', 'Miles, Alison', 'Burke, Victor (I)', 'Goodwin, Adam (III)', \"Donoghue, Ceire O'\"}, 'genres': {'Drama'}}\n",
      "('Waffenstillstand', 2009)\n",
      "0.0383902954629\n",
      "{'plot': 'A 24 hours ceasefire. The situation in Falluja is devastating- no food, no medications, no help. A group of five people sets out with the plan to help- they end up fighting for the lives of the helpless and wounded and eventually - their own.', 'cast': {'Sassi, Larbi', 'Yassin, Alexander', 'von Pufendorf, Maximilian', 'Reuten, Thekla', 'Williamson, David Michael (I)', 'Idrissi, Rabii', 'Badri, Mansour', 'Friedman, Harvey', 'Chadat, Husam', 'Ottoveggio, Alexandre', 'Prothmann, Thilo', 'Habich, Matthias', 'Jaenicke, Hannes', 'Burke, Calvin', 'Gantzler, Peter', 'Deyle, Sebastian', 'Raoui, Meryam'}, 'genres': {'Drama'}}\n",
      "('Painkiller Jane', 2007)\n",
      "0.0376891868206\n",
      "{'plot': 'People are going insane from the same nightmare about drowning, but no one can figure out why. Jane and her team believe that a Neuro is responsible but can\\'t figure out why they would do such a thing. When they meet the compassionate but troubled Dr. Lewis they suspect that one of his patients may be responsible. Ever since Jane\\'s meeting with Dr. Butler, her allegiance to the team has been in doubt. Now, Jane leads an insurrection by a group of particularly violent \"un-chipped\" Neuros. This creates a total lock down on the NICO facility. Andre, Riley and Connor find themselves trapped inside a special \"neuro-proof\" room. Realizing that Jane has turned against them, Andre and Connor decide to counter strike with a little Neuro help of their own. But is Jane really a traitor? Or will the team discover what Doctor Butler has done to her in time to stop the rebellion? Jane wakes up on a hospital with no memory of recent events. She tries to escape but realizes that her old teammates seem to be treating her with contempt and learns that she may murdered Riley Jensen. Maureen begins her own investigation on a doctor doing research on Neuros. Connor suffers a series of serious near accidents, all of which might have been fatal, but he escapes with moderate injuries. At this point Jane queries McBride on Connor\\'s background. It appears that members of Connor\\'s old Police tactical unit are all getting killed by \\'mysterious accidents\\'. Is it a Neuro? Is it someone from Connor\\'s past who has it out for him? Simon Connelly, the neuro who Jane did NOT chip as an act of mercy, manages to transfer some other people\\'s memories about Jane\\'s past to Jane before he dies of cancer. Jane goes back to the Vonotech Building where she plummeted to her \"death\" the first time (in the pilot episode). She discovers that she must track down the mysterious Dr. Roberts who suffers from ALS. There she learns a dark secret about herself and the truth about her origins. Strange sounds and hallucinations are driving people insane at a Federal Safe House used for witness protection. Jane\\'s team investigates and begins to experience the same fears and anxieties, but is it the work of a Neuro? or are the spirits of the dead trapped in the house? A man, Simon Connelly, has the ability to take someone\\'s skill, experience and memories, merely by touching them. This Neuro also has the ability to transfer knowledge for a short time to other persons as well. Riley Jensen has suffered from an encounter from this Neuro, so not only has Riley lost his memories and abilities, but the Neuro knows all that Riley knows about Jane\\'s secret organization. Jane and her team are tracking a Neuro with unknown abilities who is attempting to assassinate a Chinese diplomat. Though they manage to thwart the killer\\'s plan, Jane eventually discovers the neuro\\'s power - he has the ability to rewind and replay the current day over and over again until he gets it right. Usually everyone\\'s memory of events resets to the beginning and no one realizes that they are stuck in a temporal \\'loop\\', but Jane begins to get feelings of Deja-vu and realizes what the Neuro is doing. But with each new day, the killer changes his plans to counter Jane\\'s team attempts to stop him. While maintaining a watchful Eye over NICO (the Neuro hospital/prison) Andre McBride runs into a beautiful and fragile woman he once knew, Sarah Rogers (Ada Tai). Her Neuro skill was that she could pass through solid objects like walls, and, with this skill, could also kill people by removing things like \\'brains\\' directly out of people\\'s heads. However, Sarah is a docile and gentle woman, accepting of her fate and has forgiven Andre for chipping her. Andre begins to once again have feelings for this woman, just like he did before, however, a series of attacks and murders occur, and the initial suspect is Sarah, since she can be seen on the surveillance cameras. But Andre refuses to believe that Sarah can be responsible, despite Sarah\\'s vivid nightmares of those same attacks. Both Connor and Jane become concerned with Andre\\'s judgment during this crisis. Fair Oaks is the perfect bedroom community, except for one thing. Federal agents turn up dead whenever they go there. Jane and her team investigate and run into an entire town who seems to be under a Neuro\\'s control. The team tries to identify the Neuro before they fall under their influence and either betray or kill their own team members. Jane Vasco starts her day by discovering that her boyfriend doesn\\'t recognize her and suddenly has a little daughter. Jane also discovers that the Subway Headquarters doesn\\'t exist anymore, Joe doesn\\'t recognize her and that Andre, Connor and Riley have been \"killed\". Fearing her own demise she seeks out Simon Connelly who can take, retain and give out memories. He is also the Neuro who was not chipped by Jane as an act compassion. She tries to pass on all her knowledge of her team, her friends and her missions to Simon, before the death squads can kill her. Riley is an aspiring amateur Magician but a mysterious performer called \"The Amazing Howie\" completely trumps him in a Magic competition. Riley suspects Howie of being a neuro, using his powers to perform impossible tricks, so Riley enlists a reluctant Jane to be his Magician\\'s assistant to beat Howie and find out his secret. Jane and the team are tracking a neuro who can make himself invisible in order to rob banks, however, once they capture him, their van melts down, almost allowing their prisoner to escape. They are mystified by this since neuros usually don\\'t have more than one ability. On their second mission, to subdue and chip a woman, Jennifer Towne (Sonya Salomaa), who can paralyze people with her mind (and thus steal their possessions), the team is again attacked by an unseen force, nearly thwarting their mission. During this time, Jane is seeing a healer, hoping to reverse her healing powers and become \\'normal again\\'. Is this healer who is helping Jane, really a neuro? Who is really behind these \\'psychic\\' attacks on the team? Jane and her team are tracking several people with Neuro like abilities, but they are assassinated by a sniper just before they can be chipped. The mystery is that these people with exceptional powers are not Neuros, but the killer using a sniper rifle is. Jane and the others figure out that this entire affair began years ago when a group of high school outcasts formed a group based on a limited comic book series - The League of Five. Each one of the group were given powers like those in the comic book, but years later they seem to be turning evil, and the real Neuro who is tracking them down and killing them, knows the reason why. The Team tracks a Neuro who can re-animate the dead. Jane and the others suspect terrorist intent when the dead are sent to steal military grade weapons and equipment, but they begin to second guess their theory when the dead start stealing sports equipment. Jane and the team suspect that the Neuro is trying to fill some other need or desire, in addition to, building an army of undead soldiers. Connor King is on trial for arson, when he is witnessed fleeing several fires. He was in fact chasing a Pyro-kinetic (fire starter) Neuro, but since his mission is classified, he can\\'t reveal his true intentions and thus is the primary suspect. Connor\\'s dark and checkered past also don\\'t make things easy for him at his trial. Jane and the team try to find the fire starter Neuro and prove Connor innocent.', 'cast': {'Arthurs, Dustyn', 'Heindl, Scott', 'Sinclair, Adam (I)', 'Károly, Judit', 'Maxie, Judith', 'Kiss, Heléna', 'Butler, Tom (I)', 'Christopher, Martin (II)', 'Roberds, Michael', 'Wilson, James (LXXXIV)', 'Britton, Chris (II)', 'Lobo, Stephen', 'Lauer, Uwe', 'Brkich, Glen', 'Robbins, Ryan (I)', 'Thompson, Jodie-Leah', 'Podhora, Roman', 'Madson, Shaw', 'DeVeaux, Nathaniel', 'Razga, Miklós', 'Charpentier, Megan', 'Dorval, Adrien', 'Anthony, Paul (VI)', 'Reardon, John (V)', 'Dudzinski, Samira', 'Charrois, Michael', 'Gale, Vincent (I)', 'Elliott, Steve (I)', 'Simó, Zsófi', 'Jonsson, Michael (I)', 'Hayward, Rachel', 'McCall, Malik', 'Chiu, Tasha', 'Roberts, Sean Owen', 'Andrews, Graham (I)', 'Keresztes, Andrea', 'Ballard, Jeffrey (I)', 'Genzel, Carrie', 'Klamp, Berthram', 'Rogers, Michael (V)', 'DeLuise, Anne Marie', 'Uthipratuma, Vinai', 'Aitken, Christine (II)', 'Humphreys, Alf (I)', 'Ferenczi, Ildiko', 'Corrigan, Colin (I)', 'Toufexis, Elias', 'Copping, Jennifer', 'Runte, Kurt Max', 'Debreczebu, Gabor', 'Ory, Meghan', 'Chalk, Garry', 'Gáspár, Imola', 'McLoughlin, Dana', 'Borbély, László (I)', 'Araya, Alison', 'Kelly, Brad (I)', 'Oskay, Yonca', 'Judd, Becky', 'Petrezselyem, Adam', 'Gardiner, Bill (II)', 'Chapman, Douglas', 'Misura, Nick', 'Altman, Allen', 'Calder, Jason (I)', 'Delain, Moneca', 'Bean, Michael (I)', 'Hayden, Josh (I)', 'Goztola, Krisztina', 'Alexander, Brandi (I)', 'Stewart, Rob (I)', 'Radó, Péter', 'Danso, Megan', 'Tyson, Barbara', 'Medway, Raymond Patrick', 'Robison, Ian', 'Holbein, Marko', 'Bennett, Sonja', 'Skovbye, Tiera', 'McCabe, Debra', 'Graham, Leah (I)', 'Davis, Michelle (X)', 'Agócs, Gábor', 'Jenkins, Peter (III)', 'Broatch, Lewis', 'Chick, Anne', 'Smith, Rennie', 'Alexander, Reese', 'Mosher, Todd Charles', 'Loken, Kristanna', 'Johnson, Jon (II)', 'Biniaz, Celina', 'Chartrand, Colby', 'Henderson, Fred (I)', 'Sweet, Edward M.', 'Sanford, Garwin', 'Norry, Marilyn', 'Richmond, Zakary', 'Cross, Garvin', 'Simon, Andrea (I)', 'Steinman, William', 'Tai, Ada', 'Zampounidis, George', 'Dann, Demord', 'Gábori, Dániel', 'Nagy, Sandor Istvan', 'Gold, L. Harvey', 'Miller, Scott B.', 'Pawson, Mark', 'Banks, Linden', \"Stewart, William 'Big Sleeps'\", 'Bubel, Jayme', 'Jones, Gary (I)', 'Tai, Arlene', 'Tesch, Ingrid', 'Mackay, Gerry', 'Tímár, Andor', 'Chambers, Lisa (I)', 'Sorensen, Scott (II)', 'Kelly, Mike (XIII)', 'Evans, Kurt (I)', 'Tremblett, Ken', 'Devere, Matt', 'Cabrita, Nelson', 'Szabados, Mihály', 'Thompson, Ian (VI)', 'Bogyo, Gabor', 'Van Steinburg, Martin', 'Blacker, Josh', 'Hogarth, Carennia', 'Friesen, Nancy', 'Coates, Conrad', 'Danby, Noah', 'Campbell, Chuck (I)', 'Europe, Tommy', 'Murray, Clifton MaCabe', 'Rempel, Beatriz', 'Szakács, László (I)', 'Vanova, Apollonia', 'Bae, Paul', 'Blackmore, Jackie', 'Aneke, Emy', 'Fouad, Hamza', 'Barton, Brandon (I)', 'Phelan, Mark (III)', 'Marchant, Bill', 'Thordarson, Stefan', 'Robson, Chris (I)', \"Boyce, Rob 'Sluggo'\", 'Bramble, Osmond L.', 'Buchner, Reace', 'Duffield, Victoria', 'Holmes, Adrian (I)', 'Farkas, Kata', 'Hannigan, Declan', 'Bartak, Henry', 'Ennis, Ryan', 'Chanoinat, Philippe', 'Salomaa, Sonya', 'Morgan, Walcott E.', 'Siegel, Howard (I)', 'Mehlmann, Michael', 'Lambert, Esme', 'Mossley, Robin', 'Bordán, Lili', 'Bradford, Chris (I)', 'Papalia, Melanie', 'Linka, Peter', 'Bauer, Ralf', 'Angiki, Kiu', 'Kruper, Karen', 'Daudet, Monica', 'Crescenzo, James', 'Vékes, Csaba', 'Sanzari, Patrizio', 'Lawlor, Steve', 'Melis, Andrea (I)', 'Balla, Eszter (I)', 'Réti, Barnabás', 'Bor, László', 'Lucas, Byron', 'Antolik, Árpád', 'Hazelwood, Tyler', 'Dack, Douglas Roy', 'Dadey, John', 'Edwards, Michael (XIII)', 'Westguard, Ashiko', 'Somfalvi, Gergö', 'Ly, Phoenix', 'Mitchell, Jenny (I)', 'DeSantis, John (I)', 'Lynne, Randi', 'Aitcheson, Fraser', 'Sallis, Beatrice', 'Pate, Rosemary', 'Rókás, László', 'Johnson, Brock (I)', 'Hatt, Troy', 'DeLuise, Peter', 'Máhr, Ágnes', 'Huffman, Alaina', 'Cerminara, Donovan', 'Dawson, Bruce (I)', 'Gray, G. Michael', 'Carleton, Clint', 'Onstad, Michael'}, 'genres': {'Sci-Fi', 'Action'}}\n",
      "('Realiti', 2014)\n",
      "0.0387488326078\n",
      "{'plot': 'An upwardly mobile media executive is drawn into the chase for a neuro-marketing drug designed to influence opinion and perception - Realiti. Under the influence of the drug he must unravel a corporate conspiracy, while risking his career, his family and his hold on reality itself.', 'cast': {'Manasiadis, Miranda', 'Murtagh, A.J.', 'Meister, Nathan', 'McTavish, Graham', 'Waggott, Paul', 'Whiteside, Richard (I)', 'Brandt, William (I)', 'Langstone, Michelle', 'Banks, Erin (I)', 'Lees, Nathaniel', 'White, Aroha', 'Wong, Tim (I)'}, 'genres': {'Sci-Fi'}}\n",
      "('Plurality', 2012)\n",
      "0.0392776926026\n",
      "{'plot': 'After New York City introduces a cutting-edge identity-scanning technology in 2023, citizens can not only unlock doors and make purchases at the touch of a finger, they can be tracked by the police 24/7. Crime drops almost instantly, but an unexpected side effect occurs - people start popping up in two places at once.', 'cast': {'Spencer, Wes', 'McCullough, April (II)', 'Brodowski, Matt', 'Di Domenico, John', 'Kuhr, Mack', 'Monteiro, Michael (IV)', 'Marie, Janice', 'Brandon, Heath', 'Davidson, Aldous', 'Febus, Jose', 'Strelitz, Samantha', 'Wallace Jr., Scott', 'Preimesberger, Ryan (I)', 'Dash III, John', 'Nissani, Jeffrey', 'Oppal, Reynah Rita'}, 'genres': {'Thriller', 'Action', 'Sci-Fi', 'Short'}}\n"
     ]
    }
   ],
   "source": [
    "n_topics = 20\n",
    "lda = LatentDirichletAllocation(n_topics=n_topics, max_iter=2,\n",
    "                                learning_method='online', learning_offset=10.,\n",
    "                                random_state=0)\n",
    "lda_vec = lda.fit_transform(feat_vec)\n",
    "similar_movies2(q[2],lda_vec,vectorizer,lda)"
   ]
  },
  {
   "cell_type": "code",
   "execution_count": 10,
   "metadata": {
    "collapsed": false,
    "scrolled": false
   },
   "outputs": [
    {
     "name": "stdout",
     "output_type": "stream",
     "text": [
      "Topic  1: ['battle', 'alien', 'simon', 'los', 'jake', 'fight', 'clark', 'powers', 'angeles', 'alex']\n",
      "Topic  2: ['president', 'agent', 'new', 'war', 'john', 'american', 'government', 'men', 'years', 'group']\n",
      "Topic  3: ['girls', 'george', 'friends', 'student', 'students', 'college', 'adam', 'high', 'rachel', 'school']\n",
      "Topic  4: ['francis', 'wendy', 'jesus', 'canadian', 'farmer', 'harrison', 'brooke', 'al', 'elizabeth', 'michael']\n",
      "Topic  5: ['julia', 'week', 'food', 'bob', 'joe', 'restaurant', 'tim', 'ryan', 'gay', 'party']\n",
      "Topic  6: ['family', 'mysterious', 'max', 'father', 'years', 'home', 'house', 'young', 'town', 'evil']\n",
      "Topic  7: ['crime', 'team', 'killed', 'killer', 'dead', 'death', 'man', 'police', 'case', 'murder']\n",
      "Topic  8: ['wish', 'raj', 'christian', 'church', 'god', 'harry', 'heard', 'smith', 'simple', 'archer']\n",
      "Topic  9: ['betty', 'greg', 'gary', 'tracy', 'lee', 'nick', 'tommy', 'danny', 'grace', 'alan']\n",
      "Topic  10: ['teams', '000', 'race', 'world', 'team', 'challenge', 'time', 'amy', 'ultimate', 'jane']\n",
      "Topic  11: ['amanda', 'jesse', 'girls', 'kelly', 'boys', 'kim', 'miss', 'jill', 'christmas', 'alice']\n",
      "Topic  12: ['whilst', 'son', 'wife', 'daniel', 'doctor', 'dr', 'hospital', 'tells', 'husband', 'tom']\n",
      "Topic  13: ['year', 'people', 'woman', 'story', 'lives', 'world', 'man', 'young', 'life', 'love']\n",
      "Topic  14: ['karen', 'ship', 'captain', 'rescue', 'island', 'space', 'joey', 'crew', 'earth', 'planet']\n",
      "Topic  15: ['brown', 'qv', 'anne', 'jay', 'johnny', 'francisco', 'ellen', 'san', 'contestants', 'william']\n",
      "Topic  16: ['mary', 'chris', 'tells', 'gets', 'matt', 'peter', 'steve', 'mike', 'david', 'sam']\n",
      "Topic  17: ['fun', 'big', 'play', 'new', 'rock', 'band', 'music', 'ben', 'dance', 'game']\n",
      "Topic  18: ['friend', 'just', 'finds', 'home', 'life', 'time', 'family', 'new', 'gets', 'help']\n",
      "Topic  19: ['television', 'episode', 'comedy', 'tv', 'star', 'director', 'hollywood', 'series', 'movie', 'film']\n",
      "Topic  20: ['art', 'life', 'american', 'world', 'people', 'documentary', 'years', 'history', 'film', 'story']\n"
     ]
    }
   ],
   "source": [
    "n_topics = 20\n",
    "def list_topics(lda, vocab, n_topics, n_words = 10):\n",
    "    for n in range(n_topics):\n",
    "        top_inds = np.argpartition(lda.components_[n], -n_words)[-n_words:]\n",
    "        topics = [vocab[i] for i in top_inds]\n",
    "        print('Topic ',str(n+1)+':',topics)\n",
    "        \n",
    "list_topics(lda, vocab, n_topics)"
   ]
  },
  {
   "cell_type": "markdown",
   "metadata": {},
   "source": [
    "While the topic structure does seem to capture some semantic topics, there are also many unnecessary groups (ex: topic 16)."
   ]
  }
 ],
 "metadata": {
  "kernelspec": {
   "display_name": "Python 3",
   "language": "python",
   "name": "python3"
  },
  "language_info": {
   "codemirror_mode": {
    "name": "ipython",
    "version": 3
   },
   "file_extension": ".py",
   "mimetype": "text/x-python",
   "name": "python",
   "nbconvert_exporter": "python",
   "pygments_lexer": "ipython3",
   "version": "3.5.1"
  }
 },
 "nbformat": 4,
 "nbformat_minor": 0
}
