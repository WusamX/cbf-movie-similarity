{
 "cells": [
  {
   "cell_type": "code",
   "execution_count": 49,
   "metadata": {
    "collapsed": false
   },
   "outputs": [
    {
     "name": "stdout",
     "output_type": "stream",
     "text": [
      "1338639\n"
     ]
    }
   ],
   "source": [
    "import re\n",
    "\n",
    "name_re = re.compile(R'\"?(.*?)\"?\\s*\\(([\\d/IVX?]+?)\\)\\s*(?:\\(.*?\\)\\s*|\\{.*\\}\\s*)*\\s*(\\w*)',re.U)\n",
    "\n",
    "def get_movie(regex_res):\n",
    "    return regex_res.group(1).strip(), regex_res.group(2).strip()\n",
    "\n",
    "def base_movies():\n",
    "    movies = set([])\n",
    "    with open('movies.list', 'r', encoding = 'latin-1') as fp:\n",
    "        for line in iter(fp.readline, ''):\n",
    "            res = name_re.search(line)\n",
    "            if res:\n",
    "                movies.add(get_movie(res))\n",
    "    return movies\n",
    "\n",
    "movies = base_movies()\n",
    "print(len(movies))"
   ]
  },
  {
   "cell_type": "markdown",
   "metadata": {},
   "source": [
    "Eliminate those movies before 1990."
   ]
  },
  {
   "cell_type": "code",
   "execution_count": 50,
   "metadata": {
    "collapsed": false
   },
   "outputs": [
    {
     "name": "stdout",
     "output_type": "stream",
     "text": [
      "883181\n"
     ]
    }
   ],
   "source": [
    "def year_filter(movies, year_after = 1990):\n",
    "    l = []\n",
    "    for title, year in movies:\n",
    "        try:\n",
    "            if int(year[0:4]) >= year_after:\n",
    "                l.append((title, year))\n",
    "        except ValueError:\n",
    "            pass       \n",
    "    return set(l)\n",
    "\n",
    "movies = year_filter(movies)\n",
    "print(len(movies))"
   ]
  },
  {
   "cell_type": "markdown",
   "metadata": {},
   "source": [
    "Eliminate non-English movies"
   ]
  },
  {
   "cell_type": "code",
   "execution_count": 51,
   "metadata": {
    "collapsed": false
   },
   "outputs": [
    {
     "name": "stdout",
     "output_type": "stream",
     "text": [
      "544791\n"
     ]
    }
   ],
   "source": [
    "def language_filter(movies, lang = 'English'):\n",
    "    lang_movies = set([])\n",
    "    movie = ('',0)\n",
    "    langs = set([])\n",
    "    with open('language.list', 'r', encoding = 'latin-1') as fp:\n",
    "        for line in iter(fp.readline, ''):\n",
    "            res = name_re.search(line)\n",
    "            if res:\n",
    "                if res.group(3) == lang:\n",
    "                    lang_movies.add(get_movie(res))\n",
    "    return movies & lang_movies\n",
    "\n",
    "movies = language_filter(movies)\n",
    "print(len(movies))"
   ]
  },
  {
   "cell_type": "code",
   "execution_count": 52,
   "metadata": {
    "collapsed": false,
    "scrolled": false
   },
   "outputs": [
    {
     "name": "stdout",
     "output_type": "stream",
     "text": [
      "[(\"Russell Coight's Celebrity Challenge\", '2004'), ('The Savior Is Born', '1992'), (\"'Til Death\", '2015/II'), ('Savage Wild', '2009'), ('The Casting Call', '2015'), ('The Dark', '2008'), ('Sports Bloopers Encyclopedia', '1996'), ('Thou Shalt Laugh 5', '2010'), ('Stages', '2016'), ('Basques in the West', '2012')]\n"
     ]
    }
   ],
   "source": [
    "import random\n",
    "print(random.sample(movies,10))"
   ]
  },
  {
   "cell_type": "markdown",
   "metadata": {},
   "source": [
    "Eliminate movies that do not have plots."
   ]
  },
  {
   "cell_type": "code",
   "execution_count": 53,
   "metadata": {
    "collapsed": false
   },
   "outputs": [
    {
     "name": "stdout",
     "output_type": "stream",
     "text": [
      "157526\n"
     ]
    }
   ],
   "source": [
    "def parse_lines(lines):\n",
    "    movie = None\n",
    "    plot = []\n",
    "    for line in lines:\n",
    "        if line.startswith('MV:'):\n",
    "            res = name_re.search(line[4:])\n",
    "            if res:\n",
    "                movie = get_movie(res)\n",
    "        elif line.startswith('PL:'):\n",
    "            plot.append(line[4:])\n",
    "    return movie, ' '.join(plot)\n",
    "\n",
    "def plot_filter(movies):\n",
    "    movie_plots  = { }\n",
    "    plots = []\n",
    "    lines = []\n",
    "    with open('plot.list', 'r', encoding = 'latin-1') as fp:\n",
    "        delim = '-'*79+'\\n'\n",
    "        for line in iter(fp.readline, ''):\n",
    "            if line == delim:\n",
    "                movie, plot = parse_lines(lines)\n",
    "                if movie in movie_plots:\n",
    "                    movie_plots[movie] = movie_plots[movie] + ' ' + plot\n",
    "                else:\n",
    "                    movie_plots[movie] = plot\n",
    "                lines = []\n",
    "            else:\n",
    "                lines.append(line.strip())\n",
    "    keys = movie_plots.keys() & movies\n",
    "    return {k:{'plot':movie_plots[k]} for k in keys}\n",
    "\n",
    "movies = plot_filter(movies)\n",
    "print(len(movies))"
   ]
  },
  {
   "cell_type": "code",
   "execution_count": 54,
   "metadata": {
    "collapsed": false,
    "scrolled": false
   },
   "outputs": [
    {
     "name": "stdout",
     "output_type": "stream",
     "text": [
      "('Cubanoson: The Story', '2011') {'plot': '\"Cubanoson: The Story\" is a short documentary on Papo Ortega\\'s Cubanoson, New York\\'s Cuban Orchestra. The film is presented by MeLu Films and directed by Lucio Fernandez. It is a behind the scenes look at what makes this orchestra so unique in the world of Latin music. The film features interviews with all of Cubanoson\\'s musicians; with music by Papo Ortega as well as a dynamic live performance by Cubanoson of Guillermo Portabales\\' classic \"El Carretero\". The film is produced by MeLu Films in association with Cubanoson Productions and El Gitano Discreto Productions. The film is dedicated to all who love Latin music and particularly Cuban music.'}\n",
      "('Belgrade Pride', '1997') {'plot': 'In June 2001 Belgrade lesbians, gay men, bisexuals and trans people organized a Pride event in celebration of the new era of democracy and tolerance that was believed to have come to Serbia. About 40 people came to celebrate. Several thousand counter-demonstrators organized, showed up and brutally beat them. This crucial documentary serves as a reminder that LGBT existance is not safe and sound, and human rights should never be taken for granted.'}\n",
      "('Yami no matsuei', '2000') {'plot': \"Hijiri Minase's joy at being able to play the violin again thanks to a donated cornea fades as his precious instrument is destroyed in a fire. Offered a replacement by Kazusa, the daughter of the cornea donor. Little does Hijiri realize, but the secrets that the violin hold is only just beginning... Hijiri is crushed to learn that by receiving Tatsuya Otonashi's cornea he has been entered into a contract with the devil that will culminate in the death of both Hijiri, his close friend, and Tatsuya's daughter Kazusa. Determined to defy the pact, Hijiri tries to go on with life as normal but soon discovers this is not an option and that the assistance of Tsuzuki and Hisoka may be his only solution. Despite what he may believe, Hijiri Minase's contract with the devil is far from over and now Tsuzuki, under the devil's control, is looking to fulfill both parts of the contract. Distraught at his friend and partner's suffering, Hisoka set a plan in motion with the hopes of freeing Tsuzuki from Sagatanas' control, however the risks are great for all involved. A request from the Count himself leads Tsuzuki and Hisoka to the Queen Camellia cruise ship to investigate its ties with the mysterious longevity of a number of people who were due to die. Once on board, Hisoka finds himself drawn to Princess Tsubaki, the daughter of the ship's owner, while Tsuzuki is horrified to discover an old acquaintance alive and well. As one of the passengers is killed, suspicions turn to all directions but Tsuzki and Hisoka have one particular suspect at the top of their list. The serial killings take an unexpected turn as Dr Muraki becomes the second victim. Tsuzuki and Gushoshin attempt to unravel the mystery of the Tarot Cards left at each killing, however Muraki's card, the King of Swords ripped in two, leaves them stumped. Hisoka, meanwhile, furthers his friendship with Princess Tsubaki but uncovers some shocking truths in the process. Dr Muraki's miraculous return from the dead helps Tsuzuki and Hisoka unravel the mysteries of the Tarot Card murders, however the truths they uncover are not easy to stomach. With Princess Tsubaki under Muraki's control, Hisoka is forced to fight his new found friend in order to save her from her torment, but will the power of the Guardians of Death be enough to save this victim from her fate? Muraki asks his old friend Oriya for one last favour; to distract Hisoka and the others for as long as possible so that he can finish what he needs to do with Tsuzuki in private. As Hisoka, Watari, and Atsumi arrive at Kokakuro, Oriya refuses to give up the entry card without a fight so a sword battle between the two protectors. Meanwhile Tsuzuki slowly recovers from his mental anguish, remembering his past and wondering whether he was ever truly meant to exist in any form, human or otherwise. A series of vampire killings in Nagasaki lead Asato Tsuzuki to a confrontational encounter with his new partner, Hisoka Kurosaki. As the two try to cope with working together as guardians of death they must also figure out who is responsible for the supernatural attacks. Maria Won is revealed to be the attacker responsible for the Nagasaki attacks, however her life after death was not without the helping hand of another. As it becomes clear that the mysterious Dr. Muraki is involved in the supernatural goings-on, Tsuzuki learns that Maria Wong is not the only one he should be concerned about. Tsuzuki rushes to the aid of Hisoka, who has been captured by Dr Muraki, however during the confrontation he discovers the shocking truth behind Hisoka's death. As the two partners are reunited they are thrown into working together as Muraki attacks, trying to force the pair into submission and preventing them from escaping.\"}\n",
      "('Nightlife', '2008') {'plot': \"Forget about capes, they dress just like us. They watch a lot of bad TV. They're more concerned with paying the rent on time than they are with crossing Van Helsing. However, everyone has enemies, and our subjects are no exception. Enter the vampire hunters; comic book loving geeks who have made it their mission to vanquish these demons of the night with signature homemade weapons. When these two sides come fang to face things get pretty ugly, but for all concerned parties it's just another day in the everlasting battle between good and evil.\"}\n"
     ]
    }
   ],
   "source": [
    "for s in random.sample(list(movies),4):\n",
    "    print(s,movies[s])"
   ]
  },
  {
   "cell_type": "code",
   "execution_count": 55,
   "metadata": {
    "collapsed": false
   },
   "outputs": [
    {
     "name": "stdout",
     "output_type": "stream",
     "text": [
      "155241\n"
     ]
    }
   ],
   "source": [
    "def genre_filter(movies):\n",
    "    keys  = set([])\n",
    "    genre_re = re.compile(R'\"?(.*?)\"?\\s*\\(([\\d/IVX?]+?)\\)\\s*(?:\\(.*?\\)\\s*|\\{.*\\}\\s*)*\\s*([\\w-]*)', re.U)\n",
    "    with open('genres.list','r',encoding = 'latin-1') as fp:\n",
    "        i = 0\n",
    "        for line in iter(fp.readline, ''):\n",
    "            i += 1\n",
    "            if i == 380:\n",
    "                break\n",
    "        for line in iter(fp.readline, ''):\n",
    "            res = genre_re.search(line)\n",
    "            if res:\n",
    "                mov = get_movie(res)\n",
    "                keys.add(mov)\n",
    "                if mov in movies:\n",
    "                    if 'genres' in movies[mov]:\n",
    "                        movies[mov]['genres'].add(res.group(3))\n",
    "                    else:\n",
    "                        movies[mov]['genres'] = set([res.group(3)])\n",
    "    \n",
    "    mkeys = keys & movies.keys()\n",
    "    return {k:v for k,v in movies.items() if k in mkeys}\n",
    "    \n",
    "movies = genre_filter(movies)\n",
    "print(len(movies))"
   ]
  },
  {
   "cell_type": "code",
   "execution_count": 56,
   "metadata": {
    "collapsed": false
   },
   "outputs": [
    {
     "name": "stdout",
     "output_type": "stream",
     "text": [
      "108804\n"
     ]
    }
   ],
   "source": [
    "def cast_filter(movies, file_name = 'actresses'):\n",
    "    keys  = set([])\n",
    "    with open(file_name+'.list','r',encoding = 'latin-1') as fp:\n",
    "        current_cast = ''\n",
    "        cast_re = re.compile(R'([^\\t]+?,.*)\\t+\"?(.*?)\"?\\s*\\(([\\d/IVX?]+?)\\)\\s*(?:\\(.*?\\)\\s*|\\{.*\\}\\s*)*\\s*(\\w*)',re.U)\n",
    "        film_re = re.compile(R'\\t+\"?(.*?)\"?\\s*\\(([\\d/IVX?]+?)\\)\\s*(?:\\(.*?\\)\\s*|\\{.*\\}\\s*)*\\s*(\\w*)', re.U)\n",
    "\n",
    "        for line in iter(fp.readline, ''):\n",
    "            res = cast_re.search(line)\n",
    "            if res:\n",
    "                current_cast = res.group(1).strip()\n",
    "                mov = (res.group(2).strip(),res.group(3).strip())\n",
    "                keys.add(mov)\n",
    "                if mov in movies:\n",
    "                    if 'cast' in movies[mov]:\n",
    "                        movies[mov]['cast'].add(current_cast)\n",
    "                    else:\n",
    "                        movies[mov]['cast'] = set([current_cast])\n",
    "                            \n",
    "            else:\n",
    "                res2 = film_re.search(line)\n",
    "                if res2:\n",
    "                    mov = (res2.group(1).strip(),res2.group(2).strip())\n",
    "                    keys.add(mov)\n",
    "                    if mov in movies:\n",
    "                        if 'cast' in movies[mov]:\n",
    "                            movies[mov]['cast'].add(current_cast)\n",
    "                        else:\n",
    "                            movies[mov]['cast'] = set([current_cast])\n",
    "    mkeys = keys & movies.keys()\n",
    "    return {k:v for k,v in movies.items() if k in mkeys}\n",
    "\n",
    "movies = cast_filter(movies)\n",
    "print(len(movies))"
   ]
  },
  {
   "cell_type": "code",
   "execution_count": 57,
   "metadata": {
    "collapsed": false
   },
   "outputs": [
    {
     "name": "stdout",
     "output_type": "stream",
     "text": [
      "103798\n"
     ]
    }
   ],
   "source": [
    "movies = cast_filter(movies, file_name = 'actors')\n",
    "print(len(movies))"
   ]
  },
  {
   "cell_type": "markdown",
   "metadata": {},
   "source": [
    "Write down the data in json format."
   ]
  },
  {
   "cell_type": "code",
   "execution_count": 58,
   "metadata": {
    "collapsed": false
   },
   "outputs": [],
   "source": [
    "import io, json\n",
    "\n",
    "def write_movies(movies, path):\n",
    "    with io.open(path, 'w', encoding='latin-1') as f:\n",
    "        data = [{'title':title,'year':year,'plot':val['plot'], 'cast':list(val['cast']), \\\n",
    "                 'genres':list(val['genres'])} for (title,year),val in movies.items()]\n",
    "        f.write(json.dumps(data, ensure_ascii=False))\n",
    "        \n",
    "write_movies(movies, 'data.json')"
   ]
  },
  {
   "cell_type": "markdown",
   "metadata": {},
   "source": [
    "Create wrapper function for the whole thing."
   ]
  },
  {
   "cell_type": "code",
   "execution_count": 59,
   "metadata": {
    "collapsed": true
   },
   "outputs": [],
   "source": [
    "def prepare_movies(path = None):\n",
    "    movies = cast_filter(cast_filter(genre_filter(plot_filter(language_filter(year_filter(base_movies())))),'actors'))\n",
    "    if path is not None:\n",
    "        write_movies(movies, path)\n",
    "    \n",
    "    return movies\n"
   ]
  }
 ],
 "metadata": {
  "kernelspec": {
   "display_name": "Python 3",
   "language": "python",
   "name": "python3"
  },
  "language_info": {
   "codemirror_mode": {
    "name": "ipython",
    "version": 3
   },
   "file_extension": ".py",
   "mimetype": "text/x-python",
   "name": "python",
   "nbconvert_exporter": "python",
   "pygments_lexer": "ipython3",
   "version": "3.5.1"
  }
 },
 "nbformat": 4,
 "nbformat_minor": 0
}
