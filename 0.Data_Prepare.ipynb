{
 "cells": [
  {
   "cell_type": "code",
   "execution_count": 18,
   "metadata": {
    "collapsed": false
   },
   "outputs": [
    {
     "name": "stdout",
     "output_type": "stream",
     "text": [
      "1253650\n"
     ]
    }
   ],
   "source": [
    "import re\n",
    "\n",
    "name_re = re.compile(R'\"?(.*?)\"?\\s*\\((\\d+?)\\)\\s*(?:\\(.*?\\)\\s*|\\{.*\\}\\s*)*\\s*(\\w*)',re.U)\n",
    "\n",
    "def get_movie(regex_res):\n",
    "    return regex_res.group(1).strip(), int(regex_res.group(2))\n",
    "\n",
    "def base_movies():\n",
    "    movies = set([])\n",
    "    with open('movies.list', 'r', encoding = 'latin-1') as fp:\n",
    "        for line in iter(fp.readline, ''):\n",
    "            res = name_re.search(line)\n",
    "            if res:\n",
    "                movies.add(get_movie(res))\n",
    "    return movies\n",
    "\n",
    "movies = base_movies()\n",
    "print(len(movies))"
   ]
  },
  {
   "cell_type": "markdown",
   "metadata": {},
   "source": [
    "Eliminate those movies before 1990."
   ]
  },
  {
   "cell_type": "code",
   "execution_count": 19,
   "metadata": {
    "collapsed": false
   },
   "outputs": [
    {
     "name": "stdout",
     "output_type": "stream",
     "text": [
      "836953\n"
     ]
    }
   ],
   "source": [
    "def year_filter(movies, year_after = 1990):\n",
    "    return set([(title,year) for (title,year) in movies if year >= year_after])\n",
    "\n",
    "movies = year_filter(movies)\n",
    "print(len(movies))"
   ]
  },
  {
   "cell_type": "markdown",
   "metadata": {},
   "source": [
    "Eliminate non-English movies"
   ]
  },
  {
   "cell_type": "code",
   "execution_count": 20,
   "metadata": {
    "collapsed": false
   },
   "outputs": [
    {
     "name": "stdout",
     "output_type": "stream",
     "text": [
      "509430\n"
     ]
    }
   ],
   "source": [
    "def language_filter(movies, lang = 'English'):\n",
    "    lang_movies = set([])\n",
    "    movie = ('',0)\n",
    "    langs = set([])\n",
    "    with open('language.list', 'r', encoding = 'latin-1') as fp:\n",
    "        for line in iter(fp.readline, ''):\n",
    "            res = name_re.search(line)\n",
    "            if res:\n",
    "                if res.group(3) == lang:\n",
    "                    lang_movies.add(get_movie(res))\n",
    "    return movies & lang_movies\n",
    "\n",
    "movies = language_filter(movies)\n",
    "print(len(movies))"
   ]
  },
  {
   "cell_type": "code",
   "execution_count": 21,
   "metadata": {
    "collapsed": false,
    "scrolled": true
   },
   "outputs": [
    {
     "name": "stdout",
     "output_type": "stream",
     "text": [
      "[(\"Annie's Bar\", 1996), ('No Reply', 2006), ('Scorsese on Imamura', 2007), ('Grammy', 2015), ('NOOMA Shells 020', 2007), ('Lab Art Show', 2015), ('Mofos: Real Slut Party 9', 2012), ('No Parking', 2011), ('Ménage à Moi', 2016), ('Forged', 2007)]\n"
     ]
    }
   ],
   "source": [
    "import random\n",
    "print(random.sample(movies,10))"
   ]
  },
  {
   "cell_type": "markdown",
   "metadata": {},
   "source": [
    "Eliminate movies that do not have plots."
   ]
  },
  {
   "cell_type": "code",
   "execution_count": 22,
   "metadata": {
    "collapsed": false
   },
   "outputs": [
    {
     "name": "stdout",
     "output_type": "stream",
     "text": [
      "147238\n"
     ]
    }
   ],
   "source": [
    "def parse_lines(lines):\n",
    "    movie = None\n",
    "    plot = []\n",
    "    for line in lines:\n",
    "        if line.startswith('MV:'):\n",
    "            res = name_re.search(line[4:])\n",
    "            if res:\n",
    "                movie = get_movie(res)\n",
    "        elif line.startswith('PL:'):\n",
    "            plot.append(line[4:])\n",
    "    return movie, ' '.join(plot)\n",
    "\n",
    "def plot_filter(movies):\n",
    "    movie_plots  = { }\n",
    "    plots = []\n",
    "    lines = []\n",
    "    with open('plot.list', 'r', encoding = 'latin-1') as fp:\n",
    "        delim = '-'*79+'\\n'\n",
    "        for line in iter(fp.readline, ''):\n",
    "            if line == delim:\n",
    "                movie, plot = parse_lines(lines)\n",
    "                if movie in movie_plots:\n",
    "                    movie_plots[movie] = movie_plots[movie] + ' ' + plot\n",
    "                else:\n",
    "                    movie_plots[movie] = plot\n",
    "                lines = []\n",
    "            else:\n",
    "                lines.append(line.strip())\n",
    "    keys = movie_plots.keys() & movies\n",
    "    return {k:{'plot':movie_plots[k]} for k in keys}\n",
    "\n",
    "movies = plot_filter(movies)\n",
    "print(len(movies))"
   ]
  },
  {
   "cell_type": "code",
   "execution_count": 24,
   "metadata": {
    "collapsed": false,
    "scrolled": false
   },
   "outputs": [
    {
     "name": "stdout",
     "output_type": "stream",
     "text": [
      "('Daedalus', 2012) {'plot': \"Daedalus is the story of a man who after an accident discovers that he's being hunted by a hit-man. A stranger offers to help, but in return requires him to do a job as an assassin. In a twisted turn of events, Daedalus discovers the truth.\"}\n",
      "(\"I Don't Want to Kill Myself\", 2011) {'plot': \"When James fakes a suicide attempt to get his friend out of a DUI, he is sentenced to an out-patient recovery group for suicidal people, where he must convince everyone, including himself, that he doesn't want to kill himself.\"}\n",
      "('Modern Music', 2013) {'plot': 'In Modern Music we follow an ad-hoc family (label, band, and management) as they navigate the ever changing music business. The results are a hilarious look at a struggling art form and the inter-personal relationships of the people who keep it alive.'}\n",
      "('Louie Anderson Presents', 2011) {'plot': 'Louie Anderson is one of the most versatile and successful comedians working in Hollywood today, loved by the television audiences who never missed his nightly hit series \"Family Feud\" or his appearances on late night chat shows. He is adored by standing-room-only crowds in Las Vegas and respected by readers of his books. He is worshiped by the rising comics he mentors and encourages with his honesty and wisdom Louie brings his favorite comics together for one hilarious night, with performances by Louie Anderson\\'s comedy camp graduates Lukas Seely, Chuck Roy, Jon Wilson and veteran comedian Al Jackson. Filmed in front of a sold out audiences at San Bernardino\\'s 1,700 seat Historic California Theatre of the Performing Arts for Showtime, LOL Comedy brings you Louie Anderson Presents.'}\n"
     ]
    }
   ],
   "source": [
    "for s in random.sample(list(movies),4):\n",
    "    print(s,movies[s])"
   ]
  },
  {
   "cell_type": "code",
   "execution_count": 35,
   "metadata": {
    "collapsed": false
   },
   "outputs": [
    {
     "name": "stdout",
     "output_type": "stream",
     "text": [
      "144988\n"
     ]
    }
   ],
   "source": [
    "def genre_filter(movies):\n",
    "    keys  = set([])\n",
    "    genre_re = re.compile(R'\"?(.*?)\"?\\s*\\((\\d+?)\\)\\s*(?:\\(.*?\\)\\s*|\\{.*\\}\\s*)*\\s*([\\w-]*)', re.U)\n",
    "    with open('genres.list','r',encoding = 'latin-1') as fp:\n",
    "        i = 0\n",
    "        for line in iter(fp.readline, ''):\n",
    "            i += 1\n",
    "            if i == 380:\n",
    "                break\n",
    "        for line in iter(fp.readline, ''):\n",
    "            res = genre_re.search(line)\n",
    "            if res:\n",
    "                mov = get_movie(res)\n",
    "                keys.add(mov)\n",
    "                if mov in movies:\n",
    "                    if 'genres' in movies[mov]:\n",
    "                        movies[mov]['genres'].add(res.group(3))\n",
    "                    else:\n",
    "                        movies[mov]['genres'] = set([res.group(3)])\n",
    "    \n",
    "    mkeys = keys & movies.keys()\n",
    "    return {k:v for k,v in movies.items() if k in mkeys}\n",
    "    \n",
    "movies = genre_filter(movies)\n",
    "print(len(movies))"
   ]
  },
  {
   "cell_type": "code",
   "execution_count": 36,
   "metadata": {
    "collapsed": false
   },
   "outputs": [
    {
     "name": "stdout",
     "output_type": "stream",
     "text": [
      "101278\n"
     ]
    }
   ],
   "source": [
    "def cast_filter(movies, file_name = 'actresses'):\n",
    "    keys  = set([])\n",
    "    with open(file_name+'.list','r',encoding = 'latin-1') as fp:\n",
    "        current_cast = ''\n",
    "        cast_re = re.compile(R'([^\\t]+?,.*)\\t+\"?(.*?)\"?\\s*\\((\\d+?)\\)\\s*(?:\\(.*?\\)\\s*|\\{.*\\}\\s*)*\\s*(\\w*)', re.U)\n",
    "        film_re = re.compile(R'\\t+\"?(.*?)\"?\\s*\\((\\d+?)\\)\\s*(?:\\(.*?\\)\\s*|\\{.*\\}\\s*)*\\s*(\\w*)', re.U)\n",
    "\n",
    "        for line in iter(fp.readline, ''):\n",
    "            res = cast_re.search(line)\n",
    "            if res:\n",
    "                current_cast = res.group(1).strip()\n",
    "                mov = (res.group(2),int(res.group(3)))\n",
    "                keys.add(mov)\n",
    "                if mov in movies:\n",
    "                    if 'cast' in movies[mov]:\n",
    "                        movies[mov]['cast'].add(current_cast)\n",
    "                    else:\n",
    "                        movies[mov]['cast'] = set([current_cast])\n",
    "                            \n",
    "            else:\n",
    "                res2 = film_re.search(line)\n",
    "                if res2:\n",
    "                    mov = (res2.group(1),int(res2.group(2)))\n",
    "                    keys.add(mov)\n",
    "                    if mov in movies:\n",
    "                        if 'cast' in movies[mov]:\n",
    "                            movies[mov]['cast'].add(current_cast)\n",
    "                        else:\n",
    "                            movies[mov]['cast'] = set([current_cast])\n",
    "    mkeys = keys & movies.keys()\n",
    "    return {k:v for k,v in movies.items() if k in mkeys}\n",
    "\n",
    "movies = cast_filter(movies)\n",
    "print(len(movies))"
   ]
  },
  {
   "cell_type": "code",
   "execution_count": 37,
   "metadata": {
    "collapsed": false
   },
   "outputs": [
    {
     "name": "stdout",
     "output_type": "stream",
     "text": [
      "96585\n"
     ]
    }
   ],
   "source": [
    "movies = cast_filter(movies, file_name = 'actors')\n",
    "print(len(movies))"
   ]
  },
  {
   "cell_type": "markdown",
   "metadata": {},
   "source": [
    "Write down the data in json format."
   ]
  },
  {
   "cell_type": "code",
   "execution_count": 38,
   "metadata": {
    "collapsed": false
   },
   "outputs": [],
   "source": [
    "import io, json\n",
    "\n",
    "def write_movies(movies, path):\n",
    "    with io.open(path, 'w', encoding='latin-1') as f:\n",
    "        data = [{'title':title,'year':year,'plot':val['plot'], 'cast':list(val['cast']), \\\n",
    "                 'genres':list(val['genres'])} for (title,year),val in movies.items()]\n",
    "        f.write(json.dumps(data, ensure_ascii=False))\n",
    "        \n",
    "write_movies(movies, 'data.json')"
   ]
  },
  {
   "cell_type": "markdown",
   "metadata": {},
   "source": [
    "Create wrapper function for the whole thing."
   ]
  },
  {
   "cell_type": "code",
   "execution_count": 39,
   "metadata": {
    "collapsed": true
   },
   "outputs": [],
   "source": [
    "def prepare_movies(path = None):\n",
    "    movies = cast_filter(cast_filter(genre_filter(plot_filter(language_filter(year_filter(base_movies())))),'actors'))\n",
    "    if path is not None:\n",
    "        write_movies(movies, path)\n",
    "    \n",
    "    return movies\n"
   ]
  }
 ],
 "metadata": {
  "kernelspec": {
   "display_name": "Python 3",
   "language": "python",
   "name": "python3"
  },
  "language_info": {
   "codemirror_mode": {
    "name": "ipython",
    "version": 3
   },
   "file_extension": ".py",
   "mimetype": "text/x-python",
   "name": "python",
   "nbconvert_exporter": "python",
   "pygments_lexer": "ipython3",
   "version": "3.5.1"
  }
 },
 "nbformat": 4,
 "nbformat_minor": 0
}
