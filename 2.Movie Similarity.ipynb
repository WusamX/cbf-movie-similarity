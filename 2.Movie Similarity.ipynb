{
 "cells": [
  {
   "cell_type": "markdown",
   "metadata": {},
   "source": [
    "In this notebook we will use the previously generated plot similarities to remake the paper. The codes from the last notebook are compiled in the Featurizer class in the featurizer.py file."
   ]
  },
  {
   "cell_type": "code",
   "execution_count": 20,
   "metadata": {
    "collapsed": false
   },
   "outputs": [],
   "source": [
    "from featurizer import Featurizer\n",
    "cf = Featurizer(plot_vectorizer = 'binary', tokenizer = None, lda = False)\n",
    "cf.load_train('data.json')"
   ]
  },
  {
   "cell_type": "code",
   "execution_count": 21,
   "metadata": {
    "collapsed": false,
    "scrolled": true
   },
   "outputs": [
    {
     "data": {
      "text/plain": [
       "[('The Fast and the Furious: Tokyo Drift', '2006')]"
      ]
     },
     "execution_count": 21,
     "metadata": {},
     "output_type": "execute_result"
    }
   ],
   "source": [
    "cf.find_movie('Tokyo Drift')"
   ]
  },
  {
   "cell_type": "markdown",
   "metadata": {},
   "source": [
    "In order to make a linear combination of all features we have (as the paper uses), we need to do a linear regression on some training data."
   ]
  },
  {
   "cell_type": "code",
   "execution_count": 22,
   "metadata": {
    "collapsed": true
   },
   "outputs": [],
   "source": [
    "from featurizer import Featurizer\n",
    "import numpy as np\n",
    "from scipy.sparse import issparse\n",
    "\n",
    "def first_find(title, year = None):\n",
    "    return cf.find_movie(title, year)[0]\n",
    "\n",
    "def training_row(A, B, score, featurizer):\n",
    "    fv = featurizer.single_features(A,B)\n",
    "    return np.hstack((fv.todense() if issparse(fv) else fv, np.array(score).reshape((1,1))))"
   ]
  },
  {
   "cell_type": "code",
   "execution_count": 23,
   "metadata": {
    "collapsed": false
   },
   "outputs": [],
   "source": [
    "import io, json\n",
    "\n",
    "def get_train_data(path):\n",
    "    with io.open(path, 'r', encoding='latin-1') as f:\n",
    "        data = json.load(f)\n",
    "        return [((movie['movie1']['title'],movie['movie1']['year']), \\\n",
    "                 (movie['movie2']['title'],movie['movie2']['year']), movie['score']) \\\n",
    "                for movie in data]\n",
    "\n",
    "training_data = get_train_data('training.json')"
   ]
  },
  {
   "cell_type": "code",
   "execution_count": 24,
   "metadata": {
    "collapsed": false
   },
   "outputs": [
    {
     "name": "stdout",
     "output_type": "stream",
     "text": [
      "(9, 3)\n",
      "(9, 1)\n"
     ]
    }
   ],
   "source": [
    "def training_vectors(training_data, featurizer):\n",
    "    v = [training_row(A, B, score, featurizer) for A, B, score in training_data]\n",
    "    v = np.vstack(v)\n",
    "    v = np.hsplit(v,[-1])\n",
    "    return v[0], v[1]\n",
    "\n",
    "A, b = training_vectors(training_data, cf)\n",
    "print(A.shape)\n",
    "print(b.shape)"
   ]
  },
  {
   "cell_type": "code",
   "execution_count": 26,
   "metadata": {
    "collapsed": false,
    "scrolled": true
   },
   "outputs": [
    {
     "name": "stdout",
     "output_type": "stream",
     "text": [
      "R^2 value: 0.49418843026\n"
     ]
    }
   ],
   "source": [
    "from sklearn.linear_model import LinearRegression\n",
    "\n",
    "def lin_reg(A, b):\n",
    "    lr = LinearRegression().fit(A,b)\n",
    "    r2 = lr.score(A,b)\n",
    "    coef = lr.coef_\n",
    "    return r2, coef\n",
    "\n",
    "r2, coef = lin_reg(A,b)\n",
    "print('R^2 value:',r2)"
   ]
  },
  {
   "cell_type": "code",
   "execution_count": 7,
   "metadata": {
    "collapsed": false
   },
   "outputs": [],
   "source": [
    "del(cf)"
   ]
  },
  {
   "cell_type": "markdown",
   "metadata": {},
   "source": [
    "Sample runs."
   ]
  },
  {
   "cell_type": "code",
   "execution_count": 9,
   "metadata": {
    "collapsed": false,
    "scrolled": true
   },
   "outputs": [],
   "source": [
    "def linear_test(training_data, path, plot_vectorizer = 'count', tokenizer = None, lda = False, use_genre_vecs = False):\n",
    "    cf = Featurizer(plot_vectorizer = plot_vectorizer, tokenizer = tokenizer, lda = lda, use_genre_vecs = use_genre_vecs)\n",
    "    cf.load_train(path)\n",
    "    A, b = training_vectors(training_data, cf)\n",
    "    r2, coef = lin_reg(A, b)\n",
    "    print('R^2:',r2)\n",
    "    print('Similar to the Avengers:',cf.similar_movies(coef, ('The Avengers', '2012'), movies = None, n = 15))\n",
    "    print('Similar to Burlesque:',cf.similar_movies(coef, ('Burlesque','2010/I'), movies = None, n = 15))\n",
    "    print('Similar to Gladiator:',cf.similar_movies(coef, ('Gladiator','2000'), movies = None, n = 15))\n",
    "    print('Similar to Tokyo Drift:',cf.similar_movies(coef, ('The Fast and the Furious: Tokyo Drift','2006'), movies = None, n = 15))\n",
    "    \n",
    "#linear_test(training_data, 'binary', tokenizer = None, use_genre_vecs = True)"
   ]
  },
  {
   "cell_type": "code",
   "execution_count": 14,
   "metadata": {
    "collapsed": false,
    "scrolled": false
   },
   "outputs": [
    {
     "name": "stdout",
     "output_type": "stream",
     "text": [
      "Plot vectorizer: count\n",
      "Tokenizer: None\n",
      "Using genre vectors: False\n",
      "Using data: data.json\n",
      "R^2: 0.541549138789\n",
      "Similar to the Avengers: [('Team Knight Rider', '1997'), ('Return of Hours', '2013'), ('Stargate', '1994'), ('Mission Park', '2010'), ('Dark World: Duel of the Assassins', '2003'), ('Ritânâ', '2002'), ('Einhänder', '1997'), ('Dune Warriors', '1991'), ('2012', '2009/I'), ('Raiders of the Sun', '1992'), ('Airboss II: Preemptive Strike', '1998'), ('Superman Returns', '2006'), ('Intergalactic Combat', '2007'), ('Independence Day', '1996'), ('Onslaught', '2015')]\n",
      "Similar to Burlesque: [('The Song', '2014/I'), ('Save the Last Dance', '2001'), ('Beat Girl', '2013'), ('Liberty Heights', '1999'), ('The Other Side of Love', '2016'), ('The Company', '2003'), ('A Slipping-Down Life', '1999'), ('1400', '2015'), ('Between Love & Goodbye', '2008'), ('Sine novela', '2007'), ('Yellow', '2006/I'), ('Once', '2007'), ('Musiek vir die Agtergrond', '2013'), ('Listen to Your Heart', '2010'), ('Julien & Claire', '2011')]\n",
      "Similar to Gladiator: [('The Substitute: Failure Is Not an Option', '2001'), ('7 Stones', '2012'), ('Manhattan Chase', '2000'), ('Chicago P.D.', '2014'), ('Copper', '2012'), ('Animal 2', '2008'), ('Angel Town', '1990'), ('Baker', '2011'), ('Ben Hur', '2010'), ('Family of Cops III: Under Suspicion', '1999'), ('Fearless Tiger', '1991'), ('The Rosary and the Gun', '2010'), ('From Paris to Rome', '2016'), ('Lords of the Underworld', '2007'), ('The Dry Blade', '2012')]\n",
      "Similar to Tokyo Drift: [('Shaitan', '2011'), ('Superfights', '1995'), ('8ish', '2016'), ('Killers', '2014'), ('Black and Blue', '2009'), (\"In Harm's Way\", '2011'), ('Run All Night', '2015'), ('New Town Killers', '2008'), ('Need for Speed', '2014'), ('American Yakuza', '1993'), ('Boy Wonder', '2010'), ('Corrupt', '1999'), ('Kuro no tenshi Vol. 1', '1998'), ('Get the Gringo', '2012'), ('Alarm für Cobra 11 - Die Autobahnpolizei', '1996')]\n",
      "Plot vectorizer: binary\n",
      "Tokenizer: None\n",
      "Using genre vectors: False\n",
      "Using data: data.json\n",
      "R^2: 0.49418843026\n",
      "Similar to the Avengers: [('Wasteland', '2011/I'), ('Rise of the Empire', '2016'), ('Fallout 2: A Post-Nuclear Role-Playing Game', '1998'), ('Robotropolis', '2011'), ('Story Keeper', '2011'), ('The PromiseLand', '2009'), ('Star Trek: The Continuing Mission', '2007'), ('Star Wars: Republic Commando', '2005'), ('Bionic Commando', '2009'), ('Fallout 4', '2015'), ('Astroesque', '1996'), ('Star Wars: Masters of Teräs Käsi', '1997'), ('Star Trek: Federation One', '2008'), ('Star Wars: Rebel Assault II - the Hidden Empire', '1995'), ('Fallout: Nuka Break', '2011')]\n",
      "Similar to Burlesque: [('Shooting Livien', '2005'), ('Before the Lights Come Up', '2013'), ('9 Songs', '2004'), ('The Girl from Nagasaki', '2013'), ('Shadows in the Distance', '2015'), ('Ganzfeld', '2011'), ('A Song from the Heart', '1999'), ('The Piano', '1993'), ('Destiny', '2014/II'), (\"I Think It's Raining\", '2011'), ('The Stonehouse Lounge', '2011'), ('StreetDance 3D', '2010'), ('Brooklyn Babylon', '2001'), ('W.C.', '2007'), ('Lost Journey', '2010')]\n",
      "Similar to Gladiator: [('San goo waak chai ji siu nin gik dau pin', '1998'), ('Fake I.D.', '2007'), ('Desperate Rescue: The Cathy Mahone Story', '1993'), ('Chrome Soldiers', '1992'), ('The Barracks', '2011'), ('Jacked', '2003'), ('Total Exposure', '1991'), ('Chaiya', '2007'), ('Final Impact', '1992'), ('Breaking News', '2010/I'), ('The Last Panthers', '2015'), ('Tornado!', '1996'), ('Strapped', '1993'), ('Iron Eagle IV', '1995'), ('The Hacking Chronicles', '2007')]\n",
      "Similar to Tokyo Drift: [('The Life Before This', '1999'), ('San ging chat goo si', '2004'), ('A Time to Die', '1991'), ('Greenmail', '2002'), ('Shatru', '2011'), ('Extreme Justice', '1993'), ('White Sands', '1992'), ('Dusting Cliff 7', '1997'), ('Tiger House', '2015'), ('Exit', '1996'), ('Conspiracy', '2011'), ('Seal Team Six: The Raid on Osama Bin Laden', '2012'), ('Detour', '1998'), ('Old Friends', '2010'), ('Illegal in Blue', '1995')]\n",
      "Plot vectorizer: tfidf\n",
      "Tokenizer: None\n",
      "Using genre vectors: False\n",
      "Using data: data.json\n",
      "R^2: 0.557536078647\n",
      "Similar to the Avengers: [('Dune Warriors', '1991'), ('Earth and Space Peace, Moona History: Part 1', '2010'), ('Raiders of the Sun', '1992'), ('Star Trek: New Voyages', '2004'), ('Airboss II: Preemptive Strike', '1998'), ('Onslaught', '2015'), ('Einhänder', '1997'), ('Ritânâ', '2002'), ('Intergalactic Combat', '2007'), ('The Fantastic Four', '1994'), ('Star Trek: Of Gods and Men', '2007'), ('Independence Day', '1996'), ('2012', '2009/I'), ('Jupiter Ascending', '2015'), ('Dark World: Duel of the Assassins', '2003')]\n",
      "Similar to Burlesque: [('Sine novela', '2007'), ('StreetDance 2', '2012'), ('A Slipping-Down Life', '1999'), ('Glitter', '2001'), ('The Company', '2003'), ('Listen to Your Heart', '2010'), ('Musiek vir die Agtergrond', '2013'), ('Julien & Claire', '2011'), ('Last Winter', '2011'), ('Yellow', '2006/I'), ('High Strung', '2016'), ('Liberty Heights', '1999'), ('Step Up All In', '2014'), ('Once', '2007'), ('The Writer', '2012/II')]\n",
      "Similar to Gladiator: [('Chicago P.D.', '2014'), ('The Rosary and the Gun', '2010'), ('Fearless Tiger', '1991'), ('Family of Cops III: Under Suspicion', '1999'), ('Angel Town', '1990'), ('The Substitute: Failure Is Not an Option', '2001'), ('Ben Hur', '2010'), ('Tai Chi 0', '2012'), ('White Fury', '1990'), ('From Paris to Rome', '2016'), ('Lords of the Underworld', '2007'), ('Animal 2', '2008'), ('Baker', '2011'), ('Trapped the Movie', '2014'), ('The Dry Blade', '2012')]\n",
      "Similar to Tokyo Drift: [('San suk si gin', '2009'), ('Black Dog', '1998'), ('Corrupt', '1999'), ('The Contract', '2006'), ('Never Die Alone', '2004'), ('Killers', '2014'), ('American Yakuza', '1993'), ('Kuro no tenshi Vol. 1', '1998'), ('Need for Speed', '2014'), ('Run All Night', '2015'), ('Rain Fall', '2009'), ('Get the Gringo', '2012'), ('8ish', '2016'), ('New Town Killers', '2008'), ('Boy Wonder', '2010')]\n",
      "Plot vectorizer: count\n",
      "Tokenizer: None\n",
      "Using genre vectors: False\n",
      "Using data: ne_data.json\n",
      "R^2: 0.739328351657\n",
      "Similar to the Avengers: [('Wing Commander: Prophecy', '1997'), ('Dune Warriors', '1991'), ('Fallout 4', '2015'), ('Return of Hours', '2013'), ('Ultra Warrior', '1990'), ('Predator: Concrete Jungle', '2005'), ('Fallout: A Post-Nuclear Role-Playing Game', '1997'), ('Robotropolis', '2011'), ('Star Command', '1996'), ('Story Keeper', '2011'), ('Earth and Space Peace, Moona History: Part 1', '2010'), ('Wasteland', '2011/I'), ('The Veil', '2016/IV'), ('Stratagem', '2008'), ('Laserhawk', '1997')]\n",
      "Similar to Burlesque: [('The Writer', '2012/II'), ('Viena and the Fantomes', '2016'), ('Last Winter', '2011'), ('High Strung', '2016'), ('Brass Tacks', '2004'), ('The Stonehouse Lounge', '2011'), ('Good Kids/Bad Kids', '2013'), ('The Guitar', '2008'), ('The Broken Circle Breakdown', '2012'), ('One Love', '2003'), ('Porch Stories', '2014'), ('Musiek vir die Agtergrond', '2013'), ('Saturday Scout Club', '2013'), ('Stolen Moments', '2013'), ('Locomotive', '2013')]\n",
      "Similar to Gladiator: [('Stealth Fighter', '1999'), ('Choices', '2013'), ('Monumental', '2014'), ('The Pack: Hunters', '2015'), ('Blood Warriors', '1993'), ('Loving Deadly', '1994'), ('Jacked', '2003'), ('Enemy', '1998'), ('Downshift', '2014'), ('Road of No Return', '2009'), ('Zooman', '1995'), ('Double Blast', '1994'), ('Citizen Justice', '2011'), ('Hourglass', '1995'), ('Shattered Day', '2005')]\n",
      "Similar to Tokyo Drift: [('Sabotage', '2014'), ('Judgment Night', '1993'), ('Pay in Full', '2010'), ('Nothing Without You', '2012'), ('Krews', '2010'), ('A Child Is Missing', '1995'), ('Landmine Goes Click', '2015'), ('White Sands', '1992'), ('Race Against Time', '2000'), ('Shades of Blue', '2006'), ('Illegal in Blue', '1995'), ('My Turn', '2002'), ('Exit', '1996'), ('Greenmail', '2002'), ('Dusting Cliff 7', '1997')]\n",
      "Plot vectorizer: binary\n",
      "Tokenizer: None\n",
      "Using genre vectors: False\n",
      "Using data: ne_data.json\n",
      "R^2: 0.511447113943\n",
      "Similar to the Avengers: [('Fallout 4', '2015'), ('Lost on Mars', '2002'), ('Wasteland', '2011/I'), ('Primal Force', '1999'), ('Rochard', '2011'), ('Tycus', '1999'), ('Star Trek: Federation One', '2008'), ('Rise of the Empire', '2016'), ('Fallout: A Post-Nuclear Role-Playing Game', '1997'), ('Star Wars: Masters of Teräs Käsi', '1997'), ('Stratagem', '2008'), ('Bionic Commando', '2009'), ('Story Keeper', '2011'), ('Robotropolis', '2011'), ('Astroesque', '1996')]\n",
      "Similar to Burlesque: [('Saturday Scout Club', '2013'), ('StreetDance 3D', '2010'), ('Shooting Livien', '2005'), ('9 Songs', '2004'), ('Shadows in the Distance', '2015'), (\"La leggenda del pianista sull'oceano\", '1998'), ('One Love', '2003'), ('The Girl from Nagasaki', '2013'), ('Stolen Moments', '2013'), ('Lost Journey', '2010'), ('W.C.', '2007'), ('The Stonehouse Lounge', '2011'), ('Locomotive', '2013'), ('A Song from the Heart', '1999'), (\"I Think It's Raining\", '2011')]\n",
      "Similar to Gladiator: [('Devlin', '1992'), ('Hourglass', '1995'), ('Snipers', '2001'), ('Chaiya', '2007'), ('Citizen Justice', '2011'), ('Double Blast', '1994'), ('Enemy', '1998'), ('Fake I.D.', '2007'), ('Strapped', '1993'), ('Blade Squad', '1998'), ('Blood Warriors', '1993'), ('Breaking News', '2010/I'), ('Jacked', '2003'), ('The Barracks', '2011'), ('Iron Eagle IV', '1995')]\n",
      "Similar to Tokyo Drift: [('Faster', '2010'), ('A Child Is Missing', '1995'), ('A Time to Die', '1991'), ('Tiger House', '2015'), ('Illegal in Blue', '1995'), ('Krews', '2010'), ('Exit', '1996'), ('Detour', '1998'), ('The Immortals', '1995'), ('Aftermath', '2002'), ('Greenmail', '2002'), ('White Sands', '1992'), ('Lords of the Barrio', '2002'), ('Shatru', '2011'), ('Dusting Cliff 7', '1997')]\n",
      "Plot vectorizer: tfidf\n",
      "Tokenizer: None\n",
      "Using genre vectors: False\n",
      "Using data: ne_data.json\n",
      "R^2: 0.490116073508\n",
      "Similar to the Avengers: [('Command & Conquer: Tiberian Sun', '1999'), ('Fantastic Four', '2015'), ('The Lost World', '1999'), ('Mission Park', '2010'), ('Supergirl', '2015'), ('Command & Conquer: Red Alert 2', '2000'), ('Dark World: Duel of the Assassins', '2003'), ('Team Knight Rider', '1997'), ('Star Trek: Legacy', '2006'), ('Starship Troopers 3: Marauder', '2008'), ('Airboss II: Preemptive Strike', '1998'), ('Superman Returns', '2006'), ('Colony', '2016'), ('John Carter', '2012'), ('Command & Conquer 4: Tiberian Twilight', '2010')]\n",
      "Similar to Burlesque: [('A Slipping-Down Life', '1999'), ('The Song', '2014/I'), ('Dance with Me', '1998'), ('The Writer', '2012/II'), ('Glitter', '2001'), ('The Way She Moves', '2001'), ('Listen to Your Heart', '2010'), ('Clean', '2004/I'), ('Stones', '2015/II'), ('Liberty Heights', '1999'), ('Julien & Claire', '2011'), ('Sine novela', '2007'), ('The Company', '2003'), ('Step Up All In', '2014'), ('Yellow', '2006/I')]\n",
      "Similar to Gladiator: [('UC: Undercover', '2001'), ('Merchant of Death', '1997'), ('Brooklyn Sonnet', '2000'), ('Wake of Death', '2004'), ('Chicago Fire', '2012'), ('The Cape', '2011'), ('Tai Chi 0', '2012'), ('Copper', '2012'), ('Jade', '2017'), ('Agent X', '2015'), ('Chicago P.D.', '2014'), ('Animal 2', '2008'), ('Chek ji kuen wong', '2004'), ('Ben Hur', '2010'), ('Pensacola: Wings of Gold', '1997')]\n",
      "Similar to Tokyo Drift: [('American Yakuza', '1993'), ('The Road Killers', '1994'), ('American Heist', '2014'), ('Ricochet', '1991'), ('Chase', '2010'), ('Get the Gringo', '2012'), ('Traitor', '2008'), ('Road House 2: Last Call', '2006'), ('Flashpoint', '2008'), ('Alarm für Cobra 11 - Die Autobahnpolizei', '1996'), ('Nikita', '2010'), ('San suk si gin', '2009'), ('Original Gangstas', '1996'), ('Sons of Thunder', '1999'), ('Need for Speed', '2014')]\n",
      "Plot vectorizer: count\n",
      "Tokenizer: None\n",
      "Using genre vectors: True\n",
      "Using data: data.json\n",
      "R^2: 0.552412431748\n",
      "Similar to the Avengers: [('StarCraft: Brood War', '1998'), ('Star Trek: New Voyages', '2004'), ('Stargate', '1994'), ('The Fantastic Four', '1994'), ('Mutant Chronicles', '2008'), ('Bulletstorm', '2011'), ('Star Trek Voyager: Elite Force', '2000'), ('Command & Conquer: Red Alert - Retaliation', '1998'), ('Star Wars: Republic Commando', '2005'), ('MechWarrior 3', '1999'), ('Babylon 5: The Legend of the Rangers: To Live and Die in Starlight', '2002'), ('Future Shift', '2014'), ('Independence Day', '1996'), ('Universal Ninjas', '2012'), ('Evolve', '2015')]\n",
      "Similar to Burlesque: [(\"Mo' Better Blues\", '1990'), ('Beat Girl', '2013'), ('Listen to Your Heart', '2010'), ('The Sleeping Beauty of East Finchley', '2010'), ('Yellow', '2006/I'), ('Between Love & Goodbye', '2008'), ('Sine novela', '2007'), ('Glitter', '2001'), ('Musiek vir die Agtergrond', '2013'), ('Last Winter', '2011'), ('The Other Side of Love', '2016'), ('Stones', '2015/II'), ('We Are Your Friends', '2015'), ('Once', '2007'), ('NY84', '2016')]\n",
      "Similar to Gladiator: [('Fuego', '2007'), ('Target of Opportunity', '2005'), ('Volcano: Fire on the Mountain', '1997'), ('The Highwaymen', '2013'), ('Copper', '2012'), ('The Rain Makers', '2005'), ('Beyond Rangoon', '1995'), ('A Certain Justice', '2014'), ('Pushed to the Limit', '1992'), ('Hood', '2015'), ('Ben Hur', '2010'), ('The Cape', '2011'), ('Tai Chi 0', '2012'), ('Dark Angels', '1998'), ('Apprentice', '1999')]\n",
      "Similar to Tokyo Drift: [('Montana', '2014'), (\"A Devil's Game\", '2015'), ('The Maker', '1997'), ('Snabba cash II', '2012'), ('The Skulls', '2000'), ('Get the Gringo', '2012'), ('Gangs of Tooting Broadway', '2013'), ('Chase Street', '2015'), ('Counterclock', '2014'), ('Two Tigers', '2007'), ('New Town Killers', '2008'), ('Black and Blue', '2009'), ('Kurtlar Vadisi', '2003'), ('Tracers', '2015'), ('Johnny Was', '2006')]\n",
      "Plot vectorizer: binary\n",
      "Tokenizer: None\n",
      "Using genre vectors: True\n",
      "Using data: data.json\n",
      "R^2: 0.577668470829\n",
      "Similar to the Avengers: [('Jupiter Ascending', '2015'), ('Rochard', '2011'), ('Colony', '2016'), ('The Time Machine', '2002'), ('Generation X', '1996'), ('Stargate', '1994'), ('Airboss II: Preemptive Strike', '1998'), ('Battlefield Earth', '2000'), ('After Earth', '2013'), ('2012', '2009/I'), ('Pacific Rim', '2013'), ('Independence Day', '1996'), ('Edge of Tomorrow', '2014'), ('TRON', '2010'), ('Supergirl', '2015')]\n",
      "Similar to Burlesque: [('Before the Lights Come Up', '2013'), ('Dance with Me', '1998'), ('Glitter', '2001'), ('Marin Blue', '2009'), ('Beat Girl', '2013'), ('True Vinyl', '2004'), ('Step Up All In', '2014'), ('The Sweet Shop', '2013'), ('Forty Shades of Blue', '2005'), ('The Way She Moves', '2001'), ('The Stonehouse Lounge', '2011'), ('NY84', '2016'), ('Stones', '2015/II'), ('Crazy Heart', '2009'), ('The Song', '2014/I')]\n",
      "Similar to Gladiator: [('Volcano: Fire on the Mountain', '1997'), ('Tai Chi 0', '2012'), ('The Cape', '2011'), ('Copper', '2012'), ('Wake of Death', '2004'), ('Moo-jeok-ja', '2010'), ('10.5', '2004'), ('Travelator', '2014'), ('Hood', '2015'), ('Agent X', '2015'), ('High Speed', '2002'), ('Chicago P.D.', '2014'), ('Vigilante: The Crossing', '2015'), ('The Rain Makers', '2005'), ('Choi saan gong woo', '1990')]\n",
      "Similar to Tokyo Drift: [('Cradle 2 the Grave', '2003'), ('16 Blocks', '2006'), ('Payback', '1999/I'), ('The Road Killers', '1994'), ('Need for Speed', '2014'), ('Rogue', '2013'), ('Chase', '2010'), (\"Smokin' Aces\", '2006'), ('I Witness', '2003'), ('Pacific Blue', '1996'), ('Tom yum goong', '2005'), ('Mercury Rising', '1998'), ('Stolen', '2012'), ('Nikita', '2010'), ('Pistol Whipped', '2008')]\n",
      "Plot vectorizer: tfidf\n",
      "Tokenizer: None\n",
      "Using genre vectors: True\n",
      "Using data: data.json\n",
      "R^2: 0.677914451182\n",
      "Similar to the Avengers: [('Starship Troopers 3: Marauder', '2008'), ('Mutant Chronicles', '2008'), ('The Fifth Element', '1997'), ('Star Trek: Invincible', '2013'), ('Stargate', '1994'), ('Star Wars: Threads of Destiny', '2014'), ('Future Shift', '2014'), ('Independence Day', '1996'), ('Star Trek: Renegades', '2015'), ('Babylon 5: The Legend of the Rangers: To Live and Die in Starlight', '2002'), ('Star Trek: Invasion', '2000'), ('Star Wars: Republic Commando', '2005'), ('Transformers: Dark of the Moon', '2011'), ('MechWarrior 3', '1999'), ('Injustice: Gods Among Us', '2013')]\n",
      "Similar to Burlesque: [('Last Winter', '2011'), ('Dance with Me', '1998'), ('Musiek vir die Agtergrond', '2013'), ('Brooklyn Babylon', '2001'), ('Horsey', '1997'), ('Glitter', '2001'), ('Stones', '2015/II'), ('The Way She Moves', '2001'), ('The Tango Lesson', '1997'), ('NY84', '2016'), ('The Song', '2014/I'), ('True Vinyl', '2004'), ('The Music in Me', '2015'), ('Crazy Heart', '2009'), ('Yellow', '2006/I')]\n",
      "Similar to Gladiator: [('186 Dollars to Freedom', '2012'), ('Subterfuge', '1996'), ('Merantau', '2009'), ('Override', '2009'), ('Breaking News', '2010/I'), ('Against Their Will: Women in Prison', '1994'), ('Aces: Iron Eagle III', '1992'), ('The Falling', '2006/II'), ('Travelator', '2014'), ('Fuego', '2007'), ('Lords of the Underworld', '2007'), ('Hood', '2015'), ('A Certain Justice', '2014'), ('The Cape', '2011'), ('Ben Hur', '2010')]\n",
      "Similar to Tokyo Drift: [('Flashpoint', '2008'), ('Nick of Time', '1995'), ('Mercury Rising', '1998'), ('Montana', '2014'), ('The Skulls', '2000'), ('Chase Street', '2015'), ('Get the Gringo', '2012'), ('La linea', '2009'), ('Snabba cash II', '2012'), ('Fire with Fire', '2012/II'), ('Kurtlar Vadisi', '2003'), ('Johnny Was', '2006'), ('Gangster Squad', '2013'), ('Reprisal', '2007'), ('Gangs of Tooting Broadway', '2013')]\n",
      "Plot vectorizer: count\n",
      "Tokenizer: None\n",
      "Using genre vectors: True\n",
      "Using data: ne_data.json\n",
      "R^2: 0.668943685437\n",
      "Similar to the Avengers: [('Songbirth', '2015'), ('The Godfather Family: A Look Inside', '1990'), ('Songbook', '2008'), ('Maple Flavour Films', '2008'), ('Nigger', '2012'), ('Rock & Roll', '1995'), ('Pick Up the Mic', '2006'), (\"The Making of Steven Spielberg's 'Jaws'\", '1995'), ('The Pod', '2014'), ('Misconception', '2009'), ('Trinity and Beyond: The Atomic Bomb Movie', '1995'), ('The Summer of Massacre', '2012'), ('The Celluloid Closet', '1995'), ('Tardisodes', '2006'), ('The First Measured Century', '2000')]\n",
      "Similar to Burlesque: [('The Godfather Family: A Look Inside', '1990'), ('Maple Flavour Films', '2008'), ('Nigger', '2012'), ('The Celluloid Closet', '1995'), ('Tardisodes', '2006'), ('The Summer of Massacre', '2012'), ('Pick Up the Mic', '2006'), ('Rock & Roll', '1995'), ('The First Measured Century', '2000'), ('The Pod', '2014'), ('Misconception', '2009'), (\"The Making of Steven Spielberg's 'Jaws'\", '1995'), ('Songbook', '2008'), ('Songbirth', '2015'), ('Trinity and Beyond: The Atomic Bomb Movie', '1995')]\n",
      "Similar to Gladiator: [('After Hours: The Movie', '2011'), ('Songbook', '2008'), ('Maple Flavour Films', '2008'), ('Nigger', '2012'), ('Pick Up the Mic', '2006'), ('Rock & Roll', '1995'), ('Workspace', '2014'), (\"The Making of Steven Spielberg's 'Jaws'\", '1995'), ('The First Measured Century', '2000'), ('Misconception', '2009'), ('Trinity and Beyond: The Atomic Bomb Movie', '1995'), ('Tardisodes', '2006'), ('The Celluloid Closet', '1995'), ('The Pod', '2014'), ('The Summer of Massacre', '2012')]\n",
      "Similar to Tokyo Drift: [('Workspace', '2014'), ('Maple Flavour Films', '2008'), ('Nigger', '2012'), ('Songbook', '2008'), ('The Celluloid Closet', '1995'), ('Misconception', '2009'), ('Pick Up the Mic', '2006'), ('Rock & Roll', '1995'), ('Trinity and Beyond: The Atomic Bomb Movie', '1995'), ('The First Measured Century', '2000'), ('The Pod', '2014'), ('Tardisodes', '2006'), ('After Hours: The Movie', '2011'), ('The Summer of Massacre', '2012'), (\"The Making of Steven Spielberg's 'Jaws'\", '1995')]\n",
      "Plot vectorizer: binary\n",
      "Tokenizer: None\n",
      "Using genre vectors: True\n",
      "Using data: ne_data.json\n",
      "R^2: 0.488934060252\n",
      "Similar to the Avengers: [('Star Trek: Deep Space Nine - The Fallen', '2000'), ('Story Keeper', '2011'), ('System Shock', '1994'), ('StarCraft: Brood War', '1998'), ('Transformers: Dark of the Moon', '2011'), ('Evolve', '2015'), ('Earth and Space Peace, Moona History: Part 1', '2010'), ('Babylon 5: The Gathering', '1993'), ('Fallout 2: A Post-Nuclear Role-Playing Game', '1998'), ('Age of Ice', '2014'), ('Avatar: The Game', '2009'), ('Star Trek: Federation One', '2008'), ('Robotropolis', '2011'), ('Philadelphia Experiment II', '1993'), ('Star Wars: Masters of Teräs Käsi', '1997')]\n",
      "Similar to Burlesque: [('High Strung', '2016'), ('Gabrielle', '2013/II'), (\"La leggenda del pianista sull'oceano\", '1998'), ('Horsey', '1997'), ('9 Songs', '2004'), ('Obsession', '1997'), ('The Guitar', '2008'), ('Stolen Moments', '2013'), ('Brooklyn Babylon', '2001'), ('Lulu und Jimi', '2009'), ('StreetDance 3D', '2010'), ('Downtown Express', '2011'), ('Ganzfeld', '2011'), ('A Song from the Heart', '1999'), (\"I Think It's Raining\", '2011')]\n",
      "Similar to Gladiator: [('Dark Nights', '2014'), ('DownFall', '2016'), ('Spaghetti Park', '2005'), ('Sworn to Justice', '1996'), ('Devlin', '1992'), ('Delta Heat', '1992'), ('American Chinatown', '1996'), ('Unspoken Words', '2014'), ('Tornado!', '1996'), ('The Crossfire', '2016'), ('Downshift', '2014'), ('The Cape', '1996'), ('A2Z', '2007'), ('The Shop', '2014'), ('Huwag ka lang mawawala', '2013')]\n",
      "Similar to Tokyo Drift: [('Pale Blue Balloons', '2008'), ('The Grid', '2004'), ('San ging chat goo si', '2004'), ('Streets of Blood', '2009'), ('Extreme Justice', '1993'), ('Conspiracy', '2011'), ('Hitman', '2007/I'), ('Illegal in Blue', '1995'), ('Seal Team Six: The Raid on Osama Bin Laden', '2012'), ('Kuro no tenshi Vol. 1', '1998'), ('StoryLine', '2006'), ('White Sands', '1992'), ('Dangerous Prey', '1995'), ('Old Friends', '2010'), ('Shopping', '1994')]\n",
      "Plot vectorizer: tfidf\n",
      "Tokenizer: None\n",
      "Using genre vectors: True\n",
      "Using data: ne_data.json\n",
      "R^2: 0.678405387847\n",
      "Similar to the Avengers: [('Roadie Trip', '2006'), ('The Living Blues', '2003'), ('The Celluloid Closet', '1995'), ('Hooked', '2004/I'), ('The First Measured Century', '2000'), ('Nigger', '2012'), ('Songbirth', '2015'), ('The Pod', '2014'), ('Songbook', '2008'), ('Trinity and Beyond: The Atomic Bomb Movie', '1995'), ('Pick Up the Mic', '2006'), ('Misconception', '2009'), ('Rock & Roll', '1995'), ('One Nation Under God', '1993'), (\"The Making of Steven Spielberg's 'Jaws'\", '1995')]\n",
      "Similar to Burlesque: [('The Living Blues', '2003'), ('Roadie Trip', '2006'), ('Mod-X', '2016'), ('Rock & Roll', '1995'), ('Nigger', '2012'), ('Pick Up the Mic', '2006'), ('Songbook', '2008'), ('The Pod', '2014'), ('The First Measured Century', '2000'), ('The Celluloid Closet', '1995'), ('One Nation Under God', '1993'), (\"The Making of Steven Spielberg's 'Jaws'\", '1995'), ('Hooked', '2004/I'), ('Trinity and Beyond: The Atomic Bomb Movie', '1995'), ('Misconception', '2009')]\n",
      "Similar to Gladiator: [('Songbirth', '2015'), ('The Living Blues', '2003'), ('Deleting Emily', '2011'), ('Hooked', '2004/I'), ('Rock & Roll', '1995'), ('One Nation Under God', '1993'), ('Pick Up the Mic', '2006'), ('Nigger', '2012'), ('The First Measured Century', '2000'), ('Trinity and Beyond: The Atomic Bomb Movie', '1995'), ('The Pod', '2014'), ('Songbook', '2008'), ('Misconception', '2009'), ('The Celluloid Closet', '1995'), (\"The Making of Steven Spielberg's 'Jaws'\", '1995')]\n",
      "Similar to Tokyo Drift: [('Roadie Trip', '2006'), ('The Living Blues', '2003'), ('Rock & Roll', '1995'), ('Nigger', '2012'), ('Deleting Emily', '2011'), ('Hooked', '2004/I'), ('Misconception', '2009'), (\"The Making of Steven Spielberg's 'Jaws'\", '1995'), ('One Nation Under God', '1993'), ('The First Measured Century', '2000'), ('The Celluloid Closet', '1995'), ('Pick Up the Mic', '2006'), ('Trinity and Beyond: The Atomic Bomb Movie', '1995'), ('The Pod', '2014'), ('Songbook', '2008')]\n"
     ]
    }
   ],
   "source": [
    "plot_vects = ['count','binary','tfidf']\n",
    "tokenizers = [None]\n",
    "genre_vecs = [False, True]\n",
    "datas = ['data.json', 'ne_data.json']\n",
    "\n",
    "for gv in genre_vecs:\n",
    "    for data in datas:\n",
    "        for tokenizer in tokenizers:\n",
    "            for plot_vect in plot_vects:\n",
    "                print('Plot vectorizer:',plot_vect)\n",
    "                print('Tokenizer:',tokenizer)\n",
    "                print('Using genre vectors:', gv)\n",
    "                print('Using data:', data)\n",
    "                linear_test(training_data, path = data, plot_vectorizer = plot_vect, \\\n",
    "                            tokenizer = tokenizer, use_genre_vecs = gv)"
   ]
  },
  {
   "cell_type": "code",
   "execution_count": 8,
   "metadata": {
    "collapsed": false,
    "scrolled": false
   },
   "outputs": [
    {
     "name": "stdout",
     "output_type": "stream",
     "text": [
      "Plot vectorizer: count\n",
      "Tokenizer: None\n",
      "Using genre vectors: False\n",
      "Using data: data.json\n",
      "R^2: 0.035111619399\n",
      "Similar to the Avengers: [('Foxcatcher', '2014'), ('Promised Land', '2012'), ('Alex Cross', '2012'), ('With This Ring', '2015'), ('Madtown', '2016'), (\"Ultimate Iron Man: The Making of 'Iron Man 2'\", '2010'), ('Avengers: Age of Ultron', '2015'), ('Cleveland Abduction', '2015'), ('Made in Cleveland', '2013'), ('Draft Day', '2014/I'), ('The Avengers', '2012'), ('Criminal Activities', '2015'), ('Avengers: Age of Ultron - From the Inside Out: Making of Avengers - Age of Ultron', '2015'), ('Captain America: The Winter Soldier', '2014'), ('Thor', '2011')]\n",
      "Similar to Burlesque: [('Baggage Claim', '2013'), ('Annie', '1999'), ('Fuller House', '2016'), ('17 Again', '2009'), ('Burlesque', '2010/I'), ('Beacon Hill', '2004'), ('The Ten Commandments: The Musical', '2006'), ('Fired Up!', '2009'), ('Strange Fruit', '2008'), ('Dance Your Ass Off', '2009'), ('Sex Tax: Based on a True Story', '2010'), ('Wedding Wars', '2006'), ('No Strings Attached', '2011/I'), ('Bring It On: Fight to the Finish', '2009'), ('Would You Rather...? with Graham Norton', '2011')]\n",
      "Similar to Gladiator: [('The Mummy', '1999'), ('Jason and the Argonauts', '2000'), ('28 Weeks Later', '2007'), ('Gladiatress', '2004'), ('The 10th Kingdom', '2000'), ('Cleopatra', '1999'), ('The Body', '2001'), (\"Breaking the Silence: The Making of 'Hannibal'\", '2001'), ('Attila', '2001'), ('From Hell', '2001'), ('Gladiator Games: The Roman Bloodsport', '2000'), ('Gladiator', '2000'), ('Robin Hood', '2010'), ('Notting Hill', '1999'), ('Ultimate Fights from the Movies', '2002')]\n",
      "Plot vectorizer: binary\n",
      "Tokenizer: None\n",
      "Using genre vectors: False\n",
      "Using data: data.json\n",
      "R^2: 0.132336350738\n",
      "Similar to the Avengers: [('The Last Witch Hunter', '2015'), ('With This Ring', '2015'), ('Madtown', '2016'), ('Promised Land', '2012'), ('Alex Cross', '2012'), ('Made in Cleveland', '2013'), ('Avengers: Age of Ultron', '2015'), ('Cleveland Abduction', '2015'), (\"Ultimate Iron Man: The Making of 'Iron Man 2'\", '2010'), ('Draft Day', '2014/I'), ('Thor', '2011'), ('Captain America: The Winter Soldier', '2014'), ('The Avengers', '2012'), ('Criminal Activities', '2015'), ('Avengers: Age of Ultron - From the Inside Out: Making of Avengers - Age of Ultron', '2015')]\n",
      "Similar to Burlesque: [('Baggage Claim', '2013'), ('Annie', '1999'), ('Making Change', '2012'), ('Wedding Wars', '2006'), ('Would You Rather...? with Graham Norton', '2011'), ('This Is It', '2009'), ('17 Again', '2009'), ('Strange Fruit', '2008'), ('Sex Tax: Based on a True Story', '2010'), ('Beacon Hill', '2004'), ('Bring It On: Fight to the Finish', '2009'), ('The Ten Commandments: The Musical', '2006'), ('No Strings Attached', '2011/I'), ('Burlesque', '2010/I'), ('Fired Up!', '2009')]\n",
      "Similar to Gladiator: [('The Long Firm', '2004'), ('Mary, Mother of Jesus', '1999'), ('The Body', '2001'), ('The Viking Sagas', '1995'), ('Notting Hill', '1999'), (\"Breaking the Silence: The Making of 'Hannibal'\", '2001'), ('Gladiatress', '2004'), ('Cleopatra', '1999'), ('Attila', '2001'), ('From Hell', '2001'), ('Robin Hood', '2010'), ('Gladiator Games: The Roman Bloodsport', '2000'), ('Gladiator', '2000'), ('Young James Herriot', '2011'), ('Ultimate Fights from the Movies', '2002')]\n",
      "Plot vectorizer: tfidf\n",
      "Tokenizer: None\n",
      "Using genre vectors: False\n",
      "Using data: data.json\n",
      "R^2: 0.0254340736103\n",
      "Similar to the Avengers: [('Promised Land', '2012'), ('Foxcatcher', '2014'), ('Alex Cross', '2012'), ('With This Ring', '2015'), ('Madtown', '2016'), (\"Ultimate Iron Man: The Making of 'Iron Man 2'\", '2010'), ('Avengers: Age of Ultron', '2015'), ('Cleveland Abduction', '2015'), ('Made in Cleveland', '2013'), ('Thor', '2011'), ('Captain America: The Winter Soldier', '2014'), ('Criminal Activities', '2015'), ('Avengers: Age of Ultron - From the Inside Out: Making of Avengers - Age of Ultron', '2015'), ('The Avengers', '2012'), ('Draft Day', '2014/I')]\n",
      "Similar to Burlesque: [('Baggage Claim', '2013'), ('Annie', '1999'), ('Fuller House', '2016'), ('Disaster Movie', '2008'), ('Beach Bar: The Movie', '2011'), ('No Strings Attached', '2011/I'), ('Strange Fruit', '2008'), ('Would You Rather...? with Graham Norton', '2011'), ('Beacon Hill', '2004'), ('Bring It On: Fight to the Finish', '2009'), ('Dance Your Ass Off', '2009'), ('Sex Tax: Based on a True Story', '2010'), ('Burlesque', '2010/I'), ('The Ten Commandments: The Musical', '2006'), ('Fired Up!', '2009')]\n",
      "Similar to Gladiator: [('The West', '1996'), ('28 Weeks Later', '2007'), ('Jason and the Argonauts', '2000'), (\"Breaking the Silence: The Making of 'Hannibal'\", '2001'), ('Gladiatress', '2004'), ('Cleopatra', '1999'), ('The Body', '2001'), ('Gladiator', '2000'), ('Notting Hill', '1999'), ('Attila', '2001'), ('From Hell', '2001'), ('Robin Hood', '2010'), ('Ultimate Fights from the Movies', '2002'), ('Gladiator Games: The Roman Bloodsport', '2000'), ('The 10th Kingdom', '2000')]\n",
      "Plot vectorizer: count\n",
      "Tokenizer: None\n",
      "Using genre vectors: True\n",
      "Using data: data.json\n",
      "R^2: 0.129016687773\n",
      "Similar to the Avengers: [('The Talk', '2010'), ('CNN Republican Presidential Debate', '2015'), ('Media Buzz', '2013'), ('Misconception', '2009'), ('24 Hour Panel People', '2011'), ('Conan', '2010'), ('The 84th Annual Hollywood Christmas Parade', '2015'), ('The View', '1997'), ('The Avengers', '2012'), ('Barbara Stanwyck: Fire and Desire', '1991'), (\"That's Entertainment! III\", '1994'), ('Comic Relief Does University Challenge', '2005'), ('Mondo Macabro', '2001'), ('I Can Do That', '2015'), ('Alternative Election Night', '2010')]\n",
      "Similar to Burlesque: [('The Talk', '2010'), ('CNN Republican Presidential Debate', '2015'), ('Alternative Election Night', '2010'), ('24 Hour Panel People', '2011'), ('Media Buzz', '2013'), ('The View', '1997'), ('Conan', '2010'), ('Burlesque', '2010/I'), ('I Can Do That', '2015'), ('Misconception', '2009'), ('Mondo Macabro', '2001'), ('Comic Relief Does University Challenge', '2005'), ('The 84th Annual Hollywood Christmas Parade', '2015'), ('Barbara Stanwyck: Fire and Desire', '1991'), (\"That's Entertainment! III\", '1994')]\n",
      "Similar to Gladiator: [('The Talk', '2010'), ('CNN Republican Presidential Debate', '2015'), ('Mondo Macabro', '2001'), ('24 Hour Panel People', '2011'), ('Misconception', '2009'), ('Alternative Election Night', '2010'), ('The View', '1997'), ('Media Buzz', '2013'), ('Barbara Stanwyck: Fire and Desire', '1991'), ('The 84th Annual Hollywood Christmas Parade', '2015'), (\"That's Entertainment! III\", '1994'), ('I Can Do That', '2015'), ('Comic Relief Does University Challenge', '2005'), ('Gladiator', '2000'), ('Conan', '2010')]\n",
      "Plot vectorizer: binary\n",
      "Tokenizer: None\n",
      "Using genre vectors: True\n",
      "Using data: data.json\n",
      "R^2: 0.283265727709\n",
      "Similar to the Avengers: [('Koffee with Karan', '2004'), ('Breakfast of Champions', '1999'), ('Szamba', '1996'), ('El color del mal', '2010'), ('Orphans', '1998'), ('Secret of the Andes', '1999'), ('El mismo amor, la misma lluvia', '1999'), ('Weekend', '2008'), ('The Avengers', '2012'), ('Außerirdische', '1993'), (\"L'amante perduto\", '1999'), ('Tierra del fuego', '2000'), ('Heer & Meester', '2014'), ('Testimone oculare', '1990'), ('Nyugattól keletre, avagy a média diszkrét bája', '1994')]\n",
      "Similar to Burlesque: [('Breakfast of Champions', '1999'), ('Lego the Lord of the Rings: The Video Game', '2012'), ('Szamba', '1996'), ('El color del mal', '2010'), ('Orphans', '1998'), ('Tierra del fuego', '2000'), ('El mismo amor, la misma lluvia', '1999'), (\"L'amante perduto\", '1999'), ('Burlesque', '2010/I'), ('Secret of the Andes', '1999'), ('Nyugattól keletre, avagy a média diszkrét bája', '1994'), ('Weekend', '2008'), ('Außerirdische', '1993'), ('Testimone oculare', '1990'), ('Heer & Meester', '2014')]\n",
      "Similar to Gladiator: [('Breakfast of Champions', '1999'), ('Koffee with Karan', '2004'), ('Gladiator', '2000'), (\"L'amante perduto\", '1999'), ('El color del mal', '2010'), ('Szamba', '1996'), ('El mismo amor, la misma lluvia', '1999'), ('Tierra del fuego', '2000'), ('Secret of the Andes', '1999'), ('Nyugattól keletre, avagy a média diszkrét bája', '1994'), ('Weekend', '2008'), ('Außerirdische', '1993'), ('Testimone oculare', '1990'), ('Orphans', '1998'), ('Heer & Meester', '2014')]\n",
      "Plot vectorizer: tfidf\n",
      "Tokenizer: None\n",
      "Using genre vectors: True\n",
      "Using data: data.json\n",
      "R^2: 0.0140639900021\n",
      "Similar to the Avengers: [('Ancient India Today', '2004'), ('WrestleMania IX', '1993'), ('Misconception', '2009'), ('In Search of Beethoven', '2009'), ('Where the Wonder Went', '2013'), (\"The Making of Steven Spielberg's 'Jaws'\", '1995'), ('Otaku Unite!', '2004'), ('Guyville Redux', '2008'), ('The Last Days of the Big Lie', '2009'), ('Queen: Champions of the World', '1995'), ('The Avengers', '2012'), ('Classic Albums: Fleetwood Mac - Rumours', '1997'), ('The Living Blues', '2003'), ('The Merge', '2009'), ('The Republic Pictures Story', '1991')]\n",
      "Similar to Burlesque: [('Guyville Redux', '2008'), ('Ancient India Today', '2004'), ('WWF in Your House: Final Four', '1997'), ('The Republic Pictures Story', '1991'), ('Classic Albums: Fleetwood Mac - Rumours', '1997'), ('The Pod', '2014'), ('The Living Blues', '2003'), ('Otaku Unite!', '2004'), (\"The Making of Steven Spielberg's 'Jaws'\", '1995'), ('WCW Halloween Havoc 1995', '1995'), ('Where the Wonder Went', '2013'), ('WrestleMania IX', '1993'), ('Queen: Champions of the World', '1995'), ('Misconception', '2009'), ('Burlesque', '2010/I')]\n",
      "Similar to Gladiator: [('In Search of Beethoven', '2009'), ('Guyville Redux', '2008'), ('Otaku Unite!', '2004'), (\"The Making of Steven Spielberg's 'Jaws'\", '1995'), ('WCW Halloween Havoc 1995', '1995'), ('The Republic Pictures Story', '1991'), ('WrestleMania IX', '1993'), ('Gladiator', '2000'), ('The Pod', '2014'), ('Misconception', '2009'), ('Classic Albums: Fleetwood Mac - Rumours', '1997'), ('The Merge', '2009'), ('Queen: Champions of the World', '1995'), ('The Living Blues', '2003'), ('Where the Wonder Went', '2013')]\n",
      "Plot vectorizer: count\n",
      "Tokenizer: None\n",
      "Using genre vectors: False\n",
      "Using data: ne_data.json\n",
      "R^2: 0.166514192463\n",
      "Similar to the Avengers: [('Wing Commander: Prophecy', '1997'), ('Return of Hours', '2013'), ('Wasteland', '2011/I'), ('Ultra Warrior', '1990'), ('Dune Warriors', '1991'), ('Fallout 4', '2015'), ('Predator: Concrete Jungle', '2005'), ('Story Keeper', '2011'), ('The Veil', '2016/IV'), ('Stratagem', '2008'), ('Laserhawk', '1997'), ('Robotropolis', '2011'), ('Earth and Space Peace, Moona History: Part 1', '2010'), ('Fallout: A Post-Nuclear Role-Playing Game', '1997'), ('Star Command', '1996')]\n",
      "Similar to Burlesque: [('The Writer', '2012/II'), ('Viena and the Fantomes', '2016'), ('Last Winter', '2011'), ('Brass Tacks', '2004'), ('High Strung', '2016'), ('The Stonehouse Lounge', '2011'), ('Musiek vir die Agtergrond', '2013'), ('Saturday Scout Club', '2013'), ('Good Kids/Bad Kids', '2013'), ('Locomotive', '2013'), ('Porch Stories', '2014'), ('One Love', '2003'), ('Stolen Moments', '2013'), ('The Broken Circle Breakdown', '2012'), ('The Guitar', '2008')]\n",
      "Similar to Gladiator: [('Stealth Fighter', '1999'), ('Choices', '2013'), ('Monumental', '2014'), ('Zooman', '1995'), ('The Pack: Hunters', '2015'), ('Shattered Day', '2005'), ('Road of No Return', '2009'), ('Citizen Justice', '2011'), ('Jacked', '2003'), ('Downshift', '2014'), ('Enemy', '1998'), ('Double Blast', '1994'), ('Hourglass', '1995'), ('Blood Warriors', '1993'), ('Loving Deadly', '1994')]\n",
      "Plot vectorizer: binary\n",
      "Tokenizer: None\n",
      "Using genre vectors: False\n",
      "Using data: ne_data.json\n",
      "R^2: 0.12124580026\n",
      "Similar to the Avengers: [('With This Ring', '2015'), ('Alex Cross', '2012'), ('The Last Witch Hunter', '2015'), ('Captain America: Civil War', '2016'), (\"Ultimate Iron Man: The Making of 'Iron Man 2'\", '2010'), ('Made in Cleveland', '2013'), ('Madtown', '2016'), ('Avengers: Age of Ultron', '2015'), ('Criminal Activities', '2015'), ('Captain America: The Winter Soldier', '2014'), ('Cleveland Abduction', '2015'), ('Avengers: Age of Ultron - From the Inside Out: Making of Avengers - Age of Ultron', '2015'), ('Draft Day', '2014/I'), ('Thor', '2011'), ('The Avengers', '2012')]\n",
      "Similar to Burlesque: [('Sex Tax: Based on a True Story', '2010'), ('Burlesque', '2010/I'), ('Stalked by My Neighbor', '2015'), ('17 Again', '2009'), ('Bring It On: Fight to the Finish', '2009'), ('Fired Up!', '2009'), ('This Is It', '2009'), ('Making Change', '2012'), ('Beacon Hill', '2004'), ('Strange Fruit', '2008'), ('Wedding Wars', '2006'), ('Tracks of a Killer', '1996'), ('The Ten Commandments: The Musical', '2006'), ('Would You Rather...? with Graham Norton', '2011'), ('No Strings Attached', '2011/I')]\n",
      "Similar to Gladiator: [('Pay First', '2011'), (\"Breaking the Silence: The Making of 'Hannibal'\", '2001'), ('Gladiatress', '2004'), ('Beowulf & Grendel', '2005'), ('The West', '1996'), ('Young James Herriot', '2011'), ('Notting Hill', '1999'), ('The Body', '2001'), ('The Viking Sagas', '1995'), ('Attila', '2001'), ('Gladiator', '2000'), ('Ultimate Fights from the Movies', '2002'), ('From Hell', '2001'), ('Gladiator Games: The Roman Bloodsport', '2000'), ('Robin Hood', '2010')]\n",
      "Plot vectorizer: tfidf\n",
      "Tokenizer: None\n",
      "Using genre vectors: False\n",
      "Using data: ne_data.json\n",
      "R^2: 0.134783102306\n",
      "Similar to the Avengers: [('Promised Land', '2012'), ('Rued January', '2013'), ('Made in Cleveland', '2013'), (\"Ultimate Iron Man: The Making of 'Iron Man 2'\", '2010'), ('Alex Cross', '2012'), ('With This Ring', '2015'), ('Madtown', '2016'), ('Cleveland Abduction', '2015'), ('Avengers: Age of Ultron', '2015'), ('Draft Day', '2014/I'), ('Criminal Activities', '2015'), ('The Avengers', '2012'), ('Thor', '2011'), ('Captain America: The Winter Soldier', '2014'), ('Avengers: Age of Ultron - From the Inside Out: Making of Avengers - Age of Ultron', '2015')]\n",
      "Similar to Burlesque: [('Beach Bar: The Movie', '2011'), ('Baggage Claim', '2013'), ('This Is It', '2009'), ('Beacon Hill', '2004'), ('Strange Fruit', '2008'), ('Wedding Wars', '2006'), ('Would You Rather...? with Graham Norton', '2011'), ('No Strings Attached', '2011/I'), ('Burlesque', '2010/I'), ('Bring It On: Fight to the Finish', '2009'), ('Dance Your Ass Off', '2009'), ('Sex Tax: Based on a True Story', '2010'), ('17 Again', '2009'), ('Fired Up!', '2009'), ('The Ten Commandments: The Musical', '2006')]\n",
      "Similar to Gladiator: [('The Mummy', '1999'), ('The West', '1996'), ('The Viking Sagas', '1995'), ('Notting Hill', '1999'), ('Gladiator', '2000'), ('Ultimate Fights from the Movies', '2002'), ('Twin Town', '1997'), ('From Hell', '2001'), ('Gladiatress', '2004'), ('Gladiator Games: The Roman Bloodsport', '2000'), (\"Breaking the Silence: The Making of 'Hannibal'\", '2001'), ('Attila', '2001'), ('The Body', '2001'), ('Robin Hood', '2010'), ('Cleopatra', '1999')]\n",
      "Plot vectorizer: count\n",
      "Tokenizer: None\n",
      "Using genre vectors: True\n",
      "Using data: ne_data.json\n",
      "R^2: 0.133627771937\n",
      "Similar to the Avengers: [('Songbirth', '2015'), ('The Godfather Family: A Look Inside', '1990'), ('Songbook', '2008'), ('Maple Flavour Films', '2008'), ('The Pod', '2014'), ('The Summer of Massacre', '2012'), ('The Celluloid Closet', '1995'), ('Misconception', '2009'), ('The First Measured Century', '2000'), ('Rock & Roll', '1995'), ('Nigger', '2012'), ('Pick Up the Mic', '2006'), ('Tardisodes', '2006'), ('Trinity and Beyond: The Atomic Bomb Movie', '1995'), (\"The Making of Steven Spielberg's 'Jaws'\", '1995')]\n",
      "Similar to Burlesque: [('The Godfather Family: A Look Inside', '1990'), ('Nigger', '2012'), ('Songbook', '2008'), ('Songbirth', '2015'), ('Maple Flavour Films', '2008'), ('Pick Up the Mic', '2006'), ('Misconception', '2009'), ('The Celluloid Closet', '1995'), ('The First Measured Century', '2000'), ('Rock & Roll', '1995'), (\"The Making of Steven Spielberg's 'Jaws'\", '1995'), ('The Summer of Massacre', '2012'), ('The Pod', '2014'), ('Trinity and Beyond: The Atomic Bomb Movie', '1995'), ('Tardisodes', '2006')]\n",
      "Similar to Gladiator: [('Songbirth', '2015'), ('The Godfather Family: A Look Inside', '1990'), ('Rock & Roll', '1995'), ('Maple Flavour Films', '2008'), ('Nigger', '2012'), ('Pick Up the Mic', '2006'), ('Songbook', '2008'), (\"The Making of Steven Spielberg's 'Jaws'\", '1995'), ('Misconception', '2009'), ('The Pod', '2014'), ('The Summer of Massacre', '2012'), ('Trinity and Beyond: The Atomic Bomb Movie', '1995'), ('The First Measured Century', '2000'), ('Tardisodes', '2006'), ('The Celluloid Closet', '1995')]\n",
      "Plot vectorizer: binary\n",
      "Tokenizer: None\n",
      "Using genre vectors: True\n",
      "Using data: ne_data.json\n",
      "R^2: 0.0103953781559\n",
      "Similar to the Avengers: [('Celebrity', '1998'), ('Szamba', '1996'), ('Breakfast of Champions', '1999'), ('El color del mal', '2010'), ('Tierra del fuego', '2000'), ('Nyugattól keletre, avagy a média diszkrét bája', '1994'), (\"L'amante perduto\", '1999'), ('Secret of the Andes', '1999'), ('El mismo amor, la misma lluvia', '1999'), ('Außerirdische', '1993'), ('Weekend', '2008'), ('The Avengers', '2012'), ('Heer & Meester', '2014'), ('Testimone oculare', '1990'), ('Orphans', '1998')]\n",
      "Similar to Burlesque: [('Celebrity', '1998'), ('El color del mal', '2010'), ('Szamba', '1996'), ('Breakfast of Champions', '1999'), ('El mismo amor, la misma lluvia', '1999'), ('Tierra del fuego', '2000'), ('Nyugattól keletre, avagy a média diszkrét bája', '1994'), (\"L'amante perduto\", '1999'), ('Secret of the Andes', '1999'), ('Burlesque', '2010/I'), ('Außerirdische', '1993'), ('Orphans', '1998'), ('Weekend', '2008'), ('Testimone oculare', '1990'), ('Heer & Meester', '2014')]\n",
      "Similar to Gladiator: [('Celebrity', '1998'), ('Szamba', '1996'), ('El color del mal', '2010'), ('Breakfast of Champions', '1999'), ('El mismo amor, la misma lluvia', '1999'), ('Tierra del fuego', '2000'), (\"L'amante perduto\", '1999'), ('Nyugattól keletre, avagy a média diszkrét bája', '1994'), ('Gladiator', '2000'), ('Weekend', '2008'), ('Außerirdische', '1993'), ('Orphans', '1998'), ('Testimone oculare', '1990'), ('Secret of the Andes', '1999'), ('Heer & Meester', '2014')]\n",
      "Plot vectorizer: tfidf\n",
      "Tokenizer: None\n",
      "Using genre vectors: True\n",
      "Using data: ne_data.json\n",
      "R^2: 0.192610002792\n",
      "Similar to the Avengers: [('Roadie Trip', '2006'), ('The Living Blues', '2003'), ('Songbirth', '2015'), ('Hooked', '2004/I'), ('Rock & Roll', '1995'), ('One Nation Under God', '1993'), ('Pick Up the Mic', '2006'), ('Nigger', '2012'), ('The First Measured Century', '2000'), ('Songbook', '2008'), ('Trinity and Beyond: The Atomic Bomb Movie', '1995'), ('Misconception', '2009'), ('The Celluloid Closet', '1995'), ('The Pod', '2014'), (\"The Making of Steven Spielberg's 'Jaws'\", '1995')]\n",
      "Similar to Burlesque: [('Roadie Trip', '2006'), ('Mod-X', '2016'), ('The Living Blues', '2003'), ('Nigger', '2012'), ('Pick Up the Mic', '2006'), ('Rock & Roll', '1995'), ('One Nation Under God', '1993'), ('Songbook', '2008'), (\"The Making of Steven Spielberg's 'Jaws'\", '1995'), ('The Celluloid Closet', '1995'), ('The Pod', '2014'), ('Trinity and Beyond: The Atomic Bomb Movie', '1995'), ('The First Measured Century', '2000'), ('Hooked', '2004/I'), ('Misconception', '2009')]\n",
      "Similar to Gladiator: [('Songbirth', '2015'), ('Rock & Roll', '1995'), ('The Living Blues', '2003'), ('Hooked', '2004/I'), ('Deleting Emily', '2011'), ('Nigger', '2012'), ('The First Measured Century', '2000'), ('Songbook', '2008'), ('Trinity and Beyond: The Atomic Bomb Movie', '1995'), ('One Nation Under God', '1993'), ('The Celluloid Closet', '1995'), ('Pick Up the Mic', '2006'), (\"The Making of Steven Spielberg's 'Jaws'\", '1995'), ('The Pod', '2014'), ('Misconception', '2009')]\n"
     ]
    }
   ],
   "source": [
    "plot_vects = ['count','binary','tfidf']\n",
    "tokenizers = [None]\n",
    "genre_vecs = [False, True]\n",
    "datas = ['data.json', 'ne_data.json']\n",
    "\n",
    "for data in datas:\n",
    "    for tokenizer in tokenizers:\n",
    "        for gv in genre_vecs:\n",
    "            for plot_vect in plot_vects:\n",
    "                print('Plot vectorizer:',plot_vect)\n",
    "                print('Tokenizer:',tokenizer)\n",
    "                print('Using genre vectors:', gv)\n",
    "                print('Using data:', data)\n",
    "                linear_test(training_data, path = data, plot_vectorizer = plot_vect, \\\n",
    "                            tokenizer = tokenizer, use_genre_vecs = gv)"
   ]
  },
  {
   "cell_type": "code",
   "execution_count": 12,
   "metadata": {
    "collapsed": false,
    "scrolled": false
   },
   "outputs": [
    {
     "name": "stdout",
     "output_type": "stream",
     "text": [
      "Plot vectorizer: count\n",
      "Tokenizer: None\n",
      "Using genre vectors: True\n",
      "Using data: ne_data.json\n",
      "R^2: 0.668943685437\n",
      "Similar to the Avengers: [('Songbirth', '2015'), ('The Godfather Family: A Look Inside', '1990'), ('Songbook', '2008'), ('Maple Flavour Films', '2008'), ('Nigger', '2012'), ('Rock & Roll', '1995'), ('Pick Up the Mic', '2006'), (\"The Making of Steven Spielberg's 'Jaws'\", '1995'), ('The Pod', '2014'), ('Misconception', '2009'), ('Trinity and Beyond: The Atomic Bomb Movie', '1995'), ('The Summer of Massacre', '2012'), ('The Celluloid Closet', '1995'), ('Tardisodes', '2006'), ('The First Measured Century', '2000')]\n",
      "Similar to Burlesque: [('The Godfather Family: A Look Inside', '1990'), ('Maple Flavour Films', '2008'), ('Nigger', '2012'), ('The Celluloid Closet', '1995'), ('Tardisodes', '2006'), ('The Summer of Massacre', '2012'), ('Pick Up the Mic', '2006'), ('Rock & Roll', '1995'), ('The First Measured Century', '2000'), ('The Pod', '2014'), ('Misconception', '2009'), (\"The Making of Steven Spielberg's 'Jaws'\", '1995'), ('Songbook', '2008'), ('Songbirth', '2015'), ('Trinity and Beyond: The Atomic Bomb Movie', '1995')]\n",
      "Similar to Gladiator: [('After Hours: The Movie', '2011'), ('Songbook', '2008'), ('Maple Flavour Films', '2008'), ('Nigger', '2012'), ('Pick Up the Mic', '2006'), ('Rock & Roll', '1995'), ('Workspace', '2014'), (\"The Making of Steven Spielberg's 'Jaws'\", '1995'), ('The First Measured Century', '2000'), ('Misconception', '2009'), ('Trinity and Beyond: The Atomic Bomb Movie', '1995'), ('Tardisodes', '2006'), ('The Celluloid Closet', '1995'), ('The Pod', '2014'), ('The Summer of Massacre', '2012')]\n",
      "Similar to Tokyo Drift: [('Workspace', '2014'), ('Maple Flavour Films', '2008'), ('Nigger', '2012'), ('Songbook', '2008'), ('The Celluloid Closet', '1995'), ('Misconception', '2009'), ('Pick Up the Mic', '2006'), ('Rock & Roll', '1995'), ('Trinity and Beyond: The Atomic Bomb Movie', '1995'), ('The First Measured Century', '2000'), ('The Pod', '2014'), ('Tardisodes', '2006'), ('After Hours: The Movie', '2011'), ('The Summer of Massacre', '2012'), (\"The Making of Steven Spielberg's 'Jaws'\", '1995')]\n",
      "Plot vectorizer: binary\n",
      "Tokenizer: None\n",
      "Using genre vectors: True\n",
      "Using data: ne_data.json\n"
     ]
    },
    {
     "ename": "KeyboardInterrupt",
     "evalue": "",
     "output_type": "error",
     "traceback": [
      "\u001b[1;31m---------------------------------------------------------------------------\u001b[0m",
      "\u001b[1;31mKeyboardInterrupt\u001b[0m                         Traceback (most recent call last)",
      "\u001b[1;32m<ipython-input-12-43610efa4624>\u001b[0m in \u001b[0;36m<module>\u001b[1;34m()\u001b[0m\n\u001b[0;32m     12\u001b[0m                 \u001b[0mprint\u001b[0m\u001b[1;33m(\u001b[0m\u001b[1;34m'Using genre vectors:'\u001b[0m\u001b[1;33m,\u001b[0m \u001b[0mgv\u001b[0m\u001b[1;33m)\u001b[0m\u001b[1;33m\u001b[0m\u001b[0m\n\u001b[0;32m     13\u001b[0m                 \u001b[0mprint\u001b[0m\u001b[1;33m(\u001b[0m\u001b[1;34m'Using data:'\u001b[0m\u001b[1;33m,\u001b[0m \u001b[0mdata\u001b[0m\u001b[1;33m)\u001b[0m\u001b[1;33m\u001b[0m\u001b[0m\n\u001b[1;32m---> 14\u001b[1;33m                 \u001b[0mlinear_test\u001b[0m\u001b[1;33m(\u001b[0m\u001b[0mtraining_data\u001b[0m\u001b[1;33m,\u001b[0m \u001b[0mpath\u001b[0m \u001b[1;33m=\u001b[0m \u001b[0mdata\u001b[0m\u001b[1;33m,\u001b[0m \u001b[0mplot_vectorizer\u001b[0m \u001b[1;33m=\u001b[0m \u001b[0mplot_vect\u001b[0m\u001b[1;33m,\u001b[0m                             \u001b[0mtokenizer\u001b[0m \u001b[1;33m=\u001b[0m \u001b[0mtokenizer\u001b[0m\u001b[1;33m,\u001b[0m \u001b[0muse_genre_vecs\u001b[0m \u001b[1;33m=\u001b[0m \u001b[0mgv\u001b[0m\u001b[1;33m)\u001b[0m\u001b[1;33m\u001b[0m\u001b[0m\n\u001b[0m",
      "\u001b[1;32m<ipython-input-9-824ec2e50726>\u001b[0m in \u001b[0;36mlinear_test\u001b[1;34m(training_data, path, plot_vectorizer, tokenizer, lda, use_genre_vecs)\u001b[0m\n\u001b[0;32m      1\u001b[0m \u001b[1;32mdef\u001b[0m \u001b[0mlinear_test\u001b[0m\u001b[1;33m(\u001b[0m\u001b[0mtraining_data\u001b[0m\u001b[1;33m,\u001b[0m \u001b[0mpath\u001b[0m\u001b[1;33m,\u001b[0m \u001b[0mplot_vectorizer\u001b[0m \u001b[1;33m=\u001b[0m \u001b[1;34m'count'\u001b[0m\u001b[1;33m,\u001b[0m \u001b[0mtokenizer\u001b[0m \u001b[1;33m=\u001b[0m \u001b[1;32mNone\u001b[0m\u001b[1;33m,\u001b[0m \u001b[0mlda\u001b[0m \u001b[1;33m=\u001b[0m \u001b[1;32mFalse\u001b[0m\u001b[1;33m,\u001b[0m \u001b[0muse_genre_vecs\u001b[0m \u001b[1;33m=\u001b[0m \u001b[1;32mFalse\u001b[0m\u001b[1;33m)\u001b[0m\u001b[1;33m:\u001b[0m\u001b[1;33m\u001b[0m\u001b[0m\n\u001b[0;32m      2\u001b[0m     \u001b[0mcf\u001b[0m \u001b[1;33m=\u001b[0m \u001b[0mFeaturizer\u001b[0m\u001b[1;33m(\u001b[0m\u001b[0mplot_vectorizer\u001b[0m \u001b[1;33m=\u001b[0m \u001b[0mplot_vectorizer\u001b[0m\u001b[1;33m,\u001b[0m \u001b[0mtokenizer\u001b[0m \u001b[1;33m=\u001b[0m \u001b[0mtokenizer\u001b[0m\u001b[1;33m,\u001b[0m \u001b[0mlda\u001b[0m \u001b[1;33m=\u001b[0m \u001b[0mlda\u001b[0m\u001b[1;33m,\u001b[0m \u001b[0muse_genre_vecs\u001b[0m \u001b[1;33m=\u001b[0m \u001b[0muse_genre_vecs\u001b[0m\u001b[1;33m)\u001b[0m\u001b[1;33m\u001b[0m\u001b[0m\n\u001b[1;32m----> 3\u001b[1;33m     \u001b[0mcf\u001b[0m\u001b[1;33m.\u001b[0m\u001b[0mload_train\u001b[0m\u001b[1;33m(\u001b[0m\u001b[0mpath\u001b[0m\u001b[1;33m)\u001b[0m\u001b[1;33m\u001b[0m\u001b[0m\n\u001b[0m\u001b[0;32m      4\u001b[0m     \u001b[0mA\u001b[0m\u001b[1;33m,\u001b[0m \u001b[0mb\u001b[0m \u001b[1;33m=\u001b[0m \u001b[0mtraining_vectors\u001b[0m\u001b[1;33m(\u001b[0m\u001b[0mtraining_data\u001b[0m\u001b[1;33m,\u001b[0m \u001b[0mcf\u001b[0m\u001b[1;33m)\u001b[0m\u001b[1;33m\u001b[0m\u001b[0m\n\u001b[0;32m      5\u001b[0m     \u001b[0mr2\u001b[0m\u001b[1;33m,\u001b[0m \u001b[0mcoef\u001b[0m \u001b[1;33m=\u001b[0m \u001b[0mlin_reg\u001b[0m\u001b[1;33m(\u001b[0m\u001b[0mA\u001b[0m\u001b[1;33m,\u001b[0m \u001b[0mb\u001b[0m\u001b[1;33m)\u001b[0m\u001b[1;33m\u001b[0m\u001b[0m\n",
      "\u001b[1;32m/home/xyllan/Projects/cbf-movie-similarity/featurizer.py\u001b[0m in \u001b[0;36mload_train\u001b[1;34m(self, path)\u001b[0m\n\u001b[0;32m    150\u001b[0m         \u001b[1;32mdef\u001b[0m \u001b[0mload_train\u001b[0m\u001b[1;33m(\u001b[0m\u001b[0mself\u001b[0m\u001b[1;33m,\u001b[0m \u001b[0mpath\u001b[0m\u001b[1;33m)\u001b[0m\u001b[1;33m:\u001b[0m\u001b[1;33m\u001b[0m\u001b[0m\n\u001b[0;32m    151\u001b[0m                 \u001b[1;34m\"\"\" Loads the data into memory and trains the featurizer. \"\"\"\u001b[0m\u001b[1;33m\u001b[0m\u001b[0m\n\u001b[1;32m--> 152\u001b[1;33m                 \u001b[0mself\u001b[0m\u001b[1;33m.\u001b[0m\u001b[0mtrain\u001b[0m\u001b[1;33m(\u001b[0m\u001b[0mself\u001b[0m\u001b[1;33m.\u001b[0m\u001b[0mload\u001b[0m\u001b[1;33m(\u001b[0m\u001b[0mpath\u001b[0m\u001b[1;33m)\u001b[0m\u001b[1;33m)\u001b[0m\u001b[1;33m\u001b[0m\u001b[0m\n\u001b[0m\u001b[0;32m    153\u001b[0m \u001b[1;33m\u001b[0m\u001b[0m\n\u001b[0;32m    154\u001b[0m \u001b[1;33m\u001b[0m\u001b[0m\n",
      "\u001b[1;32m/home/xyllan/Projects/cbf-movie-similarity/featurizer.py\u001b[0m in \u001b[0;36mtrain\u001b[1;34m(self, movies)\u001b[0m\n\u001b[0;32m    125\u001b[0m                 \u001b[0mself\u001b[0m\u001b[1;33m.\u001b[0m\u001b[0mmovie_indices\u001b[0m \u001b[1;33m=\u001b[0m \u001b[0mdict\u001b[0m\u001b[1;33m(\u001b[0m\u001b[1;33m[\u001b[0m\u001b[0mreversed\u001b[0m\u001b[1;33m(\u001b[0m\u001b[0mi\u001b[0m\u001b[1;33m)\u001b[0m \u001b[1;32mfor\u001b[0m \u001b[0mi\u001b[0m \u001b[1;32min\u001b[0m \u001b[0mself\u001b[0m\u001b[1;33m.\u001b[0m\u001b[0mmovies\u001b[0m\u001b[1;33m.\u001b[0m\u001b[0mitems\u001b[0m\u001b[1;33m(\u001b[0m\u001b[1;33m)\u001b[0m\u001b[1;33m]\u001b[0m\u001b[1;33m)\u001b[0m\u001b[1;33m\u001b[0m\u001b[0m\n\u001b[0;32m    126\u001b[0m                 \u001b[0mplots\u001b[0m \u001b[1;33m=\u001b[0m \u001b[1;33m[\u001b[0m\u001b[0mmovie\u001b[0m\u001b[1;33m[\u001b[0m\u001b[1;34m'plot'\u001b[0m\u001b[1;33m]\u001b[0m \u001b[1;32mfor\u001b[0m \u001b[0mmovie\u001b[0m \u001b[1;32min\u001b[0m \u001b[0mmovies\u001b[0m\u001b[1;33m.\u001b[0m\u001b[0mvalues\u001b[0m\u001b[1;33m(\u001b[0m\u001b[1;33m)\u001b[0m\u001b[1;33m]\u001b[0m\u001b[1;33m\u001b[0m\u001b[0m\n\u001b[1;32m--> 127\u001b[1;33m                 \u001b[0mself\u001b[0m\u001b[1;33m.\u001b[0m\u001b[0mplots\u001b[0m \u001b[1;33m=\u001b[0m \u001b[0mself\u001b[0m\u001b[1;33m.\u001b[0m\u001b[0mvectorizer\u001b[0m\u001b[1;33m.\u001b[0m\u001b[0mfit_transform\u001b[0m\u001b[1;33m(\u001b[0m\u001b[0mplots\u001b[0m\u001b[1;33m)\u001b[0m\u001b[1;33m\u001b[0m\u001b[0m\n\u001b[0m\u001b[0;32m    128\u001b[0m                 \u001b[0mself\u001b[0m\u001b[1;33m.\u001b[0m\u001b[0mcasts\u001b[0m \u001b[1;33m=\u001b[0m \u001b[1;33m[\u001b[0m\u001b[0mmovie\u001b[0m\u001b[1;33m[\u001b[0m\u001b[1;34m'cast'\u001b[0m\u001b[1;33m]\u001b[0m \u001b[1;32mfor\u001b[0m \u001b[0mmovie\u001b[0m \u001b[1;32min\u001b[0m \u001b[0mmovies\u001b[0m\u001b[1;33m.\u001b[0m\u001b[0mvalues\u001b[0m\u001b[1;33m(\u001b[0m\u001b[1;33m)\u001b[0m\u001b[1;33m]\u001b[0m\u001b[1;33m\u001b[0m\u001b[0m\n\u001b[0;32m    129\u001b[0m                 \u001b[0mself\u001b[0m\u001b[1;33m.\u001b[0m\u001b[0mgenres\u001b[0m \u001b[1;33m=\u001b[0m \u001b[1;33m[\u001b[0m\u001b[0mmovie\u001b[0m\u001b[1;33m[\u001b[0m\u001b[1;34m'genres'\u001b[0m\u001b[1;33m]\u001b[0m \u001b[1;32mfor\u001b[0m \u001b[0mmovie\u001b[0m \u001b[1;32min\u001b[0m \u001b[0mmovies\u001b[0m\u001b[1;33m.\u001b[0m\u001b[0mvalues\u001b[0m\u001b[1;33m(\u001b[0m\u001b[1;33m)\u001b[0m\u001b[1;33m]\u001b[0m\u001b[1;33m\u001b[0m\u001b[0m\n",
      "\u001b[1;32m/home/xyllan/miniconda3/lib/python3.5/site-packages/sklearn/feature_extraction/text.py\u001b[0m in \u001b[0;36mfit_transform\u001b[1;34m(self, raw_documents, y)\u001b[0m\n\u001b[0;32m    815\u001b[0m \u001b[1;33m\u001b[0m\u001b[0m\n\u001b[0;32m    816\u001b[0m         vocabulary, X = self._count_vocab(raw_documents,\n\u001b[1;32m--> 817\u001b[1;33m                                           self.fixed_vocabulary_)\n\u001b[0m\u001b[0;32m    818\u001b[0m \u001b[1;33m\u001b[0m\u001b[0m\n\u001b[0;32m    819\u001b[0m         \u001b[1;32mif\u001b[0m \u001b[0mself\u001b[0m\u001b[1;33m.\u001b[0m\u001b[0mbinary\u001b[0m\u001b[1;33m:\u001b[0m\u001b[1;33m\u001b[0m\u001b[0m\n",
      "\u001b[1;32m/home/xyllan/miniconda3/lib/python3.5/site-packages/sklearn/feature_extraction/text.py\u001b[0m in \u001b[0;36m_count_vocab\u001b[1;34m(self, raw_documents, fixed_vocab)\u001b[0m\n\u001b[0;32m    750\u001b[0m         \u001b[0mindptr\u001b[0m\u001b[1;33m.\u001b[0m\u001b[0mappend\u001b[0m\u001b[1;33m(\u001b[0m\u001b[1;36m0\u001b[0m\u001b[1;33m)\u001b[0m\u001b[1;33m\u001b[0m\u001b[0m\n\u001b[0;32m    751\u001b[0m         \u001b[1;32mfor\u001b[0m \u001b[0mdoc\u001b[0m \u001b[1;32min\u001b[0m \u001b[0mraw_documents\u001b[0m\u001b[1;33m:\u001b[0m\u001b[1;33m\u001b[0m\u001b[0m\n\u001b[1;32m--> 752\u001b[1;33m             \u001b[1;32mfor\u001b[0m \u001b[0mfeature\u001b[0m \u001b[1;32min\u001b[0m \u001b[0manalyze\u001b[0m\u001b[1;33m(\u001b[0m\u001b[0mdoc\u001b[0m\u001b[1;33m)\u001b[0m\u001b[1;33m:\u001b[0m\u001b[1;33m\u001b[0m\u001b[0m\n\u001b[0m\u001b[0;32m    753\u001b[0m                 \u001b[1;32mtry\u001b[0m\u001b[1;33m:\u001b[0m\u001b[1;33m\u001b[0m\u001b[0m\n\u001b[0;32m    754\u001b[0m                     \u001b[0mj_indices\u001b[0m\u001b[1;33m.\u001b[0m\u001b[0mappend\u001b[0m\u001b[1;33m(\u001b[0m\u001b[0mvocabulary\u001b[0m\u001b[1;33m[\u001b[0m\u001b[0mfeature\u001b[0m\u001b[1;33m]\u001b[0m\u001b[1;33m)\u001b[0m\u001b[1;33m\u001b[0m\u001b[0m\n",
      "\u001b[1;32m/home/xyllan/miniconda3/lib/python3.5/site-packages/sklearn/feature_extraction/text.py\u001b[0m in \u001b[0;36m<lambda>\u001b[1;34m(doc)\u001b[0m\n\u001b[0;32m    236\u001b[0m \u001b[1;33m\u001b[0m\u001b[0m\n\u001b[0;32m    237\u001b[0m             return lambda doc: self._word_ngrams(\n\u001b[1;32m--> 238\u001b[1;33m                 tokenize(preprocess(self.decode(doc))), stop_words)\n\u001b[0m\u001b[0;32m    239\u001b[0m \u001b[1;33m\u001b[0m\u001b[0m\n\u001b[0;32m    240\u001b[0m         \u001b[1;32melse\u001b[0m\u001b[1;33m:\u001b[0m\u001b[1;33m\u001b[0m\u001b[0m\n",
      "\u001b[1;32m/home/xyllan/miniconda3/lib/python3.5/site-packages/sklearn/feature_extraction/text.py\u001b[0m in \u001b[0;36m_word_ngrams\u001b[1;34m(self, tokens, stop_words)\u001b[0m\n\u001b[0;32m    125\u001b[0m         \u001b[1;31m# handle stop words\u001b[0m\u001b[1;33m\u001b[0m\u001b[1;33m\u001b[0m\u001b[0m\n\u001b[0;32m    126\u001b[0m         \u001b[1;32mif\u001b[0m \u001b[0mstop_words\u001b[0m \u001b[1;32mis\u001b[0m \u001b[1;32mnot\u001b[0m \u001b[1;32mNone\u001b[0m\u001b[1;33m:\u001b[0m\u001b[1;33m\u001b[0m\u001b[0m\n\u001b[1;32m--> 127\u001b[1;33m             \u001b[0mtokens\u001b[0m \u001b[1;33m=\u001b[0m \u001b[1;33m[\u001b[0m\u001b[0mw\u001b[0m \u001b[1;32mfor\u001b[0m \u001b[0mw\u001b[0m \u001b[1;32min\u001b[0m \u001b[0mtokens\u001b[0m \u001b[1;32mif\u001b[0m \u001b[0mw\u001b[0m \u001b[1;32mnot\u001b[0m \u001b[1;32min\u001b[0m \u001b[0mstop_words\u001b[0m\u001b[1;33m]\u001b[0m\u001b[1;33m\u001b[0m\u001b[0m\n\u001b[0m\u001b[0;32m    128\u001b[0m \u001b[1;33m\u001b[0m\u001b[0m\n\u001b[0;32m    129\u001b[0m         \u001b[1;31m# handle token n-grams\u001b[0m\u001b[1;33m\u001b[0m\u001b[1;33m\u001b[0m\u001b[0m\n",
      "\u001b[1;32m/home/xyllan/miniconda3/lib/python3.5/site-packages/sklearn/feature_extraction/text.py\u001b[0m in \u001b[0;36m<listcomp>\u001b[1;34m(.0)\u001b[0m\n\u001b[0;32m    125\u001b[0m         \u001b[1;31m# handle stop words\u001b[0m\u001b[1;33m\u001b[0m\u001b[1;33m\u001b[0m\u001b[0m\n\u001b[0;32m    126\u001b[0m         \u001b[1;32mif\u001b[0m \u001b[0mstop_words\u001b[0m \u001b[1;32mis\u001b[0m \u001b[1;32mnot\u001b[0m \u001b[1;32mNone\u001b[0m\u001b[1;33m:\u001b[0m\u001b[1;33m\u001b[0m\u001b[0m\n\u001b[1;32m--> 127\u001b[1;33m             \u001b[0mtokens\u001b[0m \u001b[1;33m=\u001b[0m \u001b[1;33m[\u001b[0m\u001b[0mw\u001b[0m \u001b[1;32mfor\u001b[0m \u001b[0mw\u001b[0m \u001b[1;32min\u001b[0m \u001b[0mtokens\u001b[0m \u001b[1;32mif\u001b[0m \u001b[0mw\u001b[0m \u001b[1;32mnot\u001b[0m \u001b[1;32min\u001b[0m \u001b[0mstop_words\u001b[0m\u001b[1;33m]\u001b[0m\u001b[1;33m\u001b[0m\u001b[0m\n\u001b[0m\u001b[0;32m    128\u001b[0m \u001b[1;33m\u001b[0m\u001b[0m\n\u001b[0;32m    129\u001b[0m         \u001b[1;31m# handle token n-grams\u001b[0m\u001b[1;33m\u001b[0m\u001b[1;33m\u001b[0m\u001b[0m\n",
      "\u001b[1;31mKeyboardInterrupt\u001b[0m: "
     ]
    }
   ],
   "source": [
    "plot_vects = ['count','binary','tfidf']\n",
    "tokenizers = [None]\n",
    "genre_vecs = [True]\n",
    "datas = ['ne_data.json','data.json']\n",
    "\n",
    "for data in datas:\n",
    "    for tokenizer in tokenizers:\n",
    "        for gv in genre_vecs:\n",
    "            for plot_vect in plot_vects:\n",
    "                print('Plot vectorizer:',plot_vect)\n",
    "                print('Tokenizer:',tokenizer)\n",
    "                print('Using genre vectors:', gv)\n",
    "                print('Using data:', data)\n",
    "                linear_test(training_data, path = data, plot_vectorizer = plot_vect, \\\n",
    "                            tokenizer = tokenizer, use_genre_vecs = gv)"
   ]
  },
  {
   "cell_type": "code",
   "execution_count": null,
   "metadata": {
    "collapsed": true
   },
   "outputs": [],
   "source": []
  }
 ],
 "metadata": {
  "kernelspec": {
   "display_name": "Python 3",
   "language": "python",
   "name": "python3"
  },
  "language_info": {
   "codemirror_mode": {
    "name": "ipython",
    "version": 3
   },
   "file_extension": ".py",
   "mimetype": "text/x-python",
   "name": "python",
   "nbconvert_exporter": "python",
   "pygments_lexer": "ipython3",
   "version": "3.5.1"
  }
 },
 "nbformat": 4,
 "nbformat_minor": 0
}
