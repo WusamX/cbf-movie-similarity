{
 "cells": [
  {
   "cell_type": "markdown",
   "metadata": {},
   "source": [
    "In this notebook we will use the previously generated plot similarities to remake the paper. The codes from the last notebook are compiled in the Featurizer class in the featurizer.py file."
   ]
  },
  {
   "cell_type": "code",
   "execution_count": 1,
   "metadata": {
    "collapsed": false
   },
   "outputs": [],
   "source": [
    "from featurizer import Featurizer\n",
    "cf = Featurizer(plot_vectorizer = 'count', lemmatize = False, lda = False)\n",
    "cf.load_train('data.json')"
   ]
  },
  {
   "cell_type": "code",
   "execution_count": 2,
   "metadata": {
    "collapsed": false,
    "scrolled": false
   },
   "outputs": [
    {
     "name": "stdout",
     "output_type": "stream",
     "text": [
      "[('High, Fast and Wonderful', 2003), ('The Fast and the Furious: Tokyo Drift', 2006), (\"The Making of 'The Fast and the Furious'\", 2002), ('Tasmanian Devil: The Fast and Furious Life of Errol Flynn', 2007), ('The Fast and the Furious', 2001)]\n"
     ]
    }
   ],
   "source": [
    "q = cf.find_movie('Fast and')\n",
    "print(q)"
   ]
  },
  {
   "cell_type": "code",
   "execution_count": 4,
   "metadata": {
    "collapsed": false
   },
   "outputs": [
    {
     "name": "stdout",
     "output_type": "stream",
     "text": [
      "[[ 0.03530145  0.18        0.        ]]\n"
     ]
    }
   ],
   "source": [
    "tftf = q[4]\n",
    "td = q[2]\n",
    "f = cf.single_features(tftf, td)\n",
    "print(f.todense())"
   ]
  }
 ],
 "metadata": {
  "kernelspec": {
   "display_name": "Python 3",
   "language": "python",
   "name": "python3"
  },
  "language_info": {
   "codemirror_mode": {
    "name": "ipython",
    "version": 3
   },
   "file_extension": ".py",
   "mimetype": "text/x-python",
   "name": "python",
   "nbconvert_exporter": "python",
   "pygments_lexer": "ipython3",
   "version": "3.5.1"
  }
 },
 "nbformat": 4,
 "nbformat_minor": 0
}
