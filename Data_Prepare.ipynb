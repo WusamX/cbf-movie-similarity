{
 "cells": [
  {
   "cell_type": "code",
   "execution_count": 45,
   "metadata": {
    "collapsed": false
   },
   "outputs": [
    {
     "name": "stdout",
     "output_type": "stream",
     "text": [
      "1253650\n"
     ]
    }
   ],
   "source": [
    "import re\n",
    "\n",
    "name_re = re.compile(R'\"?(.*?)\"?\\s*\\((\\d+?)\\)\\s*(?:\\(.*?\\)\\s*|\\{.*\\}\\s*)*\\s*(\\w*)',re.U)\n",
    "\n",
    "def get_movie(regex_res):\n",
    "    return regex_res.group(1), int(regex_res.group(2))\n",
    "\n",
    "def base_movies():\n",
    "    movies = set([])\n",
    "    with open('movies.list', 'r', encoding = 'latin-1') as fp:\n",
    "        for line in iter(fp.readline, ''):\n",
    "            res = name_re.search(line)\n",
    "            if res:\n",
    "                movies.add(get_movie(res))\n",
    "    return movies\n",
    "\n",
    "movies = list_movies()\n",
    "print(len(movies))"
   ]
  },
  {
   "cell_type": "markdown",
   "metadata": {},
   "source": [
    "Eliminate those movies before 1990."
   ]
  },
  {
   "cell_type": "code",
   "execution_count": 46,
   "metadata": {
    "collapsed": false
   },
   "outputs": [
    {
     "name": "stdout",
     "output_type": "stream",
     "text": [
      "836953\n"
     ]
    }
   ],
   "source": [
    "def year_filter(movies, year_after = 1990):\n",
    "    return set([(title,year) for (title,year) in movies if year >= year_after])\n",
    "\n",
    "movies = year_filter(movies)\n",
    "print(len(movies))"
   ]
  },
  {
   "cell_type": "markdown",
   "metadata": {},
   "source": [
    "Eliminate non-English movies"
   ]
  },
  {
   "cell_type": "code",
   "execution_count": 47,
   "metadata": {
    "collapsed": false
   },
   "outputs": [
    {
     "name": "stdout",
     "output_type": "stream",
     "text": [
      "509430\n"
     ]
    }
   ],
   "source": [
    "def language_filter(movies, lang = 'English'):\n",
    "    lang_movies = set([])\n",
    "    movie = ('',0)\n",
    "    langs = set([])\n",
    "    with open('language.list', 'r', encoding = 'latin-1') as fp:\n",
    "        for line in iter(fp.readline, ''):\n",
    "            res = name_re.search(line)\n",
    "            if res:\n",
    "                if res.group(3) == lang:\n",
    "                    lang_movies.add(get_movie(res))\n",
    "    return movies & lang_movies\n",
    "\n",
    "movies = language_filter(movies)\n",
    "print(len(movies))"
   ]
  },
  {
   "cell_type": "code",
   "execution_count": 19,
   "metadata": {
    "collapsed": false,
    "scrolled": true
   },
   "outputs": [
    {
     "name": "stdout",
     "output_type": "stream",
     "text": [
      "[('Brief Reunion', 2011), ('Delta Station', 2012), ('Barney: Furry Friends', 2010), ('Speed Dating Webseries', 2013), ('Faultless: The American Orphan', 2012), ('Strand', 2013), ('Second to None', 2010), ('What Should We Watch?', 2013), ('Edison Manor', 2014), ('The xXx Factor 2: The Next Level', 2005)]\n"
     ]
    }
   ],
   "source": [
    "import random\n",
    "print(random.sample(movies,10))"
   ]
  },
  {
   "cell_type": "markdown",
   "metadata": {},
   "source": [
    "Eliminate movies that do not have plots."
   ]
  },
  {
   "cell_type": "code",
   "execution_count": 48,
   "metadata": {
    "collapsed": false
   },
   "outputs": [
    {
     "name": "stdout",
     "output_type": "stream",
     "text": [
      "147238\n"
     ]
    }
   ],
   "source": [
    "def parse_lines(lines):\n",
    "    movie = None\n",
    "    plot = []\n",
    "    for line in lines:\n",
    "        if line.startswith('MV:'):\n",
    "            res = name_re.search(line[4:])\n",
    "            if res:\n",
    "                movie = get_movie(res)\n",
    "        elif line.startswith('PL:'):\n",
    "            plot.append(line[4:])\n",
    "    return movie, ' '.join(plot)\n",
    "\n",
    "def plot_filter(movies):\n",
    "    movie_plots  = { }\n",
    "    plots = []\n",
    "    lines = []\n",
    "    with open('plot.list', 'r', encoding = 'latin-1') as fp:\n",
    "        delim = '-'*79+'\\n'\n",
    "        for line in iter(fp.readline, ''):\n",
    "            if line == delim:\n",
    "                movie, plot = parse_lines(lines)\n",
    "                if movie in movie_plots:\n",
    "                    movie_plots[movie] = movie_plots[movie] + ' ' + plot\n",
    "                else:\n",
    "                    movie_plots[movie] = plot\n",
    "                lines = []\n",
    "            else:\n",
    "                lines.append(line.strip())\n",
    "    keys = movie_plots.keys() & movies\n",
    "    return {k:movie_plots[k] for k in keys}\n",
    "\n",
    "movies = plot_filter(movies)\n",
    "print(len(movies))"
   ]
  },
  {
   "cell_type": "code",
   "execution_count": 44,
   "metadata": {
    "collapsed": false,
    "scrolled": true
   },
   "outputs": [
    {
     "name": "stdout",
     "output_type": "stream",
     "text": [
      "('Blindness', 2010) What does it mean to see? So many claim to be those who will see God; to be the ones that do all the right things, and so deserve heaven. Yet, what if that is actually an expression of blindness? What if the one who truly sees is the one who we least expect? Who doesn't look that fancy, but trusts in God's power to change them? 'Blindness' exposes our assumptions as we journey with a blind man who 'sees', desperate for those who are 'blind' to truly see.\n",
      "('Airplanes', 2006) Jen Heck's Airplanes tells the love story of two teenage girls from the moment they first see each other to their eventual break-up. While an educational-style voice-over discusses the science and art of flight, the characters, like airplanes themselves, take off, struggle to fly, and eventually come in for an emergency landing.\n",
      "('Melancholia', 2013) Eugene is just a melancholic character in a play - at least this is the idea of the author of the film. But the protagonist has his own ideas and strategies to escape his reality. Thus, the author has no other choice but to dismiss the fictional level, and to attempt to approach the character of his aim from a documentary point of view.\n",
      "('American Stuffers', 2012) Daniel Ross is a taxidermist. His company, Xtreme Taxidermy, is unique in that it's the only shop in Romance, Arkansas that specializes in pet preservation. By capturing the essence of each animal, Daniel and his team of three (Fred, Joseph and Dixie) give their clients' pets a loving and lasting alternative to cremation or burial.\n"
     ]
    }
   ],
   "source": [
    "for s in random.sample(list(movies),4):\n",
    "    print(s,movies[s])"
   ]
  },
  {
   "cell_type": "markdown",
   "metadata": {},
   "source": [
    "Write down the data in json format."
   ]
  },
  {
   "cell_type": "code",
   "execution_count": 39,
   "metadata": {
    "collapsed": false
   },
   "outputs": [],
   "source": [
    "import io, json\n",
    "\n",
    "def write_movies(movies, path):\n",
    "    with io.open(path, 'w', encoding='latin-1') as f:\n",
    "        data = [{'title':title,'year':year,'plot':plot} for (title,year),plot in movies.items()]\n",
    "        f.write(json.dumps(data, ensure_ascii=False))\n",
    "        \n",
    "write_movies(movies, 'data.json')"
   ]
  },
  {
   "cell_type": "markdown",
   "metadata": {},
   "source": [
    "Create wrapper function for the whole thing."
   ]
  },
  {
   "cell_type": "code",
   "execution_count": 50,
   "metadata": {
    "collapsed": true
   },
   "outputs": [],
   "source": [
    "def prepare_movies(path = None):\n",
    "    movies = plot_filter(language_filter(year_filter(base_movies())))\n",
    "    if path is not None:\n",
    "        write_movies(movies, path)\n",
    "    \n",
    "    return movies"
   ]
  }
 ],
 "metadata": {
  "kernelspec": {
   "display_name": "Python 3",
   "language": "python",
   "name": "python3"
  },
  "language_info": {
   "codemirror_mode": {
    "name": "ipython",
    "version": 3
   },
   "file_extension": ".py",
   "mimetype": "text/x-python",
   "name": "python",
   "nbconvert_exporter": "python",
   "pygments_lexer": "ipython3",
   "version": "3.5.1"
  }
 },
 "nbformat": 4,
 "nbformat_minor": 0
}
