{
 "cells": [
  {
   "cell_type": "code",
   "execution_count": 2,
   "metadata": {
    "collapsed": false
   },
   "outputs": [
    {
     "name": "stdout",
     "output_type": "stream",
     "text": [
      "1253650\n"
     ]
    }
   ],
   "source": [
    "import re\n",
    "\n",
    "name_re = re.compile(R'\"?(.*?)\"?\\s*\\((\\d+?)\\)\\s*(?:\\(.*?\\)\\s*|\\{.*\\}\\s*)*\\s*(\\w*)',re.U)\n",
    "\n",
    "def get_movie(regex_res):\n",
    "    return regex_res.group(1), int(regex_res.group(2))\n",
    "\n",
    "def base_movies():\n",
    "    movies = set([])\n",
    "    with open('movies.list', 'r', encoding = 'latin-1') as fp:\n",
    "        for line in iter(fp.readline, ''):\n",
    "            res = name_re.search(line)\n",
    "            if res:\n",
    "                movies.add(get_movie(res))\n",
    "    return movies\n",
    "\n",
    "movies = base_movies()\n",
    "print(len(movies))"
   ]
  },
  {
   "cell_type": "markdown",
   "metadata": {},
   "source": [
    "Eliminate those movies before 1990."
   ]
  },
  {
   "cell_type": "code",
   "execution_count": 3,
   "metadata": {
    "collapsed": false
   },
   "outputs": [
    {
     "name": "stdout",
     "output_type": "stream",
     "text": [
      "836953\n"
     ]
    }
   ],
   "source": [
    "def year_filter(movies, year_after = 1990):\n",
    "    return set([(title,year) for (title,year) in movies if year >= year_after])\n",
    "\n",
    "movies = year_filter(movies)\n",
    "print(len(movies))"
   ]
  },
  {
   "cell_type": "markdown",
   "metadata": {},
   "source": [
    "Eliminate non-English movies"
   ]
  },
  {
   "cell_type": "code",
   "execution_count": 4,
   "metadata": {
    "collapsed": false
   },
   "outputs": [
    {
     "name": "stdout",
     "output_type": "stream",
     "text": [
      "509430\n"
     ]
    }
   ],
   "source": [
    "def language_filter(movies, lang = 'English'):\n",
    "    lang_movies = set([])\n",
    "    movie = ('',0)\n",
    "    langs = set([])\n",
    "    with open('language.list', 'r', encoding = 'latin-1') as fp:\n",
    "        for line in iter(fp.readline, ''):\n",
    "            res = name_re.search(line)\n",
    "            if res:\n",
    "                if res.group(3) == lang:\n",
    "                    lang_movies.add(get_movie(res))\n",
    "    return movies & lang_movies\n",
    "\n",
    "movies = language_filter(movies)\n",
    "print(len(movies))"
   ]
  },
  {
   "cell_type": "code",
   "execution_count": 5,
   "metadata": {
    "collapsed": false,
    "scrolled": true
   },
   "outputs": [
    {
     "name": "stdout",
     "output_type": "stream",
     "text": [
      "[('The Two Ravens', 2016), ('Eyes of Christmas', 2013), ('Sonny', 2011), ('Glitch', 2003), ('Goodbye Lullaby: Bonus DVD', 2011), ('Sex and the City: A Farewell', 2004), ('Broken Pieces', 2015), ('Forbidden Games', 1990), ('Live with John Legend', 2012), ('Jezebel', 2006)]\n"
     ]
    }
   ],
   "source": [
    "import random\n",
    "print(random.sample(movies,10))"
   ]
  },
  {
   "cell_type": "markdown",
   "metadata": {},
   "source": [
    "Eliminate movies that do not have plots."
   ]
  },
  {
   "cell_type": "code",
   "execution_count": 6,
   "metadata": {
    "collapsed": false
   },
   "outputs": [
    {
     "name": "stdout",
     "output_type": "stream",
     "text": [
      "147238\n"
     ]
    }
   ],
   "source": [
    "def parse_lines(lines):\n",
    "    movie = None\n",
    "    plot = []\n",
    "    for line in lines:\n",
    "        if line.startswith('MV:'):\n",
    "            res = name_re.search(line[4:])\n",
    "            if res:\n",
    "                movie = get_movie(res)\n",
    "        elif line.startswith('PL:'):\n",
    "            plot.append(line[4:])\n",
    "    return movie, ' '.join(plot)\n",
    "\n",
    "def plot_filter(movies):\n",
    "    movie_plots  = { }\n",
    "    plots = []\n",
    "    lines = []\n",
    "    with open('plot.list', 'r', encoding = 'latin-1') as fp:\n",
    "        delim = '-'*79+'\\n'\n",
    "        for line in iter(fp.readline, ''):\n",
    "            if line == delim:\n",
    "                movie, plot = parse_lines(lines)\n",
    "                if movie in movie_plots:\n",
    "                    movie_plots[movie] = movie_plots[movie] + ' ' + plot\n",
    "                else:\n",
    "                    movie_plots[movie] = plot\n",
    "                lines = []\n",
    "            else:\n",
    "                lines.append(line.strip())\n",
    "    keys = movie_plots.keys() & movies\n",
    "    return {k:{'plot':movie_plots[k]} for k in keys}\n",
    "\n",
    "movies = plot_filter(movies)\n",
    "print(len(movies))"
   ]
  },
  {
   "cell_type": "code",
   "execution_count": 7,
   "metadata": {
    "collapsed": false,
    "scrolled": false
   },
   "outputs": [
    {
     "name": "stdout",
     "output_type": "stream",
     "text": [
      "('I Am a Man', 2010) {'plot': \"Personal. Humorous. Artistic. 'I Am A Man' is a personal documentary that focuses on the difficulties of being a single male in contemporary American society through the eyes of Renowned artist Charly Palmer and filmmaker Justin J.Jackson. 'I Am A Man' explores what it is to be a man through two drastically different individuals living in present day America.\"}\n",
      "('Noam Chomsky: Rebel Without a Pause', 2003) {'plot': \"Linguist, intellectual and activist, Noam Chomsky discusses and reflects on the state of world events including the War in Iraq, September 11th, the War on Terror, Media Manipulation and Control, Social Activism, Fear, and American Foreign Policy in both large forums and in small interactive discussions with other intellectuals, activists, fans, students and critics. Interwoven, is Dr. Carol Chomsky, Noam's wife and manager who reflects on what drives Noam and what life is like with him. Other candid reflections about Noam Chomsky and his thoughts, work and influece are offerred by others throughout the film.\"}\n",
      "('Mitchell 20', 2011) {'plot': 'This is the story of teachers as heroes during a tough time to be a teacher. In 2007, one teacher at Mitchell School in Phoenix, AZ set out to change her school. Little did she know she was starting a movement that would inspire others and change schools in Arizona and around the country. Along the way, the teachers at Mitchell have encountered no shortage of drama in and out of the school. The Mitchell 20 is a story of teachers and schools everywhere.'}\n",
      "(\"Scout's Honor\", 2011) {'plot': '\"Scouts Honor\" is the tale of an intelligent and tenacious young \\'Sunflower Scout\\' that while out one day selling sunflowers for a clubhouse charity event, crosses paths with a suspicious yet charismatic Stranger with plans of abducting the young girl. She is propelled into a life or death situation that puts her survival skills to a test far greater than any camping trip could.'}\n"
     ]
    }
   ],
   "source": [
    "for s in random.sample(list(movies),4):\n",
    "    print(s,movies[s])"
   ]
  },
  {
   "cell_type": "markdown",
   "metadata": {},
   "source": [
    "Write down the data in json format."
   ]
  },
  {
   "cell_type": "code",
   "execution_count": 8,
   "metadata": {
    "collapsed": false
   },
   "outputs": [],
   "source": [
    "def cast_filter(movies, file_name = 'actresses'):\n",
    "    keys  = set([])\n",
    "    with open(file_name+'.list','r',encoding = 'latin-1') as fp:\n",
    "        current_cast = ''\n",
    "        cast_re = re.compile(R'([^\\t]+?,.*)\\t+\"?(.*?)\"?\\s*\\((\\d+?)\\)\\s*(?:\\(.*?\\)\\s*|\\{.*\\}\\s*)*\\s*(\\w*)', re.U)\n",
    "        film_re = re.compile(R'\\t+\"?(.*?)\"?\\s*\\((\\d+?)\\)\\s*(?:\\(.*?\\)\\s*|\\{.*\\}\\s*)*\\s*(\\w*)', re.U)\n",
    "\n",
    "        for line in iter(fp.readline, ''):\n",
    "            res = cast_re.search(line)\n",
    "            if res:\n",
    "                current_cast = res.group(1).strip()\n",
    "                mov = (res.group(2),int(res.group(3)))\n",
    "                keys.add(mov)\n",
    "                if mov in movies:\n",
    "                    if 'cast' in movies[mov]:\n",
    "                        movies[mov]['cast'].append(current_cast)\n",
    "                    else:\n",
    "                        movies[mov]['cast'] = [current_cast]\n",
    "                            \n",
    "            else:\n",
    "                res2 = film_re.search(line)\n",
    "                if res2:\n",
    "                    mov = (res2.group(1),int(res2.group(2)))\n",
    "                    keys.add(mov)\n",
    "                    if mov in movies:\n",
    "                        if 'cast' in movies[mov]:\n",
    "                            movies[mov]['cast'].append(current_cast)\n",
    "                        else:\n",
    "                            movies[mov]['cast'] = [current_cast]\n",
    "    mkeys = keys & movies.keys()\n",
    "    return {k:v for k,v in movies.items() if k in mkeys}\n",
    "\n",
    "movies = cast_filter(movies)"
   ]
  },
  {
   "cell_type": "code",
   "execution_count": 11,
   "metadata": {
    "collapsed": false
   },
   "outputs": [
    {
     "name": "stdout",
     "output_type": "stream",
     "text": [
      "102783\n"
     ]
    }
   ],
   "source": [
    "print(len(movies))"
   ]
  },
  {
   "cell_type": "code",
   "execution_count": 12,
   "metadata": {
    "collapsed": false
   },
   "outputs": [
    {
     "name": "stdout",
     "output_type": "stream",
     "text": [
      "97880\n"
     ]
    }
   ],
   "source": [
    "movies = cast_filter(movies, file_name = 'actors')\n",
    "print(len(movies))"
   ]
  },
  {
   "cell_type": "code",
   "execution_count": 13,
   "metadata": {
    "collapsed": false
   },
   "outputs": [],
   "source": [
    "import io, json\n",
    "\n",
    "def write_movies(movies, path):\n",
    "    with io.open(path, 'w', encoding='latin-1') as f:\n",
    "        data = [{'title':title,'year':year,'plot':val['plot'], 'cast':val['cast']} \\\n",
    "                for (title,year),val in movies.items()]\n",
    "        f.write(json.dumps(data, ensure_ascii=False))\n",
    "        \n",
    "write_movies(movies, 'data.json')"
   ]
  },
  {
   "cell_type": "markdown",
   "metadata": {},
   "source": [
    "Create wrapper function for the whole thing."
   ]
  },
  {
   "cell_type": "code",
   "execution_count": 14,
   "metadata": {
    "collapsed": true
   },
   "outputs": [],
   "source": [
    "def prepare_movies(path = None):\n",
    "    movies = cast_filter(cast_filter(plot_filter(language_filter(year_filter(base_movies()))),'actors'))\n",
    "    if path is not None:\n",
    "        write_movies(movies, path)\n",
    "    \n",
    "    return movies\n"
   ]
  }
 ],
 "metadata": {
  "kernelspec": {
   "display_name": "Python 3",
   "language": "python",
   "name": "python3"
  },
  "language_info": {
   "codemirror_mode": {
    "name": "ipython",
    "version": 3
   },
   "file_extension": ".py",
   "mimetype": "text/x-python",
   "name": "python",
   "nbconvert_exporter": "python",
   "pygments_lexer": "ipython3",
   "version": "3.5.1"
  }
 },
 "nbformat": 4,
 "nbformat_minor": 0
}
